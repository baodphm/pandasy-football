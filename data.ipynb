{
 "cells": [
  {
   "cell_type": "code",
   "execution_count": 1,
   "metadata": {},
   "outputs": [],
   "source": [
    "import requests\n",
    "import json\n",
    "import csv\n",
    "import pandas as pd\n",
    "import matplotlib as plt\n",
    "import numpy as np\n",
    "from config import api_key"
   ]
  },
  {
   "cell_type": "code",
   "execution_count": 3,
   "metadata": {},
   "outputs": [
    {
     "data": {
      "text/plain": [
       "620"
      ]
     },
     "execution_count": 3,
     "metadata": {},
     "output_type": "execute_result"
    }
   ],
   "source": [
    "csvfile = \"./Resources/2019.csv\"\n",
    "csv_df = pd.read_csv(csvfile)\n",
    "csv_df[\"Year\"] = \"2019\"\n",
    "len(csv_df)"
   ]
  },
  {
   "cell_type": "code",
   "execution_count": 4,
   "metadata": {},
   "outputs": [
    {
     "data": {
      "text/plain": [
       "622"
      ]
     },
     "execution_count": 4,
     "metadata": {},
     "output_type": "execute_result"
    }
   ],
   "source": [
    "csvfile18 = \"./Resources/2018.csv\"\n",
    "csv_df18 = pd.read_csv(csvfile18)\n",
    "csv_df18[\"Year\"] = \"2018\"\n",
    "len(csv_df18)"
   ]
  },
  {
   "cell_type": "code",
   "execution_count": 5,
   "metadata": {},
   "outputs": [
    {
     "data": {
      "text/plain": [
       "571"
      ]
     },
     "execution_count": 5,
     "metadata": {},
     "output_type": "execute_result"
    }
   ],
   "source": [
    "csvfile17 = \"./Resources/2017.csv\"\n",
    "csv_df17 = pd.read_csv(csvfile17)\n",
    "csv_df17[\"Year\"] = \"2017\"\n",
    "len(csv_df17)"
   ]
  },
  {
   "cell_type": "code",
   "execution_count": 10,
   "metadata": {},
   "outputs": [
    {
     "data": {
      "text/plain": [
       "584"
      ]
     },
     "execution_count": 10,
     "metadata": {},
     "output_type": "execute_result"
    }
   ],
   "source": [
    "csvfile16 = \"./Resources/2016.csv\"\n",
    "csv_df16 = pd.read_csv(csvfile16)\n",
    "csv_df16[\"Year\"] = \"2016\"\n",
    "len(csv_df16)"
   ]
  },
  {
   "cell_type": "code",
   "execution_count": 12,
   "metadata": {},
   "outputs": [
    {
     "data": {
      "text/plain": [
       "595"
      ]
     },
     "execution_count": 12,
     "metadata": {},
     "output_type": "execute_result"
    }
   ],
   "source": [
    "csvfile15 = \"./Resources/2015.csv\"\n",
    "csv_df15 = pd.read_csv(csvfile15)\n",
    "csv_df15[\"Year\"] = \"2015\"\n",
    "len(csv_df15)"
   ]
  },
  {
   "cell_type": "code",
   "execution_count": 64,
   "metadata": {},
   "outputs": [],
   "source": [
    "combined_df = csv_df.append(csv_df18)\n",
    "combined_df = combined_df.append(csv_df17)\n",
    "combined_df = combined_df.append(csv_df16)\n",
    "combined_df = combined_df.append(csv_df15)\n",
    "combined_df.drop(\"Unnamed: 0\", axis=1, inplace=True)"
   ]
  },
  {
   "cell_type": "code",
   "execution_count": 84,
   "metadata": {},
   "outputs": [
    {
     "data": {
      "text/html": [
       "<div>\n",
       "<style scoped>\n",
       "    .dataframe tbody tr th:only-of-type {\n",
       "        vertical-align: middle;\n",
       "    }\n",
       "\n",
       "    .dataframe tbody tr th {\n",
       "        vertical-align: top;\n",
       "    }\n",
       "\n",
       "    .dataframe thead th {\n",
       "        text-align: right;\n",
       "    }\n",
       "</style>\n",
       "<table border=\"1\" class=\"dataframe\">\n",
       "  <thead>\n",
       "    <tr style=\"text-align: right;\">\n",
       "      <th></th>\n",
       "      <th>Player</th>\n",
       "      <th>Team</th>\n",
       "      <th>Position</th>\n",
       "      <th>Age</th>\n",
       "      <th>Completions</th>\n",
       "      <th>Interceptions</th>\n",
       "      <th>Targets</th>\n",
       "      <th>Receptions</th>\n",
       "      <th>YdsPerRec</th>\n",
       "      <th>Fumbles</th>\n",
       "      <th>...</th>\n",
       "      <th>FantasyPoints</th>\n",
       "      <th>FantasyYear</th>\n",
       "      <th>PlayerID</th>\n",
       "      <th>Height</th>\n",
       "      <th>HeightFeet</th>\n",
       "      <th>HeightInches</th>\n",
       "      <th>Weight</th>\n",
       "      <th>Experience</th>\n",
       "      <th>Position</th>\n",
       "      <th>ADP</th>\n",
       "    </tr>\n",
       "  </thead>\n",
       "  <tbody>\n",
       "    <tr>\n",
       "      <th>0</th>\n",
       "      <td>Christian McCaffrey</td>\n",
       "      <td>CAR</td>\n",
       "      <td>RB</td>\n",
       "      <td>23.0</td>\n",
       "      <td>0.0</td>\n",
       "      <td>0.0</td>\n",
       "      <td>142.0</td>\n",
       "      <td>116.0</td>\n",
       "      <td>8.66</td>\n",
       "      <td>1.0</td>\n",
       "      <td>...</td>\n",
       "      <td>469.2</td>\n",
       "      <td>2019</td>\n",
       "      <td>18877.0</td>\n",
       "      <td>5'11\"</td>\n",
       "      <td>5.0</td>\n",
       "      <td>11.0</td>\n",
       "      <td>205.0</td>\n",
       "      <td>5.0</td>\n",
       "      <td>RB</td>\n",
       "      <td>1.7</td>\n",
       "    </tr>\n",
       "    <tr>\n",
       "      <th>629</th>\n",
       "      <td>Christian McCaffrey</td>\n",
       "      <td>CAR</td>\n",
       "      <td>RB</td>\n",
       "      <td>22.0</td>\n",
       "      <td>1.0</td>\n",
       "      <td>0.0</td>\n",
       "      <td>124.0</td>\n",
       "      <td>107.0</td>\n",
       "      <td>8.10</td>\n",
       "      <td>4.0</td>\n",
       "      <td>...</td>\n",
       "      <td>385.5</td>\n",
       "      <td>2018</td>\n",
       "      <td>18877.0</td>\n",
       "      <td>5'11\"</td>\n",
       "      <td>5.0</td>\n",
       "      <td>11.0</td>\n",
       "      <td>205.0</td>\n",
       "      <td>5.0</td>\n",
       "      <td>RB</td>\n",
       "      <td>1.7</td>\n",
       "    </tr>\n",
       "    <tr>\n",
       "      <th>1302</th>\n",
       "      <td>Christian McCaffrey</td>\n",
       "      <td>CAR</td>\n",
       "      <td>RB</td>\n",
       "      <td>21.0</td>\n",
       "      <td>0.0</td>\n",
       "      <td>0.0</td>\n",
       "      <td>113.0</td>\n",
       "      <td>80.0</td>\n",
       "      <td>8.14</td>\n",
       "      <td>2.0</td>\n",
       "      <td>...</td>\n",
       "      <td>228.6</td>\n",
       "      <td>2017</td>\n",
       "      <td>18877.0</td>\n",
       "      <td>5'11\"</td>\n",
       "      <td>5.0</td>\n",
       "      <td>11.0</td>\n",
       "      <td>205.0</td>\n",
       "      <td>5.0</td>\n",
       "      <td>RB</td>\n",
       "      <td>1.7</td>\n",
       "    </tr>\n",
       "  </tbody>\n",
       "</table>\n",
       "<p>3 rows × 29 columns</p>\n",
       "</div>"
      ],
      "text/plain": [
       "                   Player Team  Position   Age  Completions  Interceptions  \\\n",
       "0     Christian McCaffrey  CAR        RB  23.0          0.0            0.0   \n",
       "629   Christian McCaffrey  CAR        RB  22.0          1.0            0.0   \n",
       "1302  Christian McCaffrey  CAR        RB  21.0          0.0            0.0   \n",
       "\n",
       "      Targets  Receptions  YdsPerRec  Fumbles  ...  FantasyPoints  \\\n",
       "0       142.0       116.0       8.66      1.0  ...          469.2   \n",
       "629     124.0       107.0       8.10      4.0  ...          385.5   \n",
       "1302    113.0        80.0       8.14      2.0  ...          228.6   \n",
       "\n",
       "      FantasyYear  PlayerID  Height  HeightFeet  HeightInches  Weight  \\\n",
       "0            2019   18877.0   5'11\"         5.0          11.0   205.0   \n",
       "629          2018   18877.0   5'11\"         5.0          11.0   205.0   \n",
       "1302         2017   18877.0   5'11\"         5.0          11.0   205.0   \n",
       "\n",
       "      Experience  Position  ADP  \n",
       "0            5.0        RB  1.7  \n",
       "629          5.0        RB  1.7  \n",
       "1302         5.0        RB  1.7  \n",
       "\n",
       "[3 rows x 29 columns]"
      ]
     },
     "execution_count": 84,
     "metadata": {},
     "output_type": "execute_result"
    }
   ],
   "source": [
    "playercsv = \"./Resources/player_data.csv\"\n",
    "player_df = pd.read_csv(playercsv)\n",
    "merged_df = pd.merge(combined_df, player_df, left_on = \"Player\", right_on = \"Name\", how=\"left\")\n",
    "merged_df.drop(columns=[\"G\", \"GS\", \"Att\", \"Yds\", \"Att.1\", \"Yds.1\", \"Yds.2\", \"Name\", \"Salary\"], inplace=True)\n",
    "merged_df.drop(\"Unnamed: 0\", axis=1, inplace=True)\n",
    "merged_df.rename(columns={\n",
    "    \"Tm\": \"Team\",\n",
    "    \"Pos\": \"Position\",\n",
    "    \"Cmp\": \"Completions\",\n",
    "    \"Int\": \"Interceptions\",\n",
    "    \"Tgt\": \"Targets\",\n",
    "    \"Y/R\": \"YdsPerRec\",\n",
    "    \"Rec\": \"Receptions\",\n",
    "    \"Year\": \"FantasyYear\"\n",
    "}, inplace=True)\n",
    "merged_df.loc[merged_df[\"Player\"]==\"Christian McCaffrey\"]"
   ]
  },
  {
   "cell_type": "code",
   "execution_count": 85,
   "metadata": {},
   "outputs": [
    {
     "data": {
      "text/plain": [
       "Index(['Player', 'Team', 'Position', 'Age', 'Completions', 'Interceptions',\n",
       "       'Targets', 'Receptions', 'YdsPerRec', 'Fumbles', 'FumblesLost',\n",
       "       'PassingYds', 'PassingTD', 'PassingAtt', 'RushingYds', 'RushingTD',\n",
       "       'RushingAtt', 'ReceivingYds', 'ReceivingTD', 'FantasyPoints',\n",
       "       'FantasyYear', 'PlayerID', 'Height', 'HeightFeet', 'HeightInches',\n",
       "       'Weight', 'Experience', 'Position', 'ADP'],\n",
       "      dtype='object')"
      ]
     },
     "execution_count": 85,
     "metadata": {},
     "output_type": "execute_result"
    }
   ],
   "source": [
    "merged_df.columns"
   ]
  },
  {
   "cell_type": "code",
   "execution_count": null,
   "metadata": {},
   "outputs": [],
   "source": []
  }
 ],
 "metadata": {
  "kernelspec": {
   "display_name": "Python 3",
   "language": "python",
   "name": "python3"
  },
  "language_info": {
   "codemirror_mode": {
    "name": "ipython",
    "version": 3
   },
   "file_extension": ".py",
   "mimetype": "text/x-python",
   "name": "python",
   "nbconvert_exporter": "python",
   "pygments_lexer": "ipython3",
   "version": "3.8.5"
  }
 },
 "nbformat": 4,
 "nbformat_minor": 4
}
