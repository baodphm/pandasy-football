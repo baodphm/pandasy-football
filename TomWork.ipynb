{
 "cells": [
  {
   "cell_type": "code",
   "execution_count": 3,
   "metadata": {
    "jupyter": {
     "source_hidden": true
    }
   },
   "outputs": [],
   "source": [
    "# Dependencies\n",
    "import pandas as pd\n",
    "import os\n",
    "import requests\n",
    "import numpy as np\n",
    "from matplotlib import pyplot as plt\n",
    "import json\n",
    "import csv"
   ]
  },
  {
   "cell_type": "code",
   "execution_count": 91,
   "metadata": {
    "collapsed": true,
    "jupyter": {
     "outputs_hidden": true,
     "source_hidden": true
    }
   },
   "outputs": [
    {
     "data": {
      "text/plain": [
       "Index(['Unnamed: 0', 'Player', 'Tm', 'Pos', 'Age', 'G', 'GS', 'Cmp', 'Att',\n",
       "       'Yds', 'Int', 'Att.1', 'Yds.1', 'Tgt', 'Rec', 'Yds.2', 'Y/R', 'Fumbles',\n",
       "       'FumblesLost', 'PassingYds', 'PassingTD', 'PassingAtt', 'RushingYds',\n",
       "       'RushingTD', 'RushingAtt', 'ReceivingYds', 'ReceivingTD',\n",
       "       'FantasyPoints'],\n",
       "      dtype='object')"
      ]
     },
     "execution_count": 91,
     "metadata": {},
     "output_type": "execute_result"
    }
   ],
   "source": [
    "# Import CSVs (2015)\n",
    "\n",
    "player_data_15 = pd.read_csv(\"2015.csv\")\n",
    "\n",
    "player_data_15.columns\n"
   ]
  },
  {
   "cell_type": "code",
   "execution_count": 95,
   "metadata": {
    "collapsed": true,
    "jupyter": {
     "outputs_hidden": true,
     "source_hidden": true
    }
   },
   "outputs": [
    {
     "data": {
      "text/plain": [
       "Index(['Unnamed: 0', 'Player', 'Tm', 'Pos', 'Age', 'G', 'GS', 'Cmp', 'Att',\n",
       "       'Yds', 'Int', 'Att.1', 'Yds.1', 'Tgt', 'Rec', 'Yds.2', 'Y/R', 'Fumbles',\n",
       "       'FumblesLost', 'PassingYds', 'PassingTD', 'PassingAtt', 'RushingYds',\n",
       "       'RushingTD', 'RushingAtt', 'ReceivingYds', 'ReceivingTD',\n",
       "       'FantasyPoints'],\n",
       "      dtype='object')"
      ]
     },
     "execution_count": 95,
     "metadata": {},
     "output_type": "execute_result"
    }
   ],
   "source": [
    "# Import CSVs (2016)\n",
    "\n",
    "player_data_16 = pd.read_csv(\"2016.csv\")\n",
    "\n",
    "player_data_16.columns\n"
   ]
  },
  {
   "cell_type": "code",
   "execution_count": 94,
   "metadata": {
    "collapsed": true,
    "jupyter": {
     "outputs_hidden": true,
     "source_hidden": true
    }
   },
   "outputs": [
    {
     "data": {
      "text/plain": [
       "Index(['Unnamed: 0', 'Player', 'Tm', 'Pos', 'Age', 'G', 'GS', 'Cmp', 'Att',\n",
       "       'Yds', 'Int', 'Att.1', 'Yds.1', 'Tgt', 'Rec', 'Yds.2', 'Y/R', 'Fumbles',\n",
       "       'FumblesLost', 'PassingYds', 'PassingTD', 'PassingAtt', 'RushingYds',\n",
       "       'RushingTD', 'RushingAtt', 'ReceivingYds', 'ReceivingTD',\n",
       "       'FantasyPoints'],\n",
       "      dtype='object')"
      ]
     },
     "execution_count": 94,
     "metadata": {},
     "output_type": "execute_result"
    }
   ],
   "source": [
    "# Import CSVs (2017)\n",
    "\n",
    "player_data_17 = pd.read_csv(\"2017.csv\")\n",
    "\n",
    "player_data_17.columns\n"
   ]
  },
  {
   "cell_type": "code",
   "execution_count": 93,
   "metadata": {
    "collapsed": true,
    "jupyter": {
     "outputs_hidden": true,
     "source_hidden": true
    }
   },
   "outputs": [
    {
     "data": {
      "text/plain": [
       "Index(['Unnamed: 0', 'Player', 'Tm', 'Pos', 'Age', 'G', 'GS', 'Cmp', 'Att',\n",
       "       'Yds', 'Int', 'Att.1', 'Yds.1', 'Tgt', 'Rec', 'Yds.2', 'Y/R', 'Fumbles',\n",
       "       'FumblesLost', 'PassingYds', 'PassingTD', 'PassingAtt', 'RushingYds',\n",
       "       'RushingTD', 'RushingAtt', 'ReceivingYds', 'ReceivingTD',\n",
       "       'FantasyPoints'],\n",
       "      dtype='object')"
      ]
     },
     "execution_count": 93,
     "metadata": {},
     "output_type": "execute_result"
    }
   ],
   "source": [
    "# Import CSVs 2018\n",
    "\n",
    "player_data_18 = pd.read_csv(\"2018.csv\")\n",
    "\n",
    "player_data.columns\n"
   ]
  },
  {
   "cell_type": "code",
   "execution_count": 92,
   "metadata": {
    "collapsed": true,
    "jupyter": {
     "outputs_hidden": true,
     "source_hidden": true
    }
   },
   "outputs": [
    {
     "data": {
      "text/plain": [
       "Index(['Unnamed: 0', 'Player', 'Tm', 'Pos', 'Age', 'G', 'GS', 'Cmp', 'Att',\n",
       "       'Yds', 'Int', 'Att.1', 'Yds.1', 'Tgt', 'Rec', 'Yds.2', 'Y/R', 'Fumbles',\n",
       "       'FumblesLost', 'PassingYds', 'PassingTD', 'PassingAtt', 'RushingYds',\n",
       "       'RushingTD', 'RushingAtt', 'ReceivingYds', 'ReceivingTD',\n",
       "       'FantasyPoints'],\n",
       "      dtype='object')"
      ]
     },
     "execution_count": 92,
     "metadata": {},
     "output_type": "execute_result"
    }
   ],
   "source": [
    "# Import CSVs\n",
    "\n",
    "player_data_19 = pd.read_csv(\"2019.csv\")\n",
    "\n",
    "player_data_19.columns\n"
   ]
  },
  {
   "cell_type": "code",
   "execution_count": 116,
   "metadata": {},
   "outputs": [
    {
     "data": {
      "text/html": [
       "<div>\n",
       "<style scoped>\n",
       "    .dataframe tbody tr th:only-of-type {\n",
       "        vertical-align: middle;\n",
       "    }\n",
       "\n",
       "    .dataframe tbody tr th {\n",
       "        vertical-align: top;\n",
       "    }\n",
       "\n",
       "    .dataframe thead th {\n",
       "        text-align: right;\n",
       "    }\n",
       "</style>\n",
       "<table border=\"1\" class=\"dataframe\">\n",
       "  <thead>\n",
       "    <tr style=\"text-align: right;\">\n",
       "      <th></th>\n",
       "      <th>Unnamed: 0</th>\n",
       "      <th>Player</th>\n",
       "      <th>Tm</th>\n",
       "      <th>Age</th>\n",
       "      <th>G</th>\n",
       "      <th>GS</th>\n",
       "      <th>Cmp</th>\n",
       "      <th>Att</th>\n",
       "      <th>Yds</th>\n",
       "      <th>Int</th>\n",
       "      <th>...</th>\n",
       "      <th>FumblesLost</th>\n",
       "      <th>PassingYds</th>\n",
       "      <th>PassingTD</th>\n",
       "      <th>PassingAtt</th>\n",
       "      <th>RushingYds</th>\n",
       "      <th>RushingTD</th>\n",
       "      <th>RushingAtt</th>\n",
       "      <th>ReceivingYds</th>\n",
       "      <th>ReceivingTD</th>\n",
       "      <th>FantasyPoints</th>\n",
       "    </tr>\n",
       "    <tr>\n",
       "      <th>Pos</th>\n",
       "      <th></th>\n",
       "      <th></th>\n",
       "      <th></th>\n",
       "      <th></th>\n",
       "      <th></th>\n",
       "      <th></th>\n",
       "      <th></th>\n",
       "      <th></th>\n",
       "      <th></th>\n",
       "      <th></th>\n",
       "      <th></th>\n",
       "      <th></th>\n",
       "      <th></th>\n",
       "      <th></th>\n",
       "      <th></th>\n",
       "      <th></th>\n",
       "      <th></th>\n",
       "      <th></th>\n",
       "      <th></th>\n",
       "      <th></th>\n",
       "      <th></th>\n",
       "    </tr>\n",
       "  </thead>\n",
       "  <tbody>\n",
       "    <tr>\n",
       "      <th>RB</th>\n",
       "      <td>1</td>\n",
       "      <td>Devonta Freeman</td>\n",
       "      <td>ATL</td>\n",
       "      <td>23.0</td>\n",
       "      <td>15.0</td>\n",
       "      <td>13.0</td>\n",
       "      <td>0.0</td>\n",
       "      <td>0.0</td>\n",
       "      <td>0.0</td>\n",
       "      <td>0.0</td>\n",
       "      <td>...</td>\n",
       "      <td>2.0</td>\n",
       "      <td>0.0</td>\n",
       "      <td>0.0</td>\n",
       "      <td>0.0</td>\n",
       "      <td>1056.0</td>\n",
       "      <td>11.0</td>\n",
       "      <td>265.0</td>\n",
       "      <td>578.0</td>\n",
       "      <td>3.0</td>\n",
       "      <td>316.4</td>\n",
       "    </tr>\n",
       "  </tbody>\n",
       "</table>\n",
       "<p>1 rows × 27 columns</p>\n",
       "</div>"
      ],
      "text/plain": [
       "     Unnamed: 0           Player   Tm   Age     G    GS  Cmp  Att  Yds  Int  \\\n",
       "Pos                                                                           \n",
       "RB            1  Devonta Freeman  ATL  23.0  15.0  13.0  0.0  0.0  0.0  0.0   \n",
       "\n",
       "     ...  FumblesLost  PassingYds  PassingTD  PassingAtt  RushingYds  \\\n",
       "Pos  ...                                                               \n",
       "RB   ...          2.0         0.0        0.0         0.0      1056.0   \n",
       "\n",
       "     RushingTD  RushingAtt  ReceivingYds  ReceivingTD  FantasyPoints  \n",
       "Pos                                                                   \n",
       "RB        11.0       265.0         578.0          3.0          316.4  \n",
       "\n",
       "[1 rows x 27 columns]"
      ]
     },
     "execution_count": 116,
     "metadata": {},
     "output_type": "execute_result"
    }
   ],
   "source": [
    "# Assemble new dataframes of runningbacks / Set Index to Positions / Set by year \n",
    "# Don't have to print all of them, just to show. \n",
    "\n",
    "#2019\n",
    "\n",
    "data_pos_19 = player_data_19.set_index([\"Pos\"])\n",
    "\n",
    "skill_data_19 = data_pos_19.drop(['QB','0','WR','TE'])\n",
    "\n",
    "# 2018\n",
    "\n",
    "data_pos_18 = player_data_18.set_index([\"Pos\"])\n",
    "\n",
    "skill_data_18 = data_pos_18.drop(['QB','0','WR','TE'])\n",
    "\n",
    "#2017\n",
    "\n",
    "data_pos_17 = player_data_17.set_index([\"Pos\"])\n",
    "\n",
    "skill_data_17 = data_pos_17.drop(['QB','0','WR','TE'])\n",
    "\n",
    "#2016\n",
    "\n",
    "data_pos_16 = player_data_16.set_index([\"Pos\"])\n",
    "\n",
    "skill_data_16 = data_pos_16.drop(['QB','0','WR','TE'])\n",
    "\n",
    "#2015\n",
    "\n",
    "data_pos_15 = player_data_15.set_index([\"Pos\"])\n",
    "\n",
    "skill_data_15 = data_pos_15.drop(['QB','0','WR','TE'])\n",
    "\n",
    "skill_data_15.head(1)"
   ]
  },
  {
   "cell_type": "code",
   "execution_count": 128,
   "metadata": {},
   "outputs": [
    {
     "data": {
      "image/png": "[encoded data removed]",
      "text/plain": [
       "<Figure size 432x288 with 1 Axes>"
      ]
     },
     "metadata": {
      "needs_background": "light"
     },
     "output_type": "display_data"
    }
   ],
   "source": [
    "# find histogram \n",
    "fantasypoints_19 = skill_data_19[\"FantasyPoints\"]\n",
    "\n",
    "fantasypoints_18 = skill_data_18[\"FantasyPoints\"]\n",
    "\n",
    "fantasypoints_17 = skill_data_17[\"FantasyPoints\"]\n",
    "\n",
    "fantasypoints_16 = skill_data_16[\"FantasyPoints\"]\n",
    "\n",
    "fantasypoints_15 = skill_data_15[\"FantasyPoints\"]\n",
    "\n",
    "# Label Years // Try to Soften Colors\n",
    "\n",
    "fantasypoints_15.hist()\n",
    "fantasypoints_16.hist()\n",
    "fantasypoints_18.hist()\n",
    "fantasypoints_19.hist()\n",
    "plt.xlabel(\"Total Fantasy Points\")\n",
    "plt.ylabel(\"Frequency\")\n",
    "plt.show()"
   ]
  },
  {
   "cell_type": "code",
   "execution_count": 124,
   "metadata": {
    "collapsed": true,
    "jupyter": {
     "outputs_hidden": true,
     "source_hidden": true
    }
   },
   "outputs": [
    {
     "data": {
      "text/plain": [
       "count    153.000000\n",
       "mean      79.707712\n",
       "std       88.202045\n",
       "min        0.300000\n",
       "25%        9.800000\n",
       "50%       48.200000\n",
       "75%      135.400000\n",
       "max      469.200000\n",
       "Name: FantasyPoints, dtype: float64"
      ]
     },
     "execution_count": 124,
     "metadata": {},
     "output_type": "execute_result"
    }
   ],
   "source": [
    "desc_fantpts_19 = skill_data_19.describe()[\"FantasyPoints\"]\n",
    "desc_fantpts_19"
   ]
  },
  {
   "cell_type": "code",
   "execution_count": 129,
   "metadata": {
    "collapsed": true,
    "jupyter": {
     "outputs_hidden": true,
     "source_hidden": true
    }
   },
   "outputs": [
    {
     "data": {
      "text/plain": [
       "count    155.000000\n",
       "mean      79.670968\n",
       "std       88.505393\n",
       "min       -0.100000\n",
       "25%        8.300000\n",
       "50%       49.700000\n",
       "75%      123.800000\n",
       "max      385.500000\n",
       "Name: FantasyPoints, dtype: float64"
      ]
     },
     "execution_count": 129,
     "metadata": {},
     "output_type": "execute_result"
    }
   ],
   "source": [
    "desc_fantpts_18 = skill_data_18.describe()[\"FantasyPoints\"]\n",
    "desc_fantpts_18"
   ]
  },
  {
   "cell_type": "code",
   "execution_count": 130,
   "metadata": {
    "collapsed": true,
    "jupyter": {
     "outputs_hidden": true,
     "source_hidden": true
    }
   },
   "outputs": [
    {
     "data": {
      "text/plain": [
       "count    158.000000\n",
       "mean      75.650886\n",
       "std       80.852657\n",
       "min       -0.200000\n",
       "25%       11.000000\n",
       "50%       45.800000\n",
       "75%      123.400000\n",
       "max      383.300000\n",
       "Name: FantasyPoints, dtype: float64"
      ]
     },
     "execution_count": 130,
     "metadata": {},
     "output_type": "execute_result"
    }
   ],
   "source": [
    "desc_fantpts_17 = skill_data_17.describe()[\"FantasyPoints\"]\n",
    "desc_fantpts_17"
   ]
  },
  {
   "cell_type": "code",
   "execution_count": 131,
   "metadata": {
    "collapsed": true,
    "jupyter": {
     "outputs_hidden": true,
     "source_hidden": true
    }
   },
   "outputs": [
    {
     "data": {
      "text/plain": [
       "count    171.000000\n",
       "mean      69.312281\n",
       "std       81.040511\n",
       "min       -0.400000\n",
       "25%        8.000000\n",
       "50%       35.300000\n",
       "75%      107.000000\n",
       "max      405.800000\n",
       "Name: FantasyPoints, dtype: float64"
      ]
     },
     "execution_count": 131,
     "metadata": {},
     "output_type": "execute_result"
    }
   ],
   "source": [
    "# find q's 16\n",
    "\n",
    "desc_fantpts_16 = skill_data_16.describe()[\"FantasyPoints\"]\n",
    "desc_fantpts_16"
   ]
  },
  {
   "cell_type": "code",
   "execution_count": 132,
   "metadata": {
    "collapsed": true,
    "jupyter": {
     "outputs_hidden": true,
     "source_hidden": true
    }
   },
   "outputs": [
    {
     "data": {
      "text/plain": [
       "count    165.000000\n",
       "mean      70.762061\n",
       "std       70.723497\n",
       "min       -2.800000\n",
       "25%       12.700000\n",
       "50%       40.700000\n",
       "75%      117.000000\n",
       "max      316.400000\n",
       "Name: FantasyPoints, dtype: float64"
      ]
     },
     "execution_count": 132,
     "metadata": {},
     "output_type": "execute_result"
    }
   ],
   "source": [
    "# Find quartiles for '15'\n",
    "\n",
    "desc_fantpts_15 = skill_data_15.describe()[\"FantasyPoints\"]\n",
    "desc_fantpts_15"
   ]
  },
  {
   "cell_type": "code",
   "execution_count": 149,
   "metadata": {},
   "outputs": [],
   "source": [
    "# Establishe top quartile per year\n",
    "\n",
    "top_q_scorers_15 = skill_data_15[skill_data_15[\"FantasyPoints\"].ge(117)]\n",
    "\n",
    "top_q_scorers_16 = skill_data_16[skill_data_16[\"FantasyPoints\"].ge(107)]\n",
    "\n",
    "top_q_scorers_17 = skill_data_17[skill_data_17[\"FantasyPoints\"].ge(123.4)]\n",
    "\n",
    "top_q_scorers_18 =skill_data_18[skill_data_18[\"FantasyPoints\"].ge(123.8)]\n",
    "\n",
    "top_q_scorers_19 = skill_data[skill_data[\"FantasyPoints\"].ge(136.4)]\n",
    "\n",
    "# Build Columns of Rushing/Receiving Yds per Year, then Put into DF\n",
    "\n",
    "# 2019\n",
    "\n",
    "tq_rushyds_19 = top_q_scorers_19[\"RushingYds\"]\n",
    "\n",
    "tq_recyds_19 = top_q_scorers_19[\"ReceivingYds\"]\n",
    "\n",
    "tq_totalyds_19 = tq_rushyds_19 + tq_recyds_19\n",
    "\n",
    "\n",
    "#2018\n",
    "\n",
    "tq_rushyds_18 = top_q_scorers_18[\"RushingYds\"]\n",
    "\n",
    "tq_recyds_18 = top_q_scorers_18[\"ReceivingYds\"]\n",
    "\n",
    "tq_totalyds_18 = tq_rushyds_18 + tq_recyds_18\n",
    "\n",
    "\n",
    "#2017\n",
    "\n",
    "tq_rushyds_17 = top_q_scorers_17[\"RushingYds\"]\n",
    "\n",
    "tq_recyds_17 = top_q_scorers_17[\"ReceivingYds\"]\n",
    "\n",
    "tq_totalyds_17 = tq_rushyds_17 + tq_recyds_17\n",
    "\n",
    "\n",
    "#2016\n",
    "\n",
    "tq_rushyds_16 = top_q_scorers_16[\"RushingYds\"]\n",
    "\n",
    "tq_recyds_16 = top_q_scorers_16[\"ReceivingYds\"]\n",
    "\n",
    "tq_totalyds_16 = tq_rushyds_16 + tq_recyds_16\n",
    "\n",
    "\n",
    "#2015\n",
    "\n",
    "tq_rushyds_15 = top_q_scorers_15[\"RushingYds\"]\n",
    "\n",
    "tq_recyds_15 = top_q_scorers_15[\"ReceivingYds\"]\n",
    "\n",
    "tq_totalyds_15 = tq_rushyds_15 + tq_recyds_15\n",
    "\n",
    "#big_df = pd.DataFrame({\n",
    "    \n",
    " #   \"'15 Rushing Yds'\": tq_rushyds_15,\n",
    "  #  \"'15 Receiving Yds'\": tq_rushyds_15,\n",
    "   # \"'15 Total Yds'\": tq_totalyds_15,\n",
    "   # \"'16 Rushing Yds'\": tq_rushyds_16,\n",
    "   # \"'16 Receiving Yds'\": tq_recyds_16,\n",
    "   # \"'16 Total Yds'\": tq_totalyds_16,\n",
    "   # \"'17 Rushing Yds'\": tq_rushyds_17,\n",
    "   # \"'17 Receiving Yds'\": tq_recyds_17,\n",
    "   # \"'17 Total Yds'\": tq_totalyds_17,\n",
    "   # \"'18 Rushing Yds'\": tq_rushyds_18,\n",
    "   # \"'18 Receiving Yds'\": tq_recyds_18,\n",
    "   # \"'18 Total Yds'\": tq_totalyds_18,\n",
    "   # \"'19 Rushing Yds'\": tq_rushyds_19,\n",
    "   # \"'19 Receiving Yds'\": tq_recyds_19,\n",
    "   # \"'19 Total Yds'\": tq_totalyds_19})\n",
    "\n"
   ]
  },
  {
   "cell_type": "code",
   "execution_count": 177,
   "metadata": {},
   "outputs": [
    {
     "data": {
      "image/png": "[encoded data removed]",
      "text/plain": [
       "<Figure size 360x360 with 1 Axes>"
      ]
     },
     "metadata": {},
     "output_type": "display_data"
    },
    {
     "data": {
      "image/png": "[encoded data removed]",
      "text/plain": [
       "<Figure size 360x360 with 1 Axes>"
      ]
     },
     "metadata": {},
     "output_type": "display_data"
    }
   ],
   "source": [
    "# plot the pie charts -- TOP QUARTILE\n",
    "\n",
    "labels = [\"receiving\",\"rushing\"]\n",
    "\n",
    "# 2015\n",
    "\n",
    "sum_15_rushing = tq_rushyds_15.sum()\n",
    "\n",
    "sum_15_receiving = tq_recyds_15.sum()\n",
    "\n",
    "sizes_15 = [sum_15_receiving,sum_15_rushing]\n",
    "\n",
    "plt.figure(figsize=(5,5))\n",
    "\n",
    "plt.pie(sizes_15,labels=labels,autopct='%1.1f%%')\n",
    "\n",
    "plt.title(\"Top Quartile Total Yardage Composition -- 2015\")\n",
    "\n",
    "# 2016\n",
    "\n",
    "sum_16_rushing = tq_rushyds_16.sum()\n",
    "\n",
    "sum_16_receiving = tq_recyds_16.sum()\n",
    "\n",
    "sizes_16 = [sum_16_receiving,sum_16_rushing]\n",
    "\n",
    "plt.figure(figsize=(5,5))\n",
    "\n",
    "plt.pie(sizes_16, labels=labels, autopct='%1.1f%%')\n",
    "\n",
    "plt.title(\"Top Quartile Total Yardage Composition -- 2016\")\n",
    "\n",
    "plt.show()"
   ]
  },
  {
   "cell_type": "code",
   "execution_count": 181,
   "metadata": {},
   "outputs": [
    {
     "data": {
      "image/png": "[encoded data removed]",
      "text/plain": [
       "<Figure size 360x360 with 1 Axes>"
      ]
     },
     "metadata": {},
     "output_type": "display_data"
    }
   ],
   "source": [
    "# Full League Split --- Rushing vs. Receiving\n",
    "\n",
    "labels = [\"receiving\", \"rushing\"]\n",
    "\n",
    "whole_sum_rush_15 = skill_data_15[\"RushingYds\"].sum()\n",
    "\n",
    "whole_sum_rec_15 = skill_data_15[\"ReceivingYds\"].sum()\n",
    "\n",
    "sizes_60 = [whole_sum_rec_15,whole_sum_rush_15]\n",
    "\n",
    "plt.figure(figsize=(5,5))\n",
    "\n",
    "plt.pie(sizes_60,labels=labels, autopct = '%1.1f%%')\n",
    "\n",
    "plt.show()"
   ]
  },
  {
   "cell_type": "raw",
   "metadata": {
    "jupyter": {
     "source_hidden": true
    }
   },
   "source": [
    "# Plot Pie Charts Depicting share of total yardage from receptions versus rushing\n",
    "\n",
    "\n",
    "# Create Ticks\n",
    "\n",
    "years = ['2015','2016','2017','2018']\n",
    "\n",
    "rshyds_by_year = ['tq_rushyds_15','tq_rushyds_16','tq_rushyds_17','tq_rushyds_18','tq_rushyds_19']\n",
    "\n",
    "recyds_by_year = ['tq_recyds_15','tq_recyds_16','tq_recyds_17','tq_recyds_18','tq_recyds_19']\n",
    "\n",
    "# Params \n",
    "\n",
    "n = 4\n",
    "\n",
    "barWidth = .5\n",
    "\n",
    "xloc = np.arange(n)\n",
    "\n",
    "\n",
    "p1 = plt.bar(xloc,rshyds_by_year, width=barWidth)\n",
    "p2 = plt.bar(xloc, recyds_by_year, bottom=rshyds_by_year,width=barWidth)\n",
    "\n",
    "plt.show()"
   ]
  },
  {
   "cell_type": "code",
   "execution_count": 152,
   "metadata": {
    "collapsed": true,
    "jupyter": {
     "outputs_hidden": true,
     "source_hidden": true
    }
   },
   "outputs": [
    {
     "data": {
      "text/plain": [
       "116.0"
      ]
     },
     "execution_count": 152,
     "metadata": {},
     "output_type": "execute_result"
    }
   ],
   "source": [
    "#COME back to this if you have tim\n",
    "desc_rec = skill_data_19.groupby([\"Pos\"]).describe()[\"Rec\"]\n",
    "\n",
    "desc_rec\n",
    "\n"
   ]
  },
  {
   "cell_type": "code",
   "execution_count": 8,
   "metadata": {
    "collapsed": true,
    "jupyter": {
     "outputs_hidden": true,
     "source_hidden": true
    }
   },
   "outputs": [
    {
     "data": {
      "image/png": "[encoded data removed]",
      "text/plain": [
       "<Figure size 432x288 with 1 Axes>"
      ]
     },
     "metadata": {
      "needs_background": "light"
     },
     "output_type": "display_data"
    }
   ],
   "source": [
    "# Histogram --\n",
    "\n",
    "rec_data_df = skill_data_19[\"Rec\"]\n",
    "\n",
    "\n",
    "rec_data_df.hist()\n",
    "plt.xlabel(\"Total Receptions by Player\")\n",
    "plt.ylabel(\"Number of Players\")\n",
    "plt.show()\n"
   ]
  },
  {
   "cell_type": "code",
   "execution_count": 15,
   "metadata": {
    "collapsed": true,
    "jupyter": {
     "outputs_hidden": true,
     "source_hidden": true
    }
   },
   "outputs": [
    {
     "data": {
      "text/html": [
       "<div>\n",
       "<style scoped>\n",
       "    .dataframe tbody tr th:only-of-type {\n",
       "        vertical-align: middle;\n",
       "    }\n",
       "\n",
       "    .dataframe tbody tr th {\n",
       "        vertical-align: top;\n",
       "    }\n",
       "\n",
       "    .dataframe thead th {\n",
       "        text-align: right;\n",
       "    }\n",
       "</style>\n",
       "<table border=\"1\" class=\"dataframe\">\n",
       "  <thead>\n",
       "    <tr style=\"text-align: right;\">\n",
       "      <th></th>\n",
       "      <th>count</th>\n",
       "      <th>mean</th>\n",
       "      <th>std</th>\n",
       "      <th>min</th>\n",
       "      <th>25%</th>\n",
       "      <th>50%</th>\n",
       "      <th>75%</th>\n",
       "      <th>max</th>\n",
       "    </tr>\n",
       "    <tr>\n",
       "      <th>Pos</th>\n",
       "      <th></th>\n",
       "      <th></th>\n",
       "      <th></th>\n",
       "      <th></th>\n",
       "      <th></th>\n",
       "      <th></th>\n",
       "      <th></th>\n",
       "      <th></th>\n",
       "    </tr>\n",
       "  </thead>\n",
       "  <tbody>\n",
       "    <tr>\n",
       "      <th>RB</th>\n",
       "      <td>802.0</td>\n",
       "      <td>134.649626</td>\n",
       "      <td>162.674205</td>\n",
       "      <td>-6.0</td>\n",
       "      <td>17.0</td>\n",
       "      <td>73.0</td>\n",
       "      <td>200.75</td>\n",
       "      <td>1005.0</td>\n",
       "    </tr>\n",
       "  </tbody>\n",
       "</table>\n",
       "</div>"
      ],
      "text/plain": [
       "     count        mean         std  min   25%   50%     75%     max\n",
       "Pos                                                                \n",
       "RB   802.0  134.649626  162.674205 -6.0  17.0  73.0  200.75  1005.0"
      ]
     },
     "execution_count": 15,
     "metadata": {},
     "output_type": "execute_result"
    }
   ],
   "source": [
    "desc_rec = skill_data.groupby([\"Pos\"]).describe()[\"ReceivingYds\"]\n",
    "\n",
    "desc_rec\n"
   ]
  },
  {
   "cell_type": "code",
   "execution_count": 9,
   "metadata": {
    "collapsed": true,
    "jupyter": {
     "outputs_hidden": true,
     "source_hidden": true
    }
   },
   "outputs": [
    {
     "data": {
      "image/png": "[encoded data removed]",
      "text/plain": [
       "<Figure size 432x288 with 1 Axes>"
      ]
     },
     "metadata": {
      "needs_background": "light"
     },
     "output_type": "display_data"
    }
   ],
   "source": [
    "# Histogram --\n",
    "\n",
    "recyds_df = skill_data[\"ReceivingYds\"]\n",
    "\n",
    "\n",
    "recyds_df.hist()\n",
    "plt.xlabel(\"Total Rec Yds by Player\")\n",
    "plt.ylabel(\"Number of Players\")\n",
    "plt.show()\n"
   ]
  },
  {
   "cell_type": "code",
   "execution_count": null,
   "metadata": {
    "jupyter": {
     "source_hidden": true
    }
   },
   "outputs": [],
   "source": []
  }
 ],
 "metadata": {
  "kernelspec": {
   "display_name": "Python 3",
   "language": "python",
   "name": "python3"
  },
  "language_info": {
   "codemirror_mode": {
    "name": "ipython",
    "version": 3
   },
   "file_extension": ".py",
   "mimetype": "text/x-python",
   "name": "python",
   "nbconvert_exporter": "python",
   "pygments_lexer": "ipython3",
   "version": "3.8.3"
  }
 },
 "nbformat": 4,
 "nbformat_minor": 4
}
