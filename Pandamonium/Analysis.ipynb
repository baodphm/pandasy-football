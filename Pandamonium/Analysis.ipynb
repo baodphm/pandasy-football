{
 "cells": [
  {
   "cell_type": "code",
   "execution_count": 14,
   "metadata": {},
   "outputs": [
    {
     "ename": "ModuleNotFoundError",
     "evalue": "No module named 'config'",
     "output_type": "error",
     "traceback": [
      "\u001b[1;31m---------------------------------------------------------------------------\u001b[0m",
      "\u001b[1;31mModuleNotFoundError\u001b[0m                       Traceback (most recent call last)",
      "\u001b[1;32m<ipython-input-14-dbc16a3988ae>\u001b[0m in \u001b[0;36m<module>\u001b[1;34m\u001b[0m\n\u001b[0;32m     10\u001b[0m \u001b[1;32mimport\u001b[0m \u001b[0mseaborn\u001b[0m \u001b[1;32mas\u001b[0m \u001b[0msn\u001b[0m\u001b[1;33m\u001b[0m\u001b[1;33m\u001b[0m\u001b[0m\n\u001b[0;32m     11\u001b[0m \u001b[1;32mimport\u001b[0m \u001b[0mstatsmodels\u001b[0m\u001b[1;33m.\u001b[0m\u001b[0mapi\u001b[0m \u001b[1;32mas\u001b[0m \u001b[0msm\u001b[0m\u001b[1;33m\u001b[0m\u001b[1;33m\u001b[0m\u001b[0m\n\u001b[1;32m---> 12\u001b[1;33m \u001b[1;32mfrom\u001b[0m \u001b[0mconfig\u001b[0m \u001b[1;32mimport\u001b[0m \u001b[0mapi_key\u001b[0m\u001b[1;33m\u001b[0m\u001b[1;33m\u001b[0m\u001b[0m\n\u001b[0m\u001b[0;32m     13\u001b[0m \u001b[1;32mimport\u001b[0m \u001b[0mnumpy\u001b[0m \u001b[1;32mas\u001b[0m \u001b[0mnp\u001b[0m\u001b[1;33m\u001b[0m\u001b[1;33m\u001b[0m\u001b[0m\n\u001b[0;32m     14\u001b[0m \u001b[1;32mimport\u001b[0m \u001b[0mmatplotlib\u001b[0m\u001b[1;33m.\u001b[0m\u001b[0mcm\u001b[0m \u001b[1;32mas\u001b[0m \u001b[0mcm\u001b[0m\u001b[1;33m\u001b[0m\u001b[1;33m\u001b[0m\u001b[0m\n",
      "\u001b[1;31mModuleNotFoundError\u001b[0m: No module named 'config'"
     ]
    }
   ],
   "source": [
    "import requests\n",
    "import json\n",
    "import csv\n",
    "import pandas as pd\n",
    "from matplotlib import pyplot as plt\n",
    "import scipy.stats as sts\n",
    "from scipy.stats import linregress\n",
    "from scipy.stats import sem\n",
    "from sklearn import datasets\n",
    "import seaborn as sn\n",
    "import statsmodels.api as sm\n",
    "from config import api_key\n",
    "import numpy as np\n",
    "import matplotlib.cm as cm"
   ]
  },
  {
   "cell_type": "code",
   "execution_count": 7,
   "metadata": {},
   "outputs": [],
   "source": [
    "# import csv files\n",
    "csvfile19 = \"./Resources/2019.csv\"\n",
    "csv_df19 = pd.read_csv(csvfile19)\n",
    "csv_df19[\"Year\"] = \"2019\"\n",
    "\n",
    "csvfile18 = \"./Resources/2018.csv\"\n",
    "csv_df18 = pd.read_csv(csvfile18)\n",
    "csv_df18[\"Year\"] = \"2018\"\n",
    "\n",
    "csvfile17 = \"./Resources/2017.csv\"\n",
    "csv_df17 = pd.read_csv(csvfile17)\n",
    "csv_df17[\"Year\"] = \"2017\"\n",
    "\n",
    "csvfile16 = \"./Resources/2016.csv\"\n",
    "csv_df16 = pd.read_csv(csvfile16)\n",
    "csv_df16[\"Year\"] = \"2016\"\n",
    "\n",
    "csvfile15 = \"./Resources/2015.csv\"\n",
    "csv_df15 = pd.read_csv(csvfile15)\n",
    "csv_df15[\"Year\"] = \"2015\""
   ]
  },
  {
   "cell_type": "code",
   "execution_count": 8,
   "metadata": {},
   "outputs": [],
   "source": [
    "#merged indiv file years 2015-2019 together\n",
    "\n",
    "combined_df = csv_df19.append(csv_df18)\n",
    "combined_df = combined_df.append(csv_df17)\n",
    "combined_df = combined_df.append(csv_df16)\n",
    "combined_df = combined_df.append(csv_df15)\n",
    "\n",
    "#drop index column that was created when files were merged\n",
    "combined_df.drop(\"Unnamed: 0\", axis=1, inplace=True)"
   ]
  },
  {
   "cell_type": "code",
   "execution_count": 9,
   "metadata": {},
   "outputs": [],
   "source": [
    "#import csv from api data\n",
    "\n",
    "playercsv = \"./Resources/player_data.csv\"\n",
    "player_df = pd.read_csv(playercsv)\n",
    "merged_df = pd.merge(combined_df, player_df, left_on = \"Player\", right_on = \"Name\", how=\"left\")\n",
    "merged_df.drop(columns=[\"G\", \"GS\", \"Att\", \"Yds\", \"Att.1\", \"Yds.1\", \"Yds.2\", \"Name\", \"Salary\"], inplace=True)\n",
    "merged_df.drop(\"Unnamed: 0\", axis=1, inplace=True)\n",
    "merged_df.rename(columns={\n",
    "    \"Tm\": \"Team\",\n",
    "    \"Cmp\": \"Completions\",\n",
    "    \"Int\": \"Interceptions\",\n",
    "    \"Tgt\": \"Targets\",\n",
    "    \"Y/R\": \"YdsPerRec\",\n",
    "    \"Rec\": \"Receptions\",\n",
    "    \"Year\": \"FantasyYear\"\n",
    "}, inplace=True)"
   ]
  },
  {
   "cell_type": "code",
   "execution_count": 10,
   "metadata": {},
   "outputs": [],
   "source": [
    "csvfileMP = \"./Resources/MergedPlayers.csv\"\n",
    "merged_df = pd.read_csv(csvfileMP)"
   ]
  },
  {
   "cell_type": "markdown",
   "metadata": {},
   "source": [
    "## There are several different positions that contribute to scoring in Fantasy Football. The project limited the scope to the top 4 scoring positions: Quarterback, Running Back, Wide Receiver, and Tight End. The goal for any fantasy team is to score the most points as possible. Analyzing the data, certain positions definitely score more points than others. \n",
    "\n",
    "## Over the past 5 seasons(excluding 2020), Quarterbacks consistently score the most points compared to the other positions. Quarterbacks score over 2x more points than the lowest position, Tight Ends, from year to year. Typically, fantasy teams only have one Quarterback slot to fill. Because the average quarterback  scores such a high amount, most drafters generally wait to draft a Quarterback in the later rounds, prioritizing other positions first.\n",
    "\n",
    "## Wide Receivers score the next most fantasy points, slightly edging out Running Backs. In 2015, there was a wider gap between Wide Receivers and Running Backs, but over the years, the gap has pretty much disappeared. When drafting between the two positions, the data suggests that they will put up the same amount of points, so it would be best to take the best player available regardless of if they are a Running Back or Wide Receiver.\n",
    "\n",
    "## The position that scores the least amount of points is the Tight End position. There is approximately a 25 point difference between Tight End fantasy scoring and Wide Receivers/ Running Backs. Tight Ends are not a good position to focus on. The other positions will typically yield more points, so when drafting, filling out the WR/RB/QB positions before filling out the TE position will build a stronger team.\n",
    "\n"
   ]
  },
  {
   "cell_type": "code",
   "execution_count": 11,
   "metadata": {},
   "outputs": [],
   "source": [
    "#Create list of csvfiles\n",
    "season = [csv_df15, csv_df16, csv_df17, csv_df18, csv_df19]\n",
    "\n",
    "#Empty lists to store points per position\n",
    "QB_points = []\n",
    "\n",
    "#Reads csvfile for years 2015-2019, locates Quarterbacks and appends Quarterback Fantasy Points average per season to list removing null values\n",
    "for year in season:\n",
    "    response = year.loc[(year['Pos'] == \"QB\")]\n",
    "    QB_df = response.loc[(response['FantasyPoints'] > 0)]\n",
    "    QB_mean = QB_df['FantasyPoints'].mean()\n",
    "    QB_points.append(QB_mean)\n",
    "\n",
    "#Reads csvfile for years 2015-2019, locates Wide Receivers and appends Wide Receiver Fantasy Points average per season to list removing null values\n",
    "WR_points = []\n",
    "\n",
    "for year in season:\n",
    "    response = year.loc[(year['Pos'] == \"WR\")]\n",
    "    WR_df = response.loc[(response['FantasyPoints'] > 0)]\n",
    "    WR_mean = WR_df['FantasyPoints'].mean()\n",
    "    WR_points.append(WR_mean)\n",
    "    \n",
    "#Reads csvfile for years 2015-2019, locates Running Backs and appends Running Back Fantasy Points average per season to list removing null values\n",
    "RB_points = []\n",
    "\n",
    "for year in season:\n",
    "    response = year.loc[(year['Pos'] == \"RB\")]\n",
    "    RB_df = response.loc[(response['FantasyPoints'] > 0)]\n",
    "    RB_mean = RB_df['FantasyPoints'].mean()\n",
    "    RB_points.append(RB_mean)\n",
    "\n",
    "#Reads csvfile for years 2015-2019, locates Tight Ends and appends Tight Fantasy Points average per season to list removing null values\n",
    "TE_points = []\n",
    "\n",
    "for year in season:\n",
    "    response = year.loc[(year['Pos'] == \"TE\")]\n",
    "    TE_df = response.loc[(response['FantasyPoints'] > 0)]\n",
    "    TE_mean = TE_df['FantasyPoints'].mean()\n",
    "    TE_points.append(TE_mean)"
   ]
  },
  {
   "cell_type": "code",
   "execution_count": 12,
   "metadata": {},
   "outputs": [
    {
     "ename": "NameError",
     "evalue": "name 'np' is not defined",
     "output_type": "error",
     "traceback": [
      "\u001b[1;31m---------------------------------------------------------------------------\u001b[0m",
      "\u001b[1;31mNameError\u001b[0m                                 Traceback (most recent call last)",
      "\u001b[1;32m<ipython-input-12-eea21a599c7e>\u001b[0m in \u001b[0;36m<module>\u001b[1;34m\u001b[0m\n\u001b[0;32m      1\u001b[0m \u001b[1;31m#Time variable to cycle through years\u001b[0m\u001b[1;33m\u001b[0m\u001b[1;33m\u001b[0m\u001b[1;33m\u001b[0m\u001b[0m\n\u001b[1;32m----> 2\u001b[1;33m \u001b[0mtime\u001b[0m \u001b[1;33m=\u001b[0m \u001b[0mnp\u001b[0m\u001b[1;33m.\u001b[0m\u001b[0marange\u001b[0m\u001b[1;33m(\u001b[0m\u001b[1;36m2015\u001b[0m\u001b[1;33m,\u001b[0m\u001b[1;36m2020\u001b[0m\u001b[1;33m,\u001b[0m\u001b[1;36m1\u001b[0m\u001b[1;33m)\u001b[0m\u001b[1;33m\u001b[0m\u001b[1;33m\u001b[0m\u001b[0m\n\u001b[0m\u001b[0;32m      3\u001b[0m \u001b[1;33m\u001b[0m\u001b[0m\n\u001b[0;32m      4\u001b[0m \u001b[1;31m#Plot lines per position, looking at year and fantasy points average\u001b[0m\u001b[1;33m\u001b[0m\u001b[1;33m\u001b[0m\u001b[1;33m\u001b[0m\u001b[0m\n\u001b[0;32m      5\u001b[0m \u001b[0mQBs\u001b[0m\u001b[1;33m,\u001b[0m \u001b[1;33m=\u001b[0m \u001b[0mplt\u001b[0m\u001b[1;33m.\u001b[0m\u001b[0mplot\u001b[0m\u001b[1;33m(\u001b[0m\u001b[0mtime\u001b[0m\u001b[1;33m,\u001b[0m \u001b[0mQB_points\u001b[0m\u001b[1;33m,\u001b[0m \u001b[0mcolor\u001b[0m \u001b[1;33m=\u001b[0m \u001b[1;34m\"green\"\u001b[0m\u001b[1;33m,\u001b[0m \u001b[0mlabel\u001b[0m \u001b[1;33m=\u001b[0m \u001b[1;34m\"Quarterbacks\"\u001b[0m\u001b[1;33m)\u001b[0m\u001b[1;33m\u001b[0m\u001b[1;33m\u001b[0m\u001b[0m\n",
      "\u001b[1;31mNameError\u001b[0m: name 'np' is not defined"
     ]
    }
   ],
   "source": [
    "#Time variable to cycle through years\n",
    "time = np.arange(2015,2020,1)\n",
    "\n",
    "#Plot lines per position, looking at year and fantasy points average\n",
    "QBs, = plt.plot(time, QB_points, color = \"green\", label = \"Quarterbacks\")\n",
    "RBs, = plt.plot(time, RB_points, color = \"purple\", label = \"Running Backs\")\n",
    "WRs, = plt.plot(time, WR_points, color = \"red\", label = \"Wide Receivers\")\n",
    "TEs, = plt.plot(time, TE_points, color = \"gold\", label = \"Tight Ends\")\n",
    "plt.title(\"Average Fantasy Points per Season\")\n",
    "plt.xlabel(\"Season\")\n",
    "plt.ylabel(\"Fantasy Points\")\n",
    "plt.xlim(2015,2019)\n",
    "plt.ylim(30,185)\n",
    "plt.legend(handles=[QBs, RBs, WRs, TEs], loc=\"upper right\")\n",
    "plt.grid()\n",
    "\n",
    "#Save graph as png\n",
    "plt.savefig('./Images/positionpts.png')\n",
    "plt.figure(figsize = (50,30))\n",
    "plt.show()\n",
    "plt.close()"
   ]
  },
  {
   "cell_type": "markdown",
   "metadata": {},
   "source": [
    "## Do some teams yield better fantasy scorers? The bubble chart shows the average fantasy point scoring by team, the standard deviation of the fantasy points, and the total sum of fantasy points. Though there are some difference in the total amount of fantasy points scored by team, it is not a very big difference.\n",
    "\n",
    "## The Atlanta Falcons score the most total fantasy points. They also score the highest average fantasy points and have the greatest standard deviation in points. The Falcons are a high scoring offense. They have a high scoring QB, two high scoring WR, and a high scoring RB looking at historical data. Because the have a handful of elite players, and the football is also distributed to other players who score a lower amount of points, this disparity is shown by the standard deviation.\n",
    "\n",
    "## The Los Angeles Chargers score the least total fantasy points. The team moved from San Diego for the 2018 season, so there are only two season worth of data for that team. However, during that time, with an above average QB, a high scoring RB, and gifted WR, the have the second highest average fantasy points. This team also has the second highest standard deviation. The Chargers are focused on a handful of gifted players and their other offensive members do not see the ball as often.\n",
    "\n",
    "## At the very bottom of the chart are the Buffalo Bills. From 2015-2019, they had the lowest average scoring offense. Not very much higher, the next worst average scoring team are the New York Jets. These teams do not put up that many fantasy points and with a low scoring offense, are typically avoided in drafts.\n",
    "\n",
    "## The Detroit Lions have the lowest standard deviation of all NFL teams. They spread the ball around to many different players, and their average fantasy points are on the lower end of the chart. The players on the Detroit Lions do not present a high ceiling in terms of fantasy points. In fantasy football, the more focus on a player, the more fantasy points they can score. Since the Detroit Lions don't have a major focus on their offense, they average less fantasy scoring."
   ]
  },
  {
   "cell_type": "code",
   "execution_count": 3,
   "metadata": {},
   "outputs": [
    {
     "ename": "NameError",
     "evalue": "name 'plt' is not defined",
     "output_type": "error",
     "traceback": [
      "\u001b[1;31m---------------------------------------------------------------------------\u001b[0m",
      "\u001b[1;31mNameError\u001b[0m                                 Traceback (most recent call last)",
      "\u001b[1;32m<ipython-input-3-038029004c35>\u001b[0m in \u001b[0;36m<module>\u001b[1;34m\u001b[0m\n\u001b[0;32m      1\u001b[0m \u001b[1;31m#Set plot size\u001b[0m\u001b[1;33m\u001b[0m\u001b[1;33m\u001b[0m\u001b[1;33m\u001b[0m\u001b[0m\n\u001b[1;32m----> 2\u001b[1;33m \u001b[0mplt\u001b[0m\u001b[1;33m.\u001b[0m\u001b[0mfigure\u001b[0m\u001b[1;33m(\u001b[0m\u001b[0mfigsize\u001b[0m \u001b[1;33m=\u001b[0m \u001b[1;33m(\u001b[0m\u001b[1;36m40\u001b[0m\u001b[1;33m,\u001b[0m\u001b[1;36m25\u001b[0m\u001b[1;33m)\u001b[0m\u001b[1;33m)\u001b[0m\u001b[1;33m\u001b[0m\u001b[1;33m\u001b[0m\u001b[0m\n\u001b[0m\u001b[0;32m      3\u001b[0m \u001b[1;33m\u001b[0m\u001b[0m\n\u001b[0;32m      4\u001b[0m \u001b[1;31m#Put all NFL teams in a list\u001b[0m\u001b[1;33m\u001b[0m\u001b[1;33m\u001b[0m\u001b[1;33m\u001b[0m\u001b[0m\n\u001b[0;32m      5\u001b[0m \u001b[1;33m\u001b[0m\u001b[0m\n",
      "\u001b[1;31mNameError\u001b[0m: name 'plt' is not defined"
     ]
    }
   ],
   "source": [
    "#Set plot size\n",
    "plt.figure(figsize = (35,25))\n",
    "\n",
    "#Put all NFL teams in a list\n",
    "\n",
    "Teams = ['ARI','ATL','BAL','BUF','CAR','CHI','CIN','CLE','DAL','DEN','DET','GB','HOU','IND',\n",
    "        'JAX','KC','MIA','MIN','NE','NO','NYG','NYJ','LV','PHI','PIT','LAC','SF','SEA',\n",
    "        'LAR','SD','TB','TEN','WAS']\n",
    "counter = 0\n",
    "\n",
    "#Variable for unique rainbow colors       \n",
    "colors = iter(cm.rainbow(np.linspace(0, 1, len(Teams))))\n",
    "\n",
    "#Create bubble chart of NFL teams, their average fantasy points, standard deviation with the bubble size by the total fantasy points.\n",
    "for team in Teams:\n",
    "    plt.scatter(merged_df.loc[merged_df[\"Team\"]==Teams[counter]].groupby(\"Team\")[\"FantasyPoints\"].std(),\\\n",
    "                merged_df.loc[merged_df[\"Team\"]==Teams[counter]].groupby(\"Team\")[\"FantasyPoints\"].mean(),\\\n",
    "                s=merged_df.loc[merged_df[\"Team\"]==Teams[counter]].groupby(\"Team\")[\"FantasyPoints\"].sum()*2,\\\n",
    "                marker=\"o\",alpha=.5, color=next(colors), label=Teams[counter])\n",
    "    counter +=1\n",
    "\n",
    "# Label axes, set title, show grid lines\n",
    "plt.title(\"NFL Team Fantasy Points and Variation\", size =50)\n",
    "plt.ylabel(\"Average Team Fantasy Points\", size =35)\n",
    "plt.xlabel(\"Standard Deviation of Team Fantasy Points\", size = 35)\n",
    "plt.grid(True)\n",
    "\n",
    "\n",
    "Numbers = np.arange(0,33,1)\n",
    "\n",
    "# Create a legend\n",
    "lgnd = plt.legend(loc= \"lower right\", scatterpoints = 1, fontsize = 20, title=\"Teams\")\n",
    "\n",
    "# Makes dots in legend all the same size\n",
    "for number in Numbers:\n",
    "    lgnd.legendHandles[number]._sizes = [500]\n",
    "\n",
    "#Saves the chart\n",
    "plt.savefig('./Images/fantasybubble.png')"
   ]
  },
  {
   "cell_type": "markdown",
   "metadata": {},
   "source": [
    "## JR"
   ]
  },
  {
   "cell_type": "code",
   "execution_count": 9,
   "metadata": {},
   "outputs": [],
   "source": [
    "sorted_df = merged_df.sort_values(\"FantasyPoints\", ascending = False)\n",
    "\n",
    "indexPositions = sorted_df[sorted_df[\"Position\"] == \"0\"].index\n",
    "sorted_df.drop(indexPositions , inplace=True)"
   ]
  },
  {
   "cell_type": "code",
   "execution_count": 10,
   "metadata": {},
   "outputs": [],
   "source": [
    "#combine height in feet with height in inches to create total height in inches\n",
    "\n",
    "sorted_df[\"Height_ft_in\"] = sorted_df[\"HeightFeet\"] * 12\n",
    "sorted_df[\"Height_Total\"] = sorted_df[\"Height_ft_in\"] + sorted_df[\"HeightInches\"]"
   ]
  },
  {
   "cell_type": "code",
   "execution_count": 11,
   "metadata": {},
   "outputs": [
    {
     "data": {
      "text/html": [
       "<table class=\"simpletable\">\n",
       "<caption>OLS Regression Results</caption>\n",
       "<tr>\n",
       "  <th>Dep. Variable:</th>      <td>FantasyPoints</td>  <th>  R-squared (uncentered):</th>      <td>   0.478</td> \n",
       "</tr>\n",
       "<tr>\n",
       "  <th>Model:</th>                   <td>OLS</td>       <th>  Adj. R-squared (uncentered):</th> <td>   0.478</td> \n",
       "</tr>\n",
       "<tr>\n",
       "  <th>Method:</th>             <td>Least Squares</td>  <th>  F-statistic:       </th>          <td>   2554.</td> \n",
       "</tr>\n",
       "<tr>\n",
       "  <th>Date:</th>             <td>Thu, 18 Feb 2021</td> <th>  Prob (F-statistic):</th>           <td>  0.00</td>  \n",
       "</tr>\n",
       "<tr>\n",
       "  <th>Time:</th>                 <td>09:47:45</td>     <th>  Log-Likelihood:    </th>          <td> -16370.</td> \n",
       "</tr>\n",
       "<tr>\n",
       "  <th>No. Observations:</th>      <td>  2792</td>      <th>  AIC:               </th>          <td>3.274e+04</td>\n",
       "</tr>\n",
       "<tr>\n",
       "  <th>Df Residuals:</th>          <td>  2791</td>      <th>  BIC:               </th>          <td>3.275e+04</td>\n",
       "</tr>\n",
       "<tr>\n",
       "  <th>Df Model:</th>              <td>     1</td>      <th>                     </th>              <td> </td>    \n",
       "</tr>\n",
       "<tr>\n",
       "  <th>Covariance Type:</th>      <td>nonrobust</td>    <th>                     </th>              <td> </td>    \n",
       "</tr>\n",
       "</table>\n",
       "<table class=\"simpletable\">\n",
       "<tr>\n",
       "   <td></td>      <th>coef</th>     <th>std err</th>      <th>t</th>      <th>P>|t|</th>  <th>[0.025</th>    <th>0.975]</th>  \n",
       "</tr>\n",
       "<tr>\n",
       "  <th>Age</th> <td>    3.0841</td> <td>    0.061</td> <td>   50.541</td> <td> 0.000</td> <td>    2.964</td> <td>    3.204</td>\n",
       "</tr>\n",
       "</table>\n",
       "<table class=\"simpletable\">\n",
       "<tr>\n",
       "  <th>Omnibus:</th>       <td>504.100</td> <th>  Durbin-Watson:     </th> <td>   0.029</td> \n",
       "</tr>\n",
       "<tr>\n",
       "  <th>Prob(Omnibus):</th> <td> 0.000</td>  <th>  Jarque-Bera (JB):  </th> <td> 817.700</td> \n",
       "</tr>\n",
       "<tr>\n",
       "  <th>Skew:</th>          <td> 1.233</td>  <th>  Prob(JB):          </th> <td>2.75e-178</td>\n",
       "</tr>\n",
       "<tr>\n",
       "  <th>Kurtosis:</th>      <td> 3.972</td>  <th>  Cond. No.          </th> <td>    1.00</td> \n",
       "</tr>\n",
       "</table><br/><br/>Notes:<br/>[1] R² is computed without centering (uncentered) since the model does not contain a constant.<br/>[2] Standard Errors assume that the covariance matrix of the errors is correctly specified."
      ],
      "text/plain": [
       "<class 'statsmodels.iolib.summary.Summary'>\n",
       "\"\"\"\n",
       "                                 OLS Regression Results                                \n",
       "=======================================================================================\n",
       "Dep. Variable:          FantasyPoints   R-squared (uncentered):                   0.478\n",
       "Model:                            OLS   Adj. R-squared (uncentered):              0.478\n",
       "Method:                 Least Squares   F-statistic:                              2554.\n",
       "Date:                Thu, 18 Feb 2021   Prob (F-statistic):                        0.00\n",
       "Time:                        09:47:45   Log-Likelihood:                         -16370.\n",
       "No. Observations:                2792   AIC:                                  3.274e+04\n",
       "Df Residuals:                    2791   BIC:                                  3.275e+04\n",
       "Df Model:                           1                                                  \n",
       "Covariance Type:            nonrobust                                                  \n",
       "==============================================================================\n",
       "                 coef    std err          t      P>|t|      [0.025      0.975]\n",
       "------------------------------------------------------------------------------\n",
       "Age            3.0841      0.061     50.541      0.000       2.964       3.204\n",
       "==============================================================================\n",
       "Omnibus:                      504.100   Durbin-Watson:                   0.029\n",
       "Prob(Omnibus):                  0.000   Jarque-Bera (JB):              817.700\n",
       "Skew:                           1.233   Prob(JB):                    2.75e-178\n",
       "Kurtosis:                       3.972   Cond. No.                         1.00\n",
       "==============================================================================\n",
       "\n",
       "Notes:\n",
       "[1] R² is computed without centering (uncentered) since the model does not contain a constant.\n",
       "[2] Standard Errors assume that the covariance matrix of the errors is correctly specified.\n",
       "\"\"\""
      ]
     },
     "execution_count": 11,
     "metadata": {},
     "output_type": "execute_result"
    }
   ],
   "source": [
    "x = sorted_df[\"Age\"]\n",
    "y = sorted_df[\"FantasyPoints\"]\n",
    "model = sm.OLS(y, x, missing='drop')\n",
    "results = model.fit()\n",
    "results.summary()"
   ]
  },
  {
   "cell_type": "code",
   "execution_count": 12,
   "metadata": {},
   "outputs": [
    {
     "data": {
      "text/html": [
       "<table class=\"simpletable\">\n",
       "<caption>OLS Regression Results</caption>\n",
       "<tr>\n",
       "  <th>Dep. Variable:</th>      <td>FantasyPoints</td>  <th>  R-squared (uncentered):</th>      <td>   0.479</td> \n",
       "</tr>\n",
       "<tr>\n",
       "  <th>Model:</th>                   <td>OLS</td>       <th>  Adj. R-squared (uncentered):</th> <td>   0.479</td> \n",
       "</tr>\n",
       "<tr>\n",
       "  <th>Method:</th>             <td>Least Squares</td>  <th>  F-statistic:       </th>          <td>   1833.</td> \n",
       "</tr>\n",
       "<tr>\n",
       "  <th>Date:</th>             <td>Thu, 18 Feb 2021</td> <th>  Prob (F-statistic):</th>          <td>1.41e-284</td>\n",
       "</tr>\n",
       "<tr>\n",
       "  <th>Time:</th>                 <td>09:47:45</td>     <th>  Log-Likelihood:    </th>          <td> -11843.</td> \n",
       "</tr>\n",
       "<tr>\n",
       "  <th>No. Observations:</th>      <td>  1994</td>      <th>  AIC:               </th>          <td>2.369e+04</td>\n",
       "</tr>\n",
       "<tr>\n",
       "  <th>Df Residuals:</th>          <td>  1993</td>      <th>  BIC:               </th>          <td>2.369e+04</td>\n",
       "</tr>\n",
       "<tr>\n",
       "  <th>Df Model:</th>              <td>     1</td>      <th>                     </th>              <td> </td>    \n",
       "</tr>\n",
       "<tr>\n",
       "  <th>Covariance Type:</th>      <td>nonrobust</td>    <th>                     </th>              <td> </td>    \n",
       "</tr>\n",
       "</table>\n",
       "<table class=\"simpletable\">\n",
       "<tr>\n",
       "     <td></td>       <th>coef</th>     <th>std err</th>      <th>t</th>      <th>P>|t|</th>  <th>[0.025</th>    <th>0.975]</th>  \n",
       "</tr>\n",
       "<tr>\n",
       "  <th>Weight</th> <td>    0.3978</td> <td>    0.009</td> <td>   42.815</td> <td> 0.000</td> <td>    0.380</td> <td>    0.416</td>\n",
       "</tr>\n",
       "</table>\n",
       "<table class=\"simpletable\">\n",
       "<tr>\n",
       "  <th>Omnibus:</th>       <td>261.069</td> <th>  Durbin-Watson:     </th> <td>   0.022</td>\n",
       "</tr>\n",
       "<tr>\n",
       "  <th>Prob(Omnibus):</th> <td> 0.000</td>  <th>  Jarque-Bera (JB):  </th> <td> 370.787</td>\n",
       "</tr>\n",
       "<tr>\n",
       "  <th>Skew:</th>          <td> 1.043</td>  <th>  Prob(JB):          </th> <td>3.05e-81</td>\n",
       "</tr>\n",
       "<tr>\n",
       "  <th>Kurtosis:</th>      <td> 3.330</td>  <th>  Cond. No.          </th> <td>    1.00</td>\n",
       "</tr>\n",
       "</table><br/><br/>Notes:<br/>[1] R² is computed without centering (uncentered) since the model does not contain a constant.<br/>[2] Standard Errors assume that the covariance matrix of the errors is correctly specified."
      ],
      "text/plain": [
       "<class 'statsmodels.iolib.summary.Summary'>\n",
       "\"\"\"\n",
       "                                 OLS Regression Results                                \n",
       "=======================================================================================\n",
       "Dep. Variable:          FantasyPoints   R-squared (uncentered):                   0.479\n",
       "Model:                            OLS   Adj. R-squared (uncentered):              0.479\n",
       "Method:                 Least Squares   F-statistic:                              1833.\n",
       "Date:                Thu, 18 Feb 2021   Prob (F-statistic):                   1.41e-284\n",
       "Time:                        09:47:45   Log-Likelihood:                         -11843.\n",
       "No. Observations:                1994   AIC:                                  2.369e+04\n",
       "Df Residuals:                    1993   BIC:                                  2.369e+04\n",
       "Df Model:                           1                                                  \n",
       "Covariance Type:            nonrobust                                                  \n",
       "==============================================================================\n",
       "                 coef    std err          t      P>|t|      [0.025      0.975]\n",
       "------------------------------------------------------------------------------\n",
       "Weight         0.3978      0.009     42.815      0.000       0.380       0.416\n",
       "==============================================================================\n",
       "Omnibus:                      261.069   Durbin-Watson:                   0.022\n",
       "Prob(Omnibus):                  0.000   Jarque-Bera (JB):              370.787\n",
       "Skew:                           1.043   Prob(JB):                     3.05e-81\n",
       "Kurtosis:                       3.330   Cond. No.                         1.00\n",
       "==============================================================================\n",
       "\n",
       "Notes:\n",
       "[1] R² is computed without centering (uncentered) since the model does not contain a constant.\n",
       "[2] Standard Errors assume that the covariance matrix of the errors is correctly specified.\n",
       "\"\"\""
      ]
     },
     "execution_count": 12,
     "metadata": {},
     "output_type": "execute_result"
    }
   ],
   "source": [
    "x = sorted_df[\"Weight\"]\n",
    "y = sorted_df[\"FantasyPoints\"]\n",
    "model = sm.OLS(y, x, missing='drop')\n",
    "results = model.fit()\n",
    "results.summary()"
   ]
  },
  {
   "cell_type": "code",
   "execution_count": 13,
   "metadata": {},
   "outputs": [
    {
     "data": {
      "text/html": [
       "<table class=\"simpletable\">\n",
       "<caption>OLS Regression Results</caption>\n",
       "<tr>\n",
       "  <th>Dep. Variable:</th>      <td>FantasyPoints</td>  <th>  R-squared (uncentered):</th>      <td>   0.495</td> \n",
       "</tr>\n",
       "<tr>\n",
       "  <th>Model:</th>                   <td>OLS</td>       <th>  Adj. R-squared (uncentered):</th> <td>   0.495</td> \n",
       "</tr>\n",
       "<tr>\n",
       "  <th>Method:</th>             <td>Least Squares</td>  <th>  F-statistic:       </th>          <td>   1953.</td> \n",
       "</tr>\n",
       "<tr>\n",
       "  <th>Date:</th>             <td>Thu, 18 Feb 2021</td> <th>  Prob (F-statistic):</th>          <td>6.77e-298</td>\n",
       "</tr>\n",
       "<tr>\n",
       "  <th>Time:</th>                 <td>09:47:45</td>     <th>  Log-Likelihood:    </th>          <td> -11812.</td> \n",
       "</tr>\n",
       "<tr>\n",
       "  <th>No. Observations:</th>      <td>  1994</td>      <th>  AIC:               </th>          <td>2.363e+04</td>\n",
       "</tr>\n",
       "<tr>\n",
       "  <th>Df Residuals:</th>          <td>  1993</td>      <th>  BIC:               </th>          <td>2.363e+04</td>\n",
       "</tr>\n",
       "<tr>\n",
       "  <th>Df Model:</th>              <td>     1</td>      <th>                     </th>              <td> </td>    \n",
       "</tr>\n",
       "<tr>\n",
       "  <th>Covariance Type:</th>      <td>nonrobust</td>    <th>                     </th>              <td> </td>    \n",
       "</tr>\n",
       "</table>\n",
       "<table class=\"simpletable\">\n",
       "<tr>\n",
       "        <td></td>          <th>coef</th>     <th>std err</th>      <th>t</th>      <th>P>|t|</th>  <th>[0.025</th>    <th>0.975]</th>  \n",
       "</tr>\n",
       "<tr>\n",
       "  <th>Height_Total</th> <td>    1.2186</td> <td>    0.028</td> <td>   44.189</td> <td> 0.000</td> <td>    1.165</td> <td>    1.273</td>\n",
       "</tr>\n",
       "</table>\n",
       "<table class=\"simpletable\">\n",
       "<tr>\n",
       "  <th>Omnibus:</th>       <td>279.166</td> <th>  Durbin-Watson:     </th> <td>   0.003</td>\n",
       "</tr>\n",
       "<tr>\n",
       "  <th>Prob(Omnibus):</th> <td> 0.000</td>  <th>  Jarque-Bera (JB):  </th> <td> 404.904</td>\n",
       "</tr>\n",
       "<tr>\n",
       "  <th>Skew:</th>          <td> 1.084</td>  <th>  Prob(JB):          </th> <td>1.19e-88</td>\n",
       "</tr>\n",
       "<tr>\n",
       "  <th>Kurtosis:</th>      <td> 3.415</td>  <th>  Cond. No.          </th> <td>    1.00</td>\n",
       "</tr>\n",
       "</table><br/><br/>Notes:<br/>[1] R² is computed without centering (uncentered) since the model does not contain a constant.<br/>[2] Standard Errors assume that the covariance matrix of the errors is correctly specified."
      ],
      "text/plain": [
       "<class 'statsmodels.iolib.summary.Summary'>\n",
       "\"\"\"\n",
       "                                 OLS Regression Results                                \n",
       "=======================================================================================\n",
       "Dep. Variable:          FantasyPoints   R-squared (uncentered):                   0.495\n",
       "Model:                            OLS   Adj. R-squared (uncentered):              0.495\n",
       "Method:                 Least Squares   F-statistic:                              1953.\n",
       "Date:                Thu, 18 Feb 2021   Prob (F-statistic):                   6.77e-298\n",
       "Time:                        09:47:45   Log-Likelihood:                         -11812.\n",
       "No. Observations:                1994   AIC:                                  2.363e+04\n",
       "Df Residuals:                    1993   BIC:                                  2.363e+04\n",
       "Df Model:                           1                                                  \n",
       "Covariance Type:            nonrobust                                                  \n",
       "================================================================================\n",
       "                   coef    std err          t      P>|t|      [0.025      0.975]\n",
       "--------------------------------------------------------------------------------\n",
       "Height_Total     1.2186      0.028     44.189      0.000       1.165       1.273\n",
       "==============================================================================\n",
       "Omnibus:                      279.166   Durbin-Watson:                   0.003\n",
       "Prob(Omnibus):                  0.000   Jarque-Bera (JB):              404.904\n",
       "Skew:                           1.084   Prob(JB):                     1.19e-88\n",
       "Kurtosis:                       3.415   Cond. No.                         1.00\n",
       "==============================================================================\n",
       "\n",
       "Notes:\n",
       "[1] R² is computed without centering (uncentered) since the model does not contain a constant.\n",
       "[2] Standard Errors assume that the covariance matrix of the errors is correctly specified.\n",
       "\"\"\""
      ]
     },
     "execution_count": 13,
     "metadata": {},
     "output_type": "execute_result"
    }
   ],
   "source": [
    "x = sorted_df[\"Height_Total\"]\n",
    "y = sorted_df[\"FantasyPoints\"]\n",
    "model = sm.OLS(y, x, missing='drop')\n",
    "results = model.fit()\n",
    "results.summary()"
   ]
  },
  {
   "cell_type": "code",
   "execution_count": 14,
   "metadata": {},
   "outputs": [],
   "source": [
    "positionPoints_df = sorted_df.groupby(\"Position\")[\"FantasyPoints\"].mean()"
   ]
  },
  {
   "cell_type": "code",
   "execution_count": 15,
   "metadata": {},
   "outputs": [],
   "source": [
    "qb_data = sorted_df.loc[sorted_df[\"Position\"] == \"QB\"]"
   ]
  },
  {
   "cell_type": "code",
   "execution_count": 16,
   "metadata": {},
   "outputs": [
    {
     "data": {
      "text/html": [
       "<table class=\"simpletable\">\n",
       "<caption>OLS Regression Results</caption>\n",
       "<tr>\n",
       "  <th>Dep. Variable:</th>      <td>FantasyPoints</td>  <th>  R-squared (uncentered):</th>      <td>   0.496</td>\n",
       "</tr>\n",
       "<tr>\n",
       "  <th>Model:</th>                   <td>OLS</td>       <th>  Adj. R-squared (uncentered):</th> <td>   0.494</td>\n",
       "</tr>\n",
       "<tr>\n",
       "  <th>Method:</th>             <td>Least Squares</td>  <th>  F-statistic:       </th>          <td>   360.7</td>\n",
       "</tr>\n",
       "<tr>\n",
       "  <th>Date:</th>             <td>Thu, 18 Feb 2021</td> <th>  Prob (F-statistic):</th>          <td>1.64e-56</td>\n",
       "</tr>\n",
       "<tr>\n",
       "  <th>Time:</th>                 <td>09:47:45</td>     <th>  Log-Likelihood:    </th>          <td> -2277.3</td>\n",
       "</tr>\n",
       "<tr>\n",
       "  <th>No. Observations:</th>      <td>   368</td>      <th>  AIC:               </th>          <td>   4557.</td>\n",
       "</tr>\n",
       "<tr>\n",
       "  <th>Df Residuals:</th>          <td>   367</td>      <th>  BIC:               </th>          <td>   4560.</td>\n",
       "</tr>\n",
       "<tr>\n",
       "  <th>Df Model:</th>              <td>     1</td>      <th>                     </th>              <td> </td>   \n",
       "</tr>\n",
       "<tr>\n",
       "  <th>Covariance Type:</th>      <td>nonrobust</td>    <th>                     </th>              <td> </td>   \n",
       "</tr>\n",
       "</table>\n",
       "<table class=\"simpletable\">\n",
       "<tr>\n",
       "   <td></td>      <th>coef</th>     <th>std err</th>      <th>t</th>      <th>P>|t|</th>  <th>[0.025</th>    <th>0.975]</th>  \n",
       "</tr>\n",
       "<tr>\n",
       "  <th>Age</th> <td>    4.0307</td> <td>    0.212</td> <td>   18.993</td> <td> 0.000</td> <td>    3.613</td> <td>    4.448</td>\n",
       "</tr>\n",
       "</table>\n",
       "<table class=\"simpletable\">\n",
       "<tr>\n",
       "  <th>Omnibus:</th>       <td>88.633</td> <th>  Durbin-Watson:     </th> <td>   0.049</td>\n",
       "</tr>\n",
       "<tr>\n",
       "  <th>Prob(Omnibus):</th> <td> 0.000</td> <th>  Jarque-Bera (JB):  </th> <td>  34.561</td>\n",
       "</tr>\n",
       "<tr>\n",
       "  <th>Skew:</th>          <td> 0.559</td> <th>  Prob(JB):          </th> <td>3.13e-08</td>\n",
       "</tr>\n",
       "<tr>\n",
       "  <th>Kurtosis:</th>      <td> 1.998</td> <th>  Cond. No.          </th> <td>    1.00</td>\n",
       "</tr>\n",
       "</table><br/><br/>Notes:<br/>[1] R² is computed without centering (uncentered) since the model does not contain a constant.<br/>[2] Standard Errors assume that the covariance matrix of the errors is correctly specified."
      ],
      "text/plain": [
       "<class 'statsmodels.iolib.summary.Summary'>\n",
       "\"\"\"\n",
       "                                 OLS Regression Results                                \n",
       "=======================================================================================\n",
       "Dep. Variable:          FantasyPoints   R-squared (uncentered):                   0.496\n",
       "Model:                            OLS   Adj. R-squared (uncentered):              0.494\n",
       "Method:                 Least Squares   F-statistic:                              360.7\n",
       "Date:                Thu, 18 Feb 2021   Prob (F-statistic):                    1.64e-56\n",
       "Time:                        09:47:45   Log-Likelihood:                         -2277.3\n",
       "No. Observations:                 368   AIC:                                      4557.\n",
       "Df Residuals:                     367   BIC:                                      4560.\n",
       "Df Model:                           1                                                  \n",
       "Covariance Type:            nonrobust                                                  \n",
       "==============================================================================\n",
       "                 coef    std err          t      P>|t|      [0.025      0.975]\n",
       "------------------------------------------------------------------------------\n",
       "Age            4.0307      0.212     18.993      0.000       3.613       4.448\n",
       "==============================================================================\n",
       "Omnibus:                       88.633   Durbin-Watson:                   0.049\n",
       "Prob(Omnibus):                  0.000   Jarque-Bera (JB):               34.561\n",
       "Skew:                           0.559   Prob(JB):                     3.13e-08\n",
       "Kurtosis:                       1.998   Cond. No.                         1.00\n",
       "==============================================================================\n",
       "\n",
       "Notes:\n",
       "[1] R² is computed without centering (uncentered) since the model does not contain a constant.\n",
       "[2] Standard Errors assume that the covariance matrix of the errors is correctly specified.\n",
       "\"\"\""
      ]
     },
     "execution_count": 16,
     "metadata": {},
     "output_type": "execute_result"
    }
   ],
   "source": [
    "x = qb_data[\"Age\"]\n",
    "y = qb_data[\"FantasyPoints\"]\n",
    "model = sm.OLS(y, x, missing='drop')\n",
    "results = model.fit()\n",
    "results.summary()"
   ]
  },
  {
   "cell_type": "code",
   "execution_count": 17,
   "metadata": {},
   "outputs": [
    {
     "data": {
      "text/html": [
       "<table class=\"simpletable\">\n",
       "<caption>OLS Regression Results</caption>\n",
       "<tr>\n",
       "  <th>Dep. Variable:</th>      <td>FantasyPoints</td>  <th>  R-squared (uncentered):</th>      <td>   0.572</td>\n",
       "</tr>\n",
       "<tr>\n",
       "  <th>Model:</th>                   <td>OLS</td>       <th>  Adj. R-squared (uncentered):</th> <td>   0.571</td>\n",
       "</tr>\n",
       "<tr>\n",
       "  <th>Method:</th>             <td>Least Squares</td>  <th>  F-statistic:       </th>          <td>   374.6</td>\n",
       "</tr>\n",
       "<tr>\n",
       "  <th>Date:</th>             <td>Thu, 18 Feb 2021</td> <th>  Prob (F-statistic):</th>          <td>1.47e-53</td>\n",
       "</tr>\n",
       "<tr>\n",
       "  <th>Time:</th>                 <td>09:47:45</td>     <th>  Log-Likelihood:    </th>          <td> -1745.8</td>\n",
       "</tr>\n",
       "<tr>\n",
       "  <th>No. Observations:</th>      <td>   281</td>      <th>  AIC:               </th>          <td>   3494.</td>\n",
       "</tr>\n",
       "<tr>\n",
       "  <th>Df Residuals:</th>          <td>   280</td>      <th>  BIC:               </th>          <td>   3497.</td>\n",
       "</tr>\n",
       "<tr>\n",
       "  <th>Df Model:</th>              <td>     1</td>      <th>                     </th>              <td> </td>   \n",
       "</tr>\n",
       "<tr>\n",
       "  <th>Covariance Type:</th>      <td>nonrobust</td>    <th>                     </th>              <td> </td>   \n",
       "</tr>\n",
       "</table>\n",
       "<table class=\"simpletable\">\n",
       "<tr>\n",
       "     <td></td>       <th>coef</th>     <th>std err</th>      <th>t</th>      <th>P>|t|</th>  <th>[0.025</th>    <th>0.975]</th>  \n",
       "</tr>\n",
       "<tr>\n",
       "  <th>Weight</th> <td>    0.6233</td> <td>    0.032</td> <td>   19.354</td> <td> 0.000</td> <td>    0.560</td> <td>    0.687</td>\n",
       "</tr>\n",
       "</table>\n",
       "<table class=\"simpletable\">\n",
       "<tr>\n",
       "  <th>Omnibus:</th>       <td>496.564</td> <th>  Durbin-Watson:     </th> <td>   0.008</td>\n",
       "</tr>\n",
       "<tr>\n",
       "  <th>Prob(Omnibus):</th> <td> 0.000</td>  <th>  Jarque-Bera (JB):  </th> <td>  24.209</td>\n",
       "</tr>\n",
       "<tr>\n",
       "  <th>Skew:</th>          <td> 0.251</td>  <th>  Prob(JB):          </th> <td>5.53e-06</td>\n",
       "</tr>\n",
       "<tr>\n",
       "  <th>Kurtosis:</th>      <td> 1.652</td>  <th>  Cond. No.          </th> <td>    1.00</td>\n",
       "</tr>\n",
       "</table><br/><br/>Notes:<br/>[1] R² is computed without centering (uncentered) since the model does not contain a constant.<br/>[2] Standard Errors assume that the covariance matrix of the errors is correctly specified."
      ],
      "text/plain": [
       "<class 'statsmodels.iolib.summary.Summary'>\n",
       "\"\"\"\n",
       "                                 OLS Regression Results                                \n",
       "=======================================================================================\n",
       "Dep. Variable:          FantasyPoints   R-squared (uncentered):                   0.572\n",
       "Model:                            OLS   Adj. R-squared (uncentered):              0.571\n",
       "Method:                 Least Squares   F-statistic:                              374.6\n",
       "Date:                Thu, 18 Feb 2021   Prob (F-statistic):                    1.47e-53\n",
       "Time:                        09:47:45   Log-Likelihood:                         -1745.8\n",
       "No. Observations:                 281   AIC:                                      3494.\n",
       "Df Residuals:                     280   BIC:                                      3497.\n",
       "Df Model:                           1                                                  \n",
       "Covariance Type:            nonrobust                                                  \n",
       "==============================================================================\n",
       "                 coef    std err          t      P>|t|      [0.025      0.975]\n",
       "------------------------------------------------------------------------------\n",
       "Weight         0.6233      0.032     19.354      0.000       0.560       0.687\n",
       "==============================================================================\n",
       "Omnibus:                      496.564   Durbin-Watson:                   0.008\n",
       "Prob(Omnibus):                  0.000   Jarque-Bera (JB):               24.209\n",
       "Skew:                           0.251   Prob(JB):                     5.53e-06\n",
       "Kurtosis:                       1.652   Cond. No.                         1.00\n",
       "==============================================================================\n",
       "\n",
       "Notes:\n",
       "[1] R² is computed without centering (uncentered) since the model does not contain a constant.\n",
       "[2] Standard Errors assume that the covariance matrix of the errors is correctly specified.\n",
       "\"\"\""
      ]
     },
     "execution_count": 17,
     "metadata": {},
     "output_type": "execute_result"
    }
   ],
   "source": [
    "x = qb_data[\"Weight\"]\n",
    "y = qb_data[\"FantasyPoints\"]\n",
    "model = sm.OLS(y, x, missing='drop')\n",
    "results = model.fit()\n",
    "results.summary()"
   ]
  },
  {
   "cell_type": "code",
   "execution_count": 18,
   "metadata": {},
   "outputs": [
    {
     "data": {
      "text/html": [
       "<table class=\"simpletable\">\n",
       "<caption>OLS Regression Results</caption>\n",
       "<tr>\n",
       "  <th>Dep. Variable:</th>      <td>FantasyPoints</td>  <th>  R-squared (uncentered):</th>      <td>   0.573</td>\n",
       "</tr>\n",
       "<tr>\n",
       "  <th>Model:</th>                   <td>OLS</td>       <th>  Adj. R-squared (uncentered):</th> <td>   0.571</td>\n",
       "</tr>\n",
       "<tr>\n",
       "  <th>Method:</th>             <td>Least Squares</td>  <th>  F-statistic:       </th>          <td>   375.8</td>\n",
       "</tr>\n",
       "<tr>\n",
       "  <th>Date:</th>             <td>Thu, 18 Feb 2021</td> <th>  Prob (F-statistic):</th>          <td>1.14e-53</td>\n",
       "</tr>\n",
       "<tr>\n",
       "  <th>Time:</th>                 <td>09:47:45</td>     <th>  Log-Likelihood:    </th>          <td> -1745.6</td>\n",
       "</tr>\n",
       "<tr>\n",
       "  <th>No. Observations:</th>      <td>   281</td>      <th>  AIC:               </th>          <td>   3493.</td>\n",
       "</tr>\n",
       "<tr>\n",
       "  <th>Df Residuals:</th>          <td>   280</td>      <th>  BIC:               </th>          <td>   3497.</td>\n",
       "</tr>\n",
       "<tr>\n",
       "  <th>Df Model:</th>              <td>     1</td>      <th>                     </th>              <td> </td>   \n",
       "</tr>\n",
       "<tr>\n",
       "  <th>Covariance Type:</th>      <td>nonrobust</td>    <th>                     </th>              <td> </td>   \n",
       "</tr>\n",
       "</table>\n",
       "<table class=\"simpletable\">\n",
       "<tr>\n",
       "        <td></td>          <th>coef</th>     <th>std err</th>      <th>t</th>      <th>P>|t|</th>  <th>[0.025</th>    <th>0.975]</th>  \n",
       "</tr>\n",
       "<tr>\n",
       "  <th>Height_Total</th> <td>    1.8579</td> <td>    0.096</td> <td>   19.384</td> <td> 0.000</td> <td>    1.669</td> <td>    2.047</td>\n",
       "</tr>\n",
       "</table>\n",
       "<table class=\"simpletable\">\n",
       "<tr>\n",
       "  <th>Omnibus:</th>       <td>471.363</td> <th>  Durbin-Watson:     </th> <td>   0.002</td>\n",
       "</tr>\n",
       "<tr>\n",
       "  <th>Prob(Omnibus):</th> <td> 0.000</td>  <th>  Jarque-Bera (JB):  </th> <td>  24.164</td>\n",
       "</tr>\n",
       "<tr>\n",
       "  <th>Skew:</th>          <td> 0.255</td>  <th>  Prob(JB):          </th> <td>5.66e-06</td>\n",
       "</tr>\n",
       "<tr>\n",
       "  <th>Kurtosis:</th>      <td> 1.657</td>  <th>  Cond. No.          </th> <td>    1.00</td>\n",
       "</tr>\n",
       "</table><br/><br/>Notes:<br/>[1] R² is computed without centering (uncentered) since the model does not contain a constant.<br/>[2] Standard Errors assume that the covariance matrix of the errors is correctly specified."
      ],
      "text/plain": [
       "<class 'statsmodels.iolib.summary.Summary'>\n",
       "\"\"\"\n",
       "                                 OLS Regression Results                                \n",
       "=======================================================================================\n",
       "Dep. Variable:          FantasyPoints   R-squared (uncentered):                   0.573\n",
       "Model:                            OLS   Adj. R-squared (uncentered):              0.571\n",
       "Method:                 Least Squares   F-statistic:                              375.8\n",
       "Date:                Thu, 18 Feb 2021   Prob (F-statistic):                    1.14e-53\n",
       "Time:                        09:47:45   Log-Likelihood:                         -1745.6\n",
       "No. Observations:                 281   AIC:                                      3493.\n",
       "Df Residuals:                     280   BIC:                                      3497.\n",
       "Df Model:                           1                                                  \n",
       "Covariance Type:            nonrobust                                                  \n",
       "================================================================================\n",
       "                   coef    std err          t      P>|t|      [0.025      0.975]\n",
       "--------------------------------------------------------------------------------\n",
       "Height_Total     1.8579      0.096     19.384      0.000       1.669       2.047\n",
       "==============================================================================\n",
       "Omnibus:                      471.363   Durbin-Watson:                   0.002\n",
       "Prob(Omnibus):                  0.000   Jarque-Bera (JB):               24.164\n",
       "Skew:                           0.255   Prob(JB):                     5.66e-06\n",
       "Kurtosis:                       1.657   Cond. No.                         1.00\n",
       "==============================================================================\n",
       "\n",
       "Notes:\n",
       "[1] R² is computed without centering (uncentered) since the model does not contain a constant.\n",
       "[2] Standard Errors assume that the covariance matrix of the errors is correctly specified.\n",
       "\"\"\""
      ]
     },
     "execution_count": 18,
     "metadata": {},
     "output_type": "execute_result"
    }
   ],
   "source": [
    "x = qb_data[\"Height_Total\"]\n",
    "y = qb_data[\"FantasyPoints\"]\n",
    "model = sm.OLS(y, x, missing='drop')\n",
    "results = model.fit()\n",
    "results.summary()"
   ]
  },
  {
   "cell_type": "code",
   "execution_count": 19,
   "metadata": {},
   "outputs": [],
   "source": [
    "rb_data = sorted_df.loc[sorted_df[\"Position\"] == \"RB\"]"
   ]
  },
  {
   "cell_type": "code",
   "execution_count": 20,
   "metadata": {},
   "outputs": [
    {
     "data": {
      "text/html": [
       "<table class=\"simpletable\">\n",
       "<caption>OLS Regression Results</caption>\n",
       "<tr>\n",
       "  <th>Dep. Variable:</th>      <td>FantasyPoints</td>  <th>  R-squared (uncentered):</th>      <td>   0.444</td> \n",
       "</tr>\n",
       "<tr>\n",
       "  <th>Model:</th>                   <td>OLS</td>       <th>  Adj. R-squared (uncentered):</th> <td>   0.443</td> \n",
       "</tr>\n",
       "<tr>\n",
       "  <th>Method:</th>             <td>Least Squares</td>  <th>  F-statistic:       </th>          <td>   648.0</td> \n",
       "</tr>\n",
       "<tr>\n",
       "  <th>Date:</th>             <td>Thu, 18 Feb 2021</td> <th>  Prob (F-statistic):</th>          <td>1.49e-105</td>\n",
       "</tr>\n",
       "<tr>\n",
       "  <th>Time:</th>                 <td>09:47:45</td>     <th>  Log-Likelihood:    </th>          <td> -4752.1</td> \n",
       "</tr>\n",
       "<tr>\n",
       "  <th>No. Observations:</th>      <td>   813</td>      <th>  AIC:               </th>          <td>   9506.</td> \n",
       "</tr>\n",
       "<tr>\n",
       "  <th>Df Residuals:</th>          <td>   812</td>      <th>  BIC:               </th>          <td>   9511.</td> \n",
       "</tr>\n",
       "<tr>\n",
       "  <th>Df Model:</th>              <td>     1</td>      <th>                     </th>              <td> </td>    \n",
       "</tr>\n",
       "<tr>\n",
       "  <th>Covariance Type:</th>      <td>nonrobust</td>    <th>                     </th>              <td> </td>    \n",
       "</tr>\n",
       "</table>\n",
       "<table class=\"simpletable\">\n",
       "<tr>\n",
       "   <td></td>      <th>coef</th>     <th>std err</th>      <th>t</th>      <th>P>|t|</th>  <th>[0.025</th>    <th>0.975]</th>  \n",
       "</tr>\n",
       "<tr>\n",
       "  <th>Age</th> <td>    2.9056</td> <td>    0.114</td> <td>   25.456</td> <td> 0.000</td> <td>    2.682</td> <td>    3.130</td>\n",
       "</tr>\n",
       "</table>\n",
       "<table class=\"simpletable\">\n",
       "<tr>\n",
       "  <th>Omnibus:</th>       <td>199.597</td> <th>  Durbin-Watson:     </th> <td>   0.019</td>\n",
       "</tr>\n",
       "<tr>\n",
       "  <th>Prob(Omnibus):</th> <td> 0.000</td>  <th>  Jarque-Bera (JB):  </th> <td> 394.520</td>\n",
       "</tr>\n",
       "<tr>\n",
       "  <th>Skew:</th>          <td> 1.409</td>  <th>  Prob(JB):          </th> <td>2.14e-86</td>\n",
       "</tr>\n",
       "<tr>\n",
       "  <th>Kurtosis:</th>      <td> 4.925</td>  <th>  Cond. No.          </th> <td>    1.00</td>\n",
       "</tr>\n",
       "</table><br/><br/>Notes:<br/>[1] R² is computed without centering (uncentered) since the model does not contain a constant.<br/>[2] Standard Errors assume that the covariance matrix of the errors is correctly specified."
      ],
      "text/plain": [
       "<class 'statsmodels.iolib.summary.Summary'>\n",
       "\"\"\"\n",
       "                                 OLS Regression Results                                \n",
       "=======================================================================================\n",
       "Dep. Variable:          FantasyPoints   R-squared (uncentered):                   0.444\n",
       "Model:                            OLS   Adj. R-squared (uncentered):              0.443\n",
       "Method:                 Least Squares   F-statistic:                              648.0\n",
       "Date:                Thu, 18 Feb 2021   Prob (F-statistic):                   1.49e-105\n",
       "Time:                        09:47:45   Log-Likelihood:                         -4752.1\n",
       "No. Observations:                 813   AIC:                                      9506.\n",
       "Df Residuals:                     812   BIC:                                      9511.\n",
       "Df Model:                           1                                                  \n",
       "Covariance Type:            nonrobust                                                  \n",
       "==============================================================================\n",
       "                 coef    std err          t      P>|t|      [0.025      0.975]\n",
       "------------------------------------------------------------------------------\n",
       "Age            2.9056      0.114     25.456      0.000       2.682       3.130\n",
       "==============================================================================\n",
       "Omnibus:                      199.597   Durbin-Watson:                   0.019\n",
       "Prob(Omnibus):                  0.000   Jarque-Bera (JB):              394.520\n",
       "Skew:                           1.409   Prob(JB):                     2.14e-86\n",
       "Kurtosis:                       4.925   Cond. No.                         1.00\n",
       "==============================================================================\n",
       "\n",
       "Notes:\n",
       "[1] R² is computed without centering (uncentered) since the model does not contain a constant.\n",
       "[2] Standard Errors assume that the covariance matrix of the errors is correctly specified.\n",
       "\"\"\""
      ]
     },
     "execution_count": 20,
     "metadata": {},
     "output_type": "execute_result"
    }
   ],
   "source": [
    "x = rb_data[\"Age\"]\n",
    "y = rb_data[\"FantasyPoints\"]\n",
    "model = sm.OLS(y, x, missing='drop')\n",
    "results = model.fit()\n",
    "results.summary()"
   ]
  },
  {
   "cell_type": "code",
   "execution_count": 21,
   "metadata": {},
   "outputs": [
    {
     "data": {
      "text/html": [
       "<table class=\"simpletable\">\n",
       "<caption>OLS Regression Results</caption>\n",
       "<tr>\n",
       "  <th>Dep. Variable:</th>      <td>FantasyPoints</td>  <th>  R-squared (uncentered):</th>      <td>   0.475</td>\n",
       "</tr>\n",
       "<tr>\n",
       "  <th>Model:</th>                   <td>OLS</td>       <th>  Adj. R-squared (uncentered):</th> <td>   0.474</td>\n",
       "</tr>\n",
       "<tr>\n",
       "  <th>Method:</th>             <td>Least Squares</td>  <th>  F-statistic:       </th>          <td>   499.6</td>\n",
       "</tr>\n",
       "<tr>\n",
       "  <th>Date:</th>             <td>Thu, 18 Feb 2021</td> <th>  Prob (F-statistic):</th>          <td>2.50e-79</td>\n",
       "</tr>\n",
       "<tr>\n",
       "  <th>Time:</th>                 <td>09:47:45</td>     <th>  Log-Likelihood:    </th>          <td> -3256.0</td>\n",
       "</tr>\n",
       "<tr>\n",
       "  <th>No. Observations:</th>      <td>   554</td>      <th>  AIC:               </th>          <td>   6514.</td>\n",
       "</tr>\n",
       "<tr>\n",
       "  <th>Df Residuals:</th>          <td>   553</td>      <th>  BIC:               </th>          <td>   6518.</td>\n",
       "</tr>\n",
       "<tr>\n",
       "  <th>Df Model:</th>              <td>     1</td>      <th>                     </th>              <td> </td>   \n",
       "</tr>\n",
       "<tr>\n",
       "  <th>Covariance Type:</th>      <td>nonrobust</td>    <th>                     </th>              <td> </td>   \n",
       "</tr>\n",
       "</table>\n",
       "<table class=\"simpletable\">\n",
       "<tr>\n",
       "     <td></td>       <th>coef</th>     <th>std err</th>      <th>t</th>      <th>P>|t|</th>  <th>[0.025</th>    <th>0.975]</th>  \n",
       "</tr>\n",
       "<tr>\n",
       "  <th>Weight</th> <td>    0.3769</td> <td>    0.017</td> <td>   22.352</td> <td> 0.000</td> <td>    0.344</td> <td>    0.410</td>\n",
       "</tr>\n",
       "</table>\n",
       "<table class=\"simpletable\">\n",
       "<tr>\n",
       "  <th>Omnibus:</th>       <td>111.785</td> <th>  Durbin-Watson:     </th> <td>   0.011</td>\n",
       "</tr>\n",
       "<tr>\n",
       "  <th>Prob(Omnibus):</th> <td> 0.000</td>  <th>  Jarque-Bera (JB):  </th> <td> 186.589</td>\n",
       "</tr>\n",
       "<tr>\n",
       "  <th>Skew:</th>          <td> 1.238</td>  <th>  Prob(JB):          </th> <td>3.04e-41</td>\n",
       "</tr>\n",
       "<tr>\n",
       "  <th>Kurtosis:</th>      <td> 4.398</td>  <th>  Cond. No.          </th> <td>    1.00</td>\n",
       "</tr>\n",
       "</table><br/><br/>Notes:<br/>[1] R² is computed without centering (uncentered) since the model does not contain a constant.<br/>[2] Standard Errors assume that the covariance matrix of the errors is correctly specified."
      ],
      "text/plain": [
       "<class 'statsmodels.iolib.summary.Summary'>\n",
       "\"\"\"\n",
       "                                 OLS Regression Results                                \n",
       "=======================================================================================\n",
       "Dep. Variable:          FantasyPoints   R-squared (uncentered):                   0.475\n",
       "Model:                            OLS   Adj. R-squared (uncentered):              0.474\n",
       "Method:                 Least Squares   F-statistic:                              499.6\n",
       "Date:                Thu, 18 Feb 2021   Prob (F-statistic):                    2.50e-79\n",
       "Time:                        09:47:45   Log-Likelihood:                         -3256.0\n",
       "No. Observations:                 554   AIC:                                      6514.\n",
       "Df Residuals:                     553   BIC:                                      6518.\n",
       "Df Model:                           1                                                  \n",
       "Covariance Type:            nonrobust                                                  \n",
       "==============================================================================\n",
       "                 coef    std err          t      P>|t|      [0.025      0.975]\n",
       "------------------------------------------------------------------------------\n",
       "Weight         0.3769      0.017     22.352      0.000       0.344       0.410\n",
       "==============================================================================\n",
       "Omnibus:                      111.785   Durbin-Watson:                   0.011\n",
       "Prob(Omnibus):                  0.000   Jarque-Bera (JB):              186.589\n",
       "Skew:                           1.238   Prob(JB):                     3.04e-41\n",
       "Kurtosis:                       4.398   Cond. No.                         1.00\n",
       "==============================================================================\n",
       "\n",
       "Notes:\n",
       "[1] R² is computed without centering (uncentered) since the model does not contain a constant.\n",
       "[2] Standard Errors assume that the covariance matrix of the errors is correctly specified.\n",
       "\"\"\""
      ]
     },
     "execution_count": 21,
     "metadata": {},
     "output_type": "execute_result"
    }
   ],
   "source": [
    "x = rb_data[\"Weight\"]\n",
    "y = rb_data[\"FantasyPoints\"]\n",
    "model = sm.OLS(y, x, missing='drop')\n",
    "results = model.fit()\n",
    "results.summary()"
   ]
  },
  {
   "cell_type": "code",
   "execution_count": 22,
   "metadata": {},
   "outputs": [
    {
     "data": {
      "text/html": [
       "<table class=\"simpletable\">\n",
       "<caption>OLS Regression Results</caption>\n",
       "<tr>\n",
       "  <th>Dep. Variable:</th>      <td>FantasyPoints</td>  <th>  R-squared (uncentered):</th>      <td>   0.483</td>\n",
       "</tr>\n",
       "<tr>\n",
       "  <th>Model:</th>                   <td>OLS</td>       <th>  Adj. R-squared (uncentered):</th> <td>   0.482</td>\n",
       "</tr>\n",
       "<tr>\n",
       "  <th>Method:</th>             <td>Least Squares</td>  <th>  F-statistic:       </th>          <td>   516.5</td>\n",
       "</tr>\n",
       "<tr>\n",
       "  <th>Date:</th>             <td>Thu, 18 Feb 2021</td> <th>  Prob (F-statistic):</th>          <td>3.03e-81</td>\n",
       "</tr>\n",
       "<tr>\n",
       "  <th>Time:</th>                 <td>09:47:45</td>     <th>  Log-Likelihood:    </th>          <td> -3251.6</td>\n",
       "</tr>\n",
       "<tr>\n",
       "  <th>No. Observations:</th>      <td>   554</td>      <th>  AIC:               </th>          <td>   6505.</td>\n",
       "</tr>\n",
       "<tr>\n",
       "  <th>Df Residuals:</th>          <td>   553</td>      <th>  BIC:               </th>          <td>   6510.</td>\n",
       "</tr>\n",
       "<tr>\n",
       "  <th>Df Model:</th>              <td>     1</td>      <th>                     </th>              <td> </td>   \n",
       "</tr>\n",
       "<tr>\n",
       "  <th>Covariance Type:</th>      <td>nonrobust</td>    <th>                     </th>              <td> </td>   \n",
       "</tr>\n",
       "</table>\n",
       "<table class=\"simpletable\">\n",
       "<tr>\n",
       "        <td></td>          <th>coef</th>     <th>std err</th>      <th>t</th>      <th>P>|t|</th>  <th>[0.025</th>    <th>0.975]</th>  \n",
       "</tr>\n",
       "<tr>\n",
       "  <th>Height_Total</th> <td>    1.1649</td> <td>    0.051</td> <td>   22.727</td> <td> 0.000</td> <td>    1.064</td> <td>    1.266</td>\n",
       "</tr>\n",
       "</table>\n",
       "<table class=\"simpletable\">\n",
       "<tr>\n",
       "  <th>Omnibus:</th>       <td>117.799</td> <th>  Durbin-Watson:     </th> <td>   0.003</td>\n",
       "</tr>\n",
       "<tr>\n",
       "  <th>Prob(Omnibus):</th> <td> 0.000</td>  <th>  Jarque-Bera (JB):  </th> <td> 202.768</td>\n",
       "</tr>\n",
       "<tr>\n",
       "  <th>Skew:</th>          <td> 1.280</td>  <th>  Prob(JB):          </th> <td>9.32e-45</td>\n",
       "</tr>\n",
       "<tr>\n",
       "  <th>Kurtosis:</th>      <td> 4.495</td>  <th>  Cond. No.          </th> <td>    1.00</td>\n",
       "</tr>\n",
       "</table><br/><br/>Notes:<br/>[1] R² is computed without centering (uncentered) since the model does not contain a constant.<br/>[2] Standard Errors assume that the covariance matrix of the errors is correctly specified."
      ],
      "text/plain": [
       "<class 'statsmodels.iolib.summary.Summary'>\n",
       "\"\"\"\n",
       "                                 OLS Regression Results                                \n",
       "=======================================================================================\n",
       "Dep. Variable:          FantasyPoints   R-squared (uncentered):                   0.483\n",
       "Model:                            OLS   Adj. R-squared (uncentered):              0.482\n",
       "Method:                 Least Squares   F-statistic:                              516.5\n",
       "Date:                Thu, 18 Feb 2021   Prob (F-statistic):                    3.03e-81\n",
       "Time:                        09:47:45   Log-Likelihood:                         -3251.6\n",
       "No. Observations:                 554   AIC:                                      6505.\n",
       "Df Residuals:                     553   BIC:                                      6510.\n",
       "Df Model:                           1                                                  \n",
       "Covariance Type:            nonrobust                                                  \n",
       "================================================================================\n",
       "                   coef    std err          t      P>|t|      [0.025      0.975]\n",
       "--------------------------------------------------------------------------------\n",
       "Height_Total     1.1649      0.051     22.727      0.000       1.064       1.266\n",
       "==============================================================================\n",
       "Omnibus:                      117.799   Durbin-Watson:                   0.003\n",
       "Prob(Omnibus):                  0.000   Jarque-Bera (JB):              202.768\n",
       "Skew:                           1.280   Prob(JB):                     9.32e-45\n",
       "Kurtosis:                       4.495   Cond. No.                         1.00\n",
       "==============================================================================\n",
       "\n",
       "Notes:\n",
       "[1] R² is computed without centering (uncentered) since the model does not contain a constant.\n",
       "[2] Standard Errors assume that the covariance matrix of the errors is correctly specified.\n",
       "\"\"\""
      ]
     },
     "execution_count": 22,
     "metadata": {},
     "output_type": "execute_result"
    }
   ],
   "source": [
    "x = rb_data[\"Height_Total\"]\n",
    "y = rb_data[\"FantasyPoints\"]\n",
    "model = sm.OLS(y, x, missing='drop')\n",
    "results = model.fit()\n",
    "results.summary()"
   ]
  },
  {
   "cell_type": "code",
   "execution_count": 23,
   "metadata": {},
   "outputs": [],
   "source": [
    "wr_data = sorted_df.loc[sorted_df[\"Position\"] == \"WR\"]"
   ]
  },
  {
   "cell_type": "code",
   "execution_count": 24,
   "metadata": {},
   "outputs": [
    {
     "data": {
      "text/html": [
       "<table class=\"simpletable\">\n",
       "<caption>OLS Regression Results</caption>\n",
       "<tr>\n",
       "  <th>Dep. Variable:</th>      <td>FantasyPoints</td>  <th>  R-squared (uncentered):</th>      <td>   0.534</td> \n",
       "</tr>\n",
       "<tr>\n",
       "  <th>Model:</th>                   <td>OLS</td>       <th>  Adj. R-squared (uncentered):</th> <td>   0.533</td> \n",
       "</tr>\n",
       "<tr>\n",
       "  <th>Method:</th>             <td>Least Squares</td>  <th>  F-statistic:       </th>          <td>   1198.</td> \n",
       "</tr>\n",
       "<tr>\n",
       "  <th>Date:</th>             <td>Thu, 18 Feb 2021</td> <th>  Prob (F-statistic):</th>          <td>1.43e-175</td>\n",
       "</tr>\n",
       "<tr>\n",
       "  <th>Time:</th>                 <td>09:47:45</td>     <th>  Log-Likelihood:    </th>          <td> -6089.3</td> \n",
       "</tr>\n",
       "<tr>\n",
       "  <th>No. Observations:</th>      <td>  1047</td>      <th>  AIC:               </th>          <td>1.218e+04</td>\n",
       "</tr>\n",
       "<tr>\n",
       "  <th>Df Residuals:</th>          <td>  1046</td>      <th>  BIC:               </th>          <td>1.219e+04</td>\n",
       "</tr>\n",
       "<tr>\n",
       "  <th>Df Model:</th>              <td>     1</td>      <th>                     </th>              <td> </td>    \n",
       "</tr>\n",
       "<tr>\n",
       "  <th>Covariance Type:</th>      <td>nonrobust</td>    <th>                     </th>              <td> </td>    \n",
       "</tr>\n",
       "</table>\n",
       "<table class=\"simpletable\">\n",
       "<tr>\n",
       "   <td></td>      <th>coef</th>     <th>std err</th>      <th>t</th>      <th>P>|t|</th>  <th>[0.025</th>    <th>0.975]</th>  \n",
       "</tr>\n",
       "<tr>\n",
       "  <th>Age</th> <td>    3.3592</td> <td>    0.097</td> <td>   34.613</td> <td> 0.000</td> <td>    3.169</td> <td>    3.550</td>\n",
       "</tr>\n",
       "</table>\n",
       "<table class=\"simpletable\">\n",
       "<tr>\n",
       "  <th>Omnibus:</th>       <td>140.400</td> <th>  Durbin-Watson:     </th> <td>   0.028</td>\n",
       "</tr>\n",
       "<tr>\n",
       "  <th>Prob(Omnibus):</th> <td> 0.000</td>  <th>  Jarque-Bera (JB):  </th> <td> 197.582</td>\n",
       "</tr>\n",
       "<tr>\n",
       "  <th>Skew:</th>          <td> 1.045</td>  <th>  Prob(JB):          </th> <td>1.25e-43</td>\n",
       "</tr>\n",
       "<tr>\n",
       "  <th>Kurtosis:</th>      <td> 3.400</td>  <th>  Cond. No.          </th> <td>    1.00</td>\n",
       "</tr>\n",
       "</table><br/><br/>Notes:<br/>[1] R² is computed without centering (uncentered) since the model does not contain a constant.<br/>[2] Standard Errors assume that the covariance matrix of the errors is correctly specified."
      ],
      "text/plain": [
       "<class 'statsmodels.iolib.summary.Summary'>\n",
       "\"\"\"\n",
       "                                 OLS Regression Results                                \n",
       "=======================================================================================\n",
       "Dep. Variable:          FantasyPoints   R-squared (uncentered):                   0.534\n",
       "Model:                            OLS   Adj. R-squared (uncentered):              0.533\n",
       "Method:                 Least Squares   F-statistic:                              1198.\n",
       "Date:                Thu, 18 Feb 2021   Prob (F-statistic):                   1.43e-175\n",
       "Time:                        09:47:45   Log-Likelihood:                         -6089.3\n",
       "No. Observations:                1047   AIC:                                  1.218e+04\n",
       "Df Residuals:                    1046   BIC:                                  1.219e+04\n",
       "Df Model:                           1                                                  \n",
       "Covariance Type:            nonrobust                                                  \n",
       "==============================================================================\n",
       "                 coef    std err          t      P>|t|      [0.025      0.975]\n",
       "------------------------------------------------------------------------------\n",
       "Age            3.3592      0.097     34.613      0.000       3.169       3.550\n",
       "==============================================================================\n",
       "Omnibus:                      140.400   Durbin-Watson:                   0.028\n",
       "Prob(Omnibus):                  0.000   Jarque-Bera (JB):              197.582\n",
       "Skew:                           1.045   Prob(JB):                     1.25e-43\n",
       "Kurtosis:                       3.400   Cond. No.                         1.00\n",
       "==============================================================================\n",
       "\n",
       "Notes:\n",
       "[1] R² is computed without centering (uncentered) since the model does not contain a constant.\n",
       "[2] Standard Errors assume that the covariance matrix of the errors is correctly specified.\n",
       "\"\"\""
      ]
     },
     "execution_count": 24,
     "metadata": {},
     "output_type": "execute_result"
    }
   ],
   "source": [
    "x = wr_data[\"Age\"]\n",
    "y = wr_data[\"FantasyPoints\"]\n",
    "model = sm.OLS(y, x, missing='drop')\n",
    "results = model.fit()\n",
    "results.summary()"
   ]
  },
  {
   "cell_type": "code",
   "execution_count": 25,
   "metadata": {},
   "outputs": [
    {
     "data": {
      "text/html": [
       "<table class=\"simpletable\">\n",
       "<caption>OLS Regression Results</caption>\n",
       "<tr>\n",
       "  <th>Dep. Variable:</th>      <td>FantasyPoints</td>  <th>  R-squared (uncentered):</th>      <td>   0.543</td> \n",
       "</tr>\n",
       "<tr>\n",
       "  <th>Model:</th>                   <td>OLS</td>       <th>  Adj. R-squared (uncentered):</th> <td>   0.542</td> \n",
       "</tr>\n",
       "<tr>\n",
       "  <th>Method:</th>             <td>Least Squares</td>  <th>  F-statistic:       </th>          <td>   862.3</td> \n",
       "</tr>\n",
       "<tr>\n",
       "  <th>Date:</th>             <td>Thu, 18 Feb 2021</td> <th>  Prob (F-statistic):</th>          <td>1.52e-125</td>\n",
       "</tr>\n",
       "<tr>\n",
       "  <th>Time:</th>                 <td>09:47:45</td>     <th>  Log-Likelihood:    </th>          <td> -4271.4</td> \n",
       "</tr>\n",
       "<tr>\n",
       "  <th>No. Observations:</th>      <td>   727</td>      <th>  AIC:               </th>          <td>   8545.</td> \n",
       "</tr>\n",
       "<tr>\n",
       "  <th>Df Residuals:</th>          <td>   726</td>      <th>  BIC:               </th>          <td>   8549.</td> \n",
       "</tr>\n",
       "<tr>\n",
       "  <th>Df Model:</th>              <td>     1</td>      <th>                     </th>              <td> </td>    \n",
       "</tr>\n",
       "<tr>\n",
       "  <th>Covariance Type:</th>      <td>nonrobust</td>    <th>                     </th>              <td> </td>    \n",
       "</tr>\n",
       "</table>\n",
       "<table class=\"simpletable\">\n",
       "<tr>\n",
       "     <td></td>       <th>coef</th>     <th>std err</th>      <th>t</th>      <th>P>|t|</th>  <th>[0.025</th>    <th>0.975]</th>  \n",
       "</tr>\n",
       "<tr>\n",
       "  <th>Weight</th> <td>    0.4631</td> <td>    0.016</td> <td>   29.365</td> <td> 0.000</td> <td>    0.432</td> <td>    0.494</td>\n",
       "</tr>\n",
       "</table>\n",
       "<table class=\"simpletable\">\n",
       "<tr>\n",
       "  <th>Omnibus:</th>       <td>71.306</td> <th>  Durbin-Watson:     </th> <td>   0.021</td>\n",
       "</tr>\n",
       "<tr>\n",
       "  <th>Prob(Omnibus):</th> <td> 0.000</td> <th>  Jarque-Bera (JB):  </th> <td>  91.801</td>\n",
       "</tr>\n",
       "<tr>\n",
       "  <th>Skew:</th>          <td> 0.870</td> <th>  Prob(JB):          </th> <td>1.16e-20</td>\n",
       "</tr>\n",
       "<tr>\n",
       "  <th>Kurtosis:</th>      <td> 2.940</td> <th>  Cond. No.          </th> <td>    1.00</td>\n",
       "</tr>\n",
       "</table><br/><br/>Notes:<br/>[1] R² is computed without centering (uncentered) since the model does not contain a constant.<br/>[2] Standard Errors assume that the covariance matrix of the errors is correctly specified."
      ],
      "text/plain": [
       "<class 'statsmodels.iolib.summary.Summary'>\n",
       "\"\"\"\n",
       "                                 OLS Regression Results                                \n",
       "=======================================================================================\n",
       "Dep. Variable:          FantasyPoints   R-squared (uncentered):                   0.543\n",
       "Model:                            OLS   Adj. R-squared (uncentered):              0.542\n",
       "Method:                 Least Squares   F-statistic:                              862.3\n",
       "Date:                Thu, 18 Feb 2021   Prob (F-statistic):                   1.52e-125\n",
       "Time:                        09:47:45   Log-Likelihood:                         -4271.4\n",
       "No. Observations:                 727   AIC:                                      8545.\n",
       "Df Residuals:                     726   BIC:                                      8549.\n",
       "Df Model:                           1                                                  \n",
       "Covariance Type:            nonrobust                                                  \n",
       "==============================================================================\n",
       "                 coef    std err          t      P>|t|      [0.025      0.975]\n",
       "------------------------------------------------------------------------------\n",
       "Weight         0.4631      0.016     29.365      0.000       0.432       0.494\n",
       "==============================================================================\n",
       "Omnibus:                       71.306   Durbin-Watson:                   0.021\n",
       "Prob(Omnibus):                  0.000   Jarque-Bera (JB):               91.801\n",
       "Skew:                           0.870   Prob(JB):                     1.16e-20\n",
       "Kurtosis:                       2.940   Cond. No.                         1.00\n",
       "==============================================================================\n",
       "\n",
       "Notes:\n",
       "[1] R² is computed without centering (uncentered) since the model does not contain a constant.\n",
       "[2] Standard Errors assume that the covariance matrix of the errors is correctly specified.\n",
       "\"\"\""
      ]
     },
     "execution_count": 25,
     "metadata": {},
     "output_type": "execute_result"
    }
   ],
   "source": [
    "x = wr_data[\"Weight\"]\n",
    "y = wr_data[\"FantasyPoints\"]\n",
    "model = sm.OLS(y, x, missing='drop')\n",
    "results = model.fit()\n",
    "results.summary()"
   ]
  },
  {
   "cell_type": "code",
   "execution_count": 26,
   "metadata": {},
   "outputs": [
    {
     "data": {
      "text/html": [
       "<table class=\"simpletable\">\n",
       "<caption>OLS Regression Results</caption>\n",
       "<tr>\n",
       "  <th>Dep. Variable:</th>      <td>FantasyPoints</td>  <th>  R-squared (uncentered):</th>      <td>   0.545</td> \n",
       "</tr>\n",
       "<tr>\n",
       "  <th>Model:</th>                   <td>OLS</td>       <th>  Adj. R-squared (uncentered):</th> <td>   0.545</td> \n",
       "</tr>\n",
       "<tr>\n",
       "  <th>Method:</th>             <td>Least Squares</td>  <th>  F-statistic:       </th>          <td>   870.1</td> \n",
       "</tr>\n",
       "<tr>\n",
       "  <th>Date:</th>             <td>Thu, 18 Feb 2021</td> <th>  Prob (F-statistic):</th>          <td>2.57e-126</td>\n",
       "</tr>\n",
       "<tr>\n",
       "  <th>Time:</th>                 <td>09:47:45</td>     <th>  Log-Likelihood:    </th>          <td> -4269.7</td> \n",
       "</tr>\n",
       "<tr>\n",
       "  <th>No. Observations:</th>      <td>   727</td>      <th>  AIC:               </th>          <td>   8541.</td> \n",
       "</tr>\n",
       "<tr>\n",
       "  <th>Df Residuals:</th>          <td>   726</td>      <th>  BIC:               </th>          <td>   8546.</td> \n",
       "</tr>\n",
       "<tr>\n",
       "  <th>Df Model:</th>              <td>     1</td>      <th>                     </th>              <td> </td>    \n",
       "</tr>\n",
       "<tr>\n",
       "  <th>Covariance Type:</th>      <td>nonrobust</td>    <th>                     </th>              <td> </td>    \n",
       "</tr>\n",
       "</table>\n",
       "<table class=\"simpletable\">\n",
       "<tr>\n",
       "        <td></td>          <th>coef</th>     <th>std err</th>      <th>t</th>      <th>P>|t|</th>  <th>[0.025</th>    <th>0.975]</th>  \n",
       "</tr>\n",
       "<tr>\n",
       "  <th>Height_Total</th> <td>    1.2952</td> <td>    0.044</td> <td>   29.498</td> <td> 0.000</td> <td>    1.209</td> <td>    1.381</td>\n",
       "</tr>\n",
       "</table>\n",
       "<table class=\"simpletable\">\n",
       "<tr>\n",
       "  <th>Omnibus:</th>       <td>75.674</td> <th>  Durbin-Watson:     </th> <td>   0.003</td>\n",
       "</tr>\n",
       "<tr>\n",
       "  <th>Prob(Omnibus):</th> <td> 0.000</td> <th>  Jarque-Bera (JB):  </th> <td>  98.978</td>\n",
       "</tr>\n",
       "<tr>\n",
       "  <th>Skew:</th>          <td> 0.904</td> <th>  Prob(JB):          </th> <td>3.22e-22</td>\n",
       "</tr>\n",
       "<tr>\n",
       "  <th>Kurtosis:</th>      <td> 2.987</td> <th>  Cond. No.          </th> <td>    1.00</td>\n",
       "</tr>\n",
       "</table><br/><br/>Notes:<br/>[1] R² is computed without centering (uncentered) since the model does not contain a constant.<br/>[2] Standard Errors assume that the covariance matrix of the errors is correctly specified."
      ],
      "text/plain": [
       "<class 'statsmodels.iolib.summary.Summary'>\n",
       "\"\"\"\n",
       "                                 OLS Regression Results                                \n",
       "=======================================================================================\n",
       "Dep. Variable:          FantasyPoints   R-squared (uncentered):                   0.545\n",
       "Model:                            OLS   Adj. R-squared (uncentered):              0.545\n",
       "Method:                 Least Squares   F-statistic:                              870.1\n",
       "Date:                Thu, 18 Feb 2021   Prob (F-statistic):                   2.57e-126\n",
       "Time:                        09:47:45   Log-Likelihood:                         -4269.7\n",
       "No. Observations:                 727   AIC:                                      8541.\n",
       "Df Residuals:                     726   BIC:                                      8546.\n",
       "Df Model:                           1                                                  \n",
       "Covariance Type:            nonrobust                                                  \n",
       "================================================================================\n",
       "                   coef    std err          t      P>|t|      [0.025      0.975]\n",
       "--------------------------------------------------------------------------------\n",
       "Height_Total     1.2952      0.044     29.498      0.000       1.209       1.381\n",
       "==============================================================================\n",
       "Omnibus:                       75.674   Durbin-Watson:                   0.003\n",
       "Prob(Omnibus):                  0.000   Jarque-Bera (JB):               98.978\n",
       "Skew:                           0.904   Prob(JB):                     3.22e-22\n",
       "Kurtosis:                       2.987   Cond. No.                         1.00\n",
       "==============================================================================\n",
       "\n",
       "Notes:\n",
       "[1] R² is computed without centering (uncentered) since the model does not contain a constant.\n",
       "[2] Standard Errors assume that the covariance matrix of the errors is correctly specified.\n",
       "\"\"\""
      ]
     },
     "execution_count": 26,
     "metadata": {},
     "output_type": "execute_result"
    }
   ],
   "source": [
    "x = wr_data[\"Height_Total\"]\n",
    "y = wr_data[\"FantasyPoints\"]\n",
    "model = sm.OLS(y, x, missing='drop')\n",
    "results = model.fit()\n",
    "results.summary()"
   ]
  },
  {
   "cell_type": "code",
   "execution_count": 27,
   "metadata": {},
   "outputs": [],
   "source": [
    "te_data = sorted_df.loc[sorted_df[\"Position\"] == \"TE\"]"
   ]
  },
  {
   "cell_type": "code",
   "execution_count": 28,
   "metadata": {},
   "outputs": [
    {
     "data": {
      "text/html": [
       "<table class=\"simpletable\">\n",
       "<caption>OLS Regression Results</caption>\n",
       "<tr>\n",
       "  <th>Dep. Variable:</th>      <td>FantasyPoints</td>  <th>  R-squared (uncentered):</th>      <td>   0.496</td>\n",
       "</tr>\n",
       "<tr>\n",
       "  <th>Model:</th>                   <td>OLS</td>       <th>  Adj. R-squared (uncentered):</th> <td>   0.495</td>\n",
       "</tr>\n",
       "<tr>\n",
       "  <th>Method:</th>             <td>Least Squares</td>  <th>  F-statistic:       </th>          <td>   553.4</td>\n",
       "</tr>\n",
       "<tr>\n",
       "  <th>Date:</th>             <td>Thu, 18 Feb 2021</td> <th>  Prob (F-statistic):</th>          <td>9.61e-86</td>\n",
       "</tr>\n",
       "<tr>\n",
       "  <th>Time:</th>                 <td>09:47:45</td>     <th>  Log-Likelihood:    </th>          <td> -3077.4</td>\n",
       "</tr>\n",
       "<tr>\n",
       "  <th>No. Observations:</th>      <td>   564</td>      <th>  AIC:               </th>          <td>   6157.</td>\n",
       "</tr>\n",
       "<tr>\n",
       "  <th>Df Residuals:</th>          <td>   563</td>      <th>  BIC:               </th>          <td>   6161.</td>\n",
       "</tr>\n",
       "<tr>\n",
       "  <th>Df Model:</th>              <td>     1</td>      <th>                     </th>              <td> </td>   \n",
       "</tr>\n",
       "<tr>\n",
       "  <th>Covariance Type:</th>      <td>nonrobust</td>    <th>                     </th>              <td> </td>   \n",
       "</tr>\n",
       "</table>\n",
       "<table class=\"simpletable\">\n",
       "<tr>\n",
       "   <td></td>      <th>coef</th>     <th>std err</th>      <th>t</th>      <th>P>|t|</th>  <th>[0.025</th>    <th>0.975]</th>  \n",
       "</tr>\n",
       "<tr>\n",
       "  <th>Age</th> <td>    2.1101</td> <td>    0.090</td> <td>   23.525</td> <td> 0.000</td> <td>    1.934</td> <td>    2.286</td>\n",
       "</tr>\n",
       "</table>\n",
       "<table class=\"simpletable\">\n",
       "<tr>\n",
       "  <th>Omnibus:</th>       <td>152.410</td> <th>  Durbin-Watson:     </th> <td>   0.028</td>\n",
       "</tr>\n",
       "<tr>\n",
       "  <th>Prob(Omnibus):</th> <td> 0.000</td>  <th>  Jarque-Bera (JB):  </th> <td> 306.037</td>\n",
       "</tr>\n",
       "<tr>\n",
       "  <th>Skew:</th>          <td> 1.512</td>  <th>  Prob(JB):          </th> <td>3.51e-67</td>\n",
       "</tr>\n",
       "<tr>\n",
       "  <th>Kurtosis:</th>      <td> 4.969</td>  <th>  Cond. No.          </th> <td>    1.00</td>\n",
       "</tr>\n",
       "</table><br/><br/>Notes:<br/>[1] R² is computed without centering (uncentered) since the model does not contain a constant.<br/>[2] Standard Errors assume that the covariance matrix of the errors is correctly specified."
      ],
      "text/plain": [
       "<class 'statsmodels.iolib.summary.Summary'>\n",
       "\"\"\"\n",
       "                                 OLS Regression Results                                \n",
       "=======================================================================================\n",
       "Dep. Variable:          FantasyPoints   R-squared (uncentered):                   0.496\n",
       "Model:                            OLS   Adj. R-squared (uncentered):              0.495\n",
       "Method:                 Least Squares   F-statistic:                              553.4\n",
       "Date:                Thu, 18 Feb 2021   Prob (F-statistic):                    9.61e-86\n",
       "Time:                        09:47:45   Log-Likelihood:                         -3077.4\n",
       "No. Observations:                 564   AIC:                                      6157.\n",
       "Df Residuals:                     563   BIC:                                      6161.\n",
       "Df Model:                           1                                                  \n",
       "Covariance Type:            nonrobust                                                  \n",
       "==============================================================================\n",
       "                 coef    std err          t      P>|t|      [0.025      0.975]\n",
       "------------------------------------------------------------------------------\n",
       "Age            2.1101      0.090     23.525      0.000       1.934       2.286\n",
       "==============================================================================\n",
       "Omnibus:                      152.410   Durbin-Watson:                   0.028\n",
       "Prob(Omnibus):                  0.000   Jarque-Bera (JB):              306.037\n",
       "Skew:                           1.512   Prob(JB):                     3.51e-67\n",
       "Kurtosis:                       4.969   Cond. No.                         1.00\n",
       "==============================================================================\n",
       "\n",
       "Notes:\n",
       "[1] R² is computed without centering (uncentered) since the model does not contain a constant.\n",
       "[2] Standard Errors assume that the covariance matrix of the errors is correctly specified.\n",
       "\"\"\""
      ]
     },
     "execution_count": 28,
     "metadata": {},
     "output_type": "execute_result"
    }
   ],
   "source": [
    "x = te_data[\"Age\"]\n",
    "y = te_data[\"FantasyPoints\"]\n",
    "model = sm.OLS(y, x, missing='drop')\n",
    "results = model.fit()\n",
    "results.summary()"
   ]
  },
  {
   "cell_type": "code",
   "execution_count": 29,
   "metadata": {},
   "outputs": [
    {
     "data": {
      "text/html": [
       "<table class=\"simpletable\">\n",
       "<caption>OLS Regression Results</caption>\n",
       "<tr>\n",
       "  <th>Dep. Variable:</th>      <td>FantasyPoints</td>  <th>  R-squared (uncentered):</th>      <td>   0.483</td>\n",
       "</tr>\n",
       "<tr>\n",
       "  <th>Model:</th>                   <td>OLS</td>       <th>  Adj. R-squared (uncentered):</th> <td>   0.482</td>\n",
       "</tr>\n",
       "<tr>\n",
       "  <th>Method:</th>             <td>Least Squares</td>  <th>  F-statistic:       </th>          <td>   402.5</td>\n",
       "</tr>\n",
       "<tr>\n",
       "  <th>Date:</th>             <td>Thu, 18 Feb 2021</td> <th>  Prob (F-statistic):</th>          <td>1.03e-63</td>\n",
       "</tr>\n",
       "<tr>\n",
       "  <th>Time:</th>                 <td>09:47:46</td>     <th>  Log-Likelihood:    </th>          <td> -2383.9</td>\n",
       "</tr>\n",
       "<tr>\n",
       "  <th>No. Observations:</th>      <td>   432</td>      <th>  AIC:               </th>          <td>   4770.</td>\n",
       "</tr>\n",
       "<tr>\n",
       "  <th>Df Residuals:</th>          <td>   431</td>      <th>  BIC:               </th>          <td>   4774.</td>\n",
       "</tr>\n",
       "<tr>\n",
       "  <th>Df Model:</th>              <td>     1</td>      <th>                     </th>              <td> </td>   \n",
       "</tr>\n",
       "<tr>\n",
       "  <th>Covariance Type:</th>      <td>nonrobust</td>    <th>                     </th>              <td> </td>   \n",
       "</tr>\n",
       "</table>\n",
       "<table class=\"simpletable\">\n",
       "<tr>\n",
       "     <td></td>       <th>coef</th>     <th>std err</th>      <th>t</th>      <th>P>|t|</th>  <th>[0.025</th>    <th>0.975]</th>  \n",
       "</tr>\n",
       "<tr>\n",
       "  <th>Weight</th> <td>    0.2309</td> <td>    0.012</td> <td>   20.063</td> <td> 0.000</td> <td>    0.208</td> <td>    0.254</td>\n",
       "</tr>\n",
       "</table>\n",
       "<table class=\"simpletable\">\n",
       "<tr>\n",
       "  <th>Omnibus:</th>       <td>107.025</td> <th>  Durbin-Watson:     </th> <td>   0.006</td>\n",
       "</tr>\n",
       "<tr>\n",
       "  <th>Prob(Omnibus):</th> <td> 0.000</td>  <th>  Jarque-Bera (JB):  </th> <td> 193.117</td>\n",
       "</tr>\n",
       "<tr>\n",
       "  <th>Skew:</th>          <td> 1.431</td>  <th>  Prob(JB):          </th> <td>1.16e-42</td>\n",
       "</tr>\n",
       "<tr>\n",
       "  <th>Kurtosis:</th>      <td> 4.594</td>  <th>  Cond. No.          </th> <td>    1.00</td>\n",
       "</tr>\n",
       "</table><br/><br/>Notes:<br/>[1] R² is computed without centering (uncentered) since the model does not contain a constant.<br/>[2] Standard Errors assume that the covariance matrix of the errors is correctly specified."
      ],
      "text/plain": [
       "<class 'statsmodels.iolib.summary.Summary'>\n",
       "\"\"\"\n",
       "                                 OLS Regression Results                                \n",
       "=======================================================================================\n",
       "Dep. Variable:          FantasyPoints   R-squared (uncentered):                   0.483\n",
       "Model:                            OLS   Adj. R-squared (uncentered):              0.482\n",
       "Method:                 Least Squares   F-statistic:                              402.5\n",
       "Date:                Thu, 18 Feb 2021   Prob (F-statistic):                    1.03e-63\n",
       "Time:                        09:47:46   Log-Likelihood:                         -2383.9\n",
       "No. Observations:                 432   AIC:                                      4770.\n",
       "Df Residuals:                     431   BIC:                                      4774.\n",
       "Df Model:                           1                                                  \n",
       "Covariance Type:            nonrobust                                                  \n",
       "==============================================================================\n",
       "                 coef    std err          t      P>|t|      [0.025      0.975]\n",
       "------------------------------------------------------------------------------\n",
       "Weight         0.2309      0.012     20.063      0.000       0.208       0.254\n",
       "==============================================================================\n",
       "Omnibus:                      107.025   Durbin-Watson:                   0.006\n",
       "Prob(Omnibus):                  0.000   Jarque-Bera (JB):              193.117\n",
       "Skew:                           1.431   Prob(JB):                     1.16e-42\n",
       "Kurtosis:                       4.594   Cond. No.                         1.00\n",
       "==============================================================================\n",
       "\n",
       "Notes:\n",
       "[1] R² is computed without centering (uncentered) since the model does not contain a constant.\n",
       "[2] Standard Errors assume that the covariance matrix of the errors is correctly specified.\n",
       "\"\"\""
      ]
     },
     "execution_count": 29,
     "metadata": {},
     "output_type": "execute_result"
    }
   ],
   "source": [
    "x = te_data[\"Weight\"]\n",
    "y = te_data[\"FantasyPoints\"]\n",
    "model = sm.OLS(y, x, missing='drop')\n",
    "results = model.fit()\n",
    "results.summary()"
   ]
  },
  {
   "cell_type": "code",
   "execution_count": 30,
   "metadata": {},
   "outputs": [
    {
     "data": {
      "text/html": [
       "<table class=\"simpletable\">\n",
       "<caption>OLS Regression Results</caption>\n",
       "<tr>\n",
       "  <th>Dep. Variable:</th>      <td>FantasyPoints</td>  <th>  R-squared (uncentered):</th>      <td>   0.483</td>\n",
       "</tr>\n",
       "<tr>\n",
       "  <th>Model:</th>                   <td>OLS</td>       <th>  Adj. R-squared (uncentered):</th> <td>   0.482</td>\n",
       "</tr>\n",
       "<tr>\n",
       "  <th>Method:</th>             <td>Least Squares</td>  <th>  F-statistic:       </th>          <td>   402.5</td>\n",
       "</tr>\n",
       "<tr>\n",
       "  <th>Date:</th>             <td>Thu, 18 Feb 2021</td> <th>  Prob (F-statistic):</th>          <td>1.03e-63</td>\n",
       "</tr>\n",
       "<tr>\n",
       "  <th>Time:</th>                 <td>09:47:46</td>     <th>  Log-Likelihood:    </th>          <td> -2383.9</td>\n",
       "</tr>\n",
       "<tr>\n",
       "  <th>No. Observations:</th>      <td>   432</td>      <th>  AIC:               </th>          <td>   4770.</td>\n",
       "</tr>\n",
       "<tr>\n",
       "  <th>Df Residuals:</th>          <td>   431</td>      <th>  BIC:               </th>          <td>   4774.</td>\n",
       "</tr>\n",
       "<tr>\n",
       "  <th>Df Model:</th>              <td>     1</td>      <th>                     </th>              <td> </td>   \n",
       "</tr>\n",
       "<tr>\n",
       "  <th>Covariance Type:</th>      <td>nonrobust</td>    <th>                     </th>              <td> </td>   \n",
       "</tr>\n",
       "</table>\n",
       "<table class=\"simpletable\">\n",
       "<tr>\n",
       "        <td></td>          <th>coef</th>     <th>std err</th>      <th>t</th>      <th>P>|t|</th>  <th>[0.025</th>    <th>0.975]</th>  \n",
       "</tr>\n",
       "<tr>\n",
       "  <th>Height_Total</th> <td>    0.7608</td> <td>    0.038</td> <td>   20.063</td> <td> 0.000</td> <td>    0.686</td> <td>    0.835</td>\n",
       "</tr>\n",
       "</table>\n",
       "<table class=\"simpletable\">\n",
       "<tr>\n",
       "  <th>Omnibus:</th>       <td>109.223</td> <th>  Durbin-Watson:     </th> <td>   0.002</td>\n",
       "</tr>\n",
       "<tr>\n",
       "  <th>Prob(Omnibus):</th> <td> 0.000</td>  <th>  Jarque-Bera (JB):  </th> <td> 199.719</td>\n",
       "</tr>\n",
       "<tr>\n",
       "  <th>Skew:</th>          <td> 1.450</td>  <th>  Prob(JB):          </th> <td>4.28e-44</td>\n",
       "</tr>\n",
       "<tr>\n",
       "  <th>Kurtosis:</th>      <td> 4.637</td>  <th>  Cond. No.          </th> <td>    1.00</td>\n",
       "</tr>\n",
       "</table><br/><br/>Notes:<br/>[1] R² is computed without centering (uncentered) since the model does not contain a constant.<br/>[2] Standard Errors assume that the covariance matrix of the errors is correctly specified."
      ],
      "text/plain": [
       "<class 'statsmodels.iolib.summary.Summary'>\n",
       "\"\"\"\n",
       "                                 OLS Regression Results                                \n",
       "=======================================================================================\n",
       "Dep. Variable:          FantasyPoints   R-squared (uncentered):                   0.483\n",
       "Model:                            OLS   Adj. R-squared (uncentered):              0.482\n",
       "Method:                 Least Squares   F-statistic:                              402.5\n",
       "Date:                Thu, 18 Feb 2021   Prob (F-statistic):                    1.03e-63\n",
       "Time:                        09:47:46   Log-Likelihood:                         -2383.9\n",
       "No. Observations:                 432   AIC:                                      4770.\n",
       "Df Residuals:                     431   BIC:                                      4774.\n",
       "Df Model:                           1                                                  \n",
       "Covariance Type:            nonrobust                                                  \n",
       "================================================================================\n",
       "                   coef    std err          t      P>|t|      [0.025      0.975]\n",
       "--------------------------------------------------------------------------------\n",
       "Height_Total     0.7608      0.038     20.063      0.000       0.686       0.835\n",
       "==============================================================================\n",
       "Omnibus:                      109.223   Durbin-Watson:                   0.002\n",
       "Prob(Omnibus):                  0.000   Jarque-Bera (JB):              199.719\n",
       "Skew:                           1.450   Prob(JB):                     4.28e-44\n",
       "Kurtosis:                       4.637   Cond. No.                         1.00\n",
       "==============================================================================\n",
       "\n",
       "Notes:\n",
       "[1] R² is computed without centering (uncentered) since the model does not contain a constant.\n",
       "[2] Standard Errors assume that the covariance matrix of the errors is correctly specified.\n",
       "\"\"\""
      ]
     },
     "execution_count": 30,
     "metadata": {},
     "output_type": "execute_result"
    }
   ],
   "source": [
    "x = te_data[\"Height_Total\"]\n",
    "y = te_data[\"FantasyPoints\"]\n",
    "model = sm.OLS(y, x, missing='drop')\n",
    "results = model.fit()\n",
    "results.summary()"
   ]
  },
  {
   "cell_type": "code",
   "execution_count": 31,
   "metadata": {},
   "outputs": [],
   "source": [
    "top60 = sorted_df.head(60)\n",
    "corr_df = top60[[\"Position\", \"Age\", \"Weight\", \"Height_Total\", \"FantasyPoints\"]]"
   ]
  },
  {
   "cell_type": "code",
   "execution_count": 32,
   "metadata": {},
   "outputs": [
    {
     "data": {
      "image/png": "[encoded data removed]",
      "text/plain": [
       "<Figure size 432x288 with 2 Axes>"
      ]
     },
     "metadata": {
      "needs_background": "light"
     },
     "output_type": "display_data"
    }
   ],
   "source": [
    "corrMatrix = sorted_df[[\"Age\", \"Weight\", \"Height_Total\", \"FantasyPoints\"]].loc[sorted_df[\"Position\"] == \"WR\"].corr()\n",
    "sn.heatmap(corrMatrix, annot=True).set_title(\"Demographics vs Total Fantasy Points\")\n",
    "plt.show()"
   ]
  },
  {
   "cell_type": "code",
   "execution_count": 33,
   "metadata": {},
   "outputs": [
    {
     "data": {
      "image/png": "[encoded data removed]",
      "text/plain": [
       "<Figure size 432x288 with 2 Axes>"
      ]
     },
     "metadata": {
      "needs_background": "light"
     },
     "output_type": "display_data"
    }
   ],
   "source": [
    "corrMatrix = top60[[\"Age\", \"Weight\", \"Height_Total\", \"FantasyPoints\"]].loc[sorted_df[\"Position\"] == \"QB\"].corr()\n",
    "sn.heatmap(corrMatrix, annot=True).set_title(\"Top 60 Demographics vs Total Fantasy Points\")\n",
    "plt.show()"
   ]
  },
  {
   "cell_type": "code",
   "execution_count": 34,
   "metadata": {},
   "outputs": [
    {
     "data": {
      "text/plain": [
       "<matplotlib.legend.Legend at 0x7f905bb7a3d0>"
      ]
     },
     "execution_count": 34,
     "metadata": {},
     "output_type": "execute_result"
    },
    {
     "data": {
      "image/png": "[encoded data removed]",
      "text/plain": [
       "<Figure size 360x360 with 1 Axes>"
      ]
     },
     "metadata": {
      "needs_background": "light"
     },
     "output_type": "display_data"
    }
   ],
   "source": [
    "qb_heights = qb_data[\"Height_Total\"]\n",
    "rb_heights = rb_data[\"Height_Total\"]\n",
    "wr_heights = wr_data[\"Height_Total\"]\n",
    "te_heights = te_data[\"Height_Total\"]\n",
    "\n",
    "plt.figure(figsize=(5,5))\n",
    "plt.title(\"Height vs Total Fantasy Points\")\n",
    "plt.xlabel(\"Height (in)\")\n",
    "plt.ylabel(\"Total Fantasy Points\")\n",
    "plt.hist(qb_heights, density=True, alpha = 0.5, color=\"green\", label=\"QBs\")\n",
    "plt.hist(rb_heights, density=True, alpha = 0.5,  color=\"purple\", label=\"RBs\")\n",
    "plt.hist(wr_heights, density=True, alpha = 0.5, color=\"red\", label=\"WRs\")\n",
    "plt.hist(te_heights, density=True, alpha = 0.5, color=\"gold\", label=\"TEs\")\n",
    "plt.legend()"
   ]
  },
  {
   "cell_type": "code",
   "execution_count": 35,
   "metadata": {},
   "outputs": [
    {
     "data": {
      "image/png": "[encoded data removed]",
      "text/plain": [
       "<Figure size 432x288 with 1 Axes>"
      ]
     },
     "metadata": {
      "needs_background": "light"
     },
     "output_type": "display_data"
    }
   ],
   "source": [
    "x = range(150,350)\n",
    "y = range(0,400)\n",
    "fig = plt.figure()\n",
    "ax1 = fig.add_subplot(111)\n",
    "\n",
    "ax1.scatter(qb_data[\"Weight\"], qb_data[\"FantasyPoints\"], c = \"green\", marker=\"s\", label=\"QB\")\n",
    "ax1.scatter(rb_data[\"Weight\"],rb_data[\"FantasyPoints\"], c = \"purple\", marker=\"o\", label=\"RB\")\n",
    "ax1.scatter(wr_data[\"Weight\"], wr_data[\"FantasyPoints\"], c = \"red\", marker=\"d\", label=\"WR\")\n",
    "ax1.scatter(te_data[\"Weight\"],te_data[\"FantasyPoints\"], c = \"gold\", marker=\"s\", label=\"TE\")\n",
    "\n",
    "plt.legend(loc='upper left');\n",
    "plt.title(\"Weight vs Total Fantasy Points\")\n",
    "plt.xlabel(\"Weight (lbs)\")\n",
    "plt.ylabel(\"Total Fantasy Points\")\n",
    "plt.show()"
   ]
  },
  {
   "cell_type": "code",
   "execution_count": 36,
   "metadata": {},
   "outputs": [],
   "source": [
    "qb_age = qb_data[\"Age\"]\n",
    "rb_age = rb_data[\"Age\"]\n",
    "wr_age = wr_data[\"Age\"]\n",
    "te_age = te_data[\"Age\"]"
   ]
  },
  {
   "cell_type": "code",
   "execution_count": 37,
   "metadata": {},
   "outputs": [
    {
     "data": {
      "image/png": "[encoded data removed]",
      "text/plain": [
       "<Figure size 432x288 with 1 Axes>"
      ]
     },
     "metadata": {
      "needs_background": "light"
     },
     "output_type": "display_data"
    }
   ],
   "source": [
    "green_diamond = dict(markerfacecolor='g', marker='D')\n",
    "plots = [qb_age, rb_age, wr_age, te_age]\n",
    "labels = [\"QB\", \"RB\", \"WR\", \"TE\"]\n",
    "fig1, ax1 = plt.subplots()\n",
    "ax1.set_title(\"Age vs Football Position\")\n",
    "ax1.set_ylabel(\"Age\")\n",
    "ax1.set_xlabel(\"Position\")\n",
    "ax1.boxplot(plots, labels=labels, flierprops=green_diamond)\n",
    "plt.show()\n",
    "                                                                             "
   ]
  },
  {
   "cell_type": "code",
   "execution_count": 38,
   "metadata": {},
   "outputs": [],
   "source": [
    "qb_group = top60.loc[top60[\"Position\"] == \"QB\"]\n",
    "rb_group = top60.loc[top60[\"Position\"] == \"RB\"]\n",
    "wr_group = top60.loc[top60[\"Position\"] == \"WR\"]\n",
    "te_group = top60.loc[top60[\"Position\"] == \"TE\"]"
   ]
  },
  {
   "cell_type": "code",
   "execution_count": 39,
   "metadata": {},
   "outputs": [],
   "source": [
    "qb_age_group = qb_group[\"Age\"]\n",
    "rb_age_group = rb_group[\"Age\"]\n",
    "wr_age_group = wr_group[\"Age\"]\n",
    "te_age_group = te_group[\"Age\"]"
   ]
  },
  {
   "cell_type": "code",
   "execution_count": 40,
   "metadata": {},
   "outputs": [
    {
     "data": {
      "image/png": "[encoded data removed]",
      "text/plain": [
       "<Figure size 432x288 with 1 Axes>"
      ]
     },
     "metadata": {
      "needs_background": "light"
     },
     "output_type": "display_data"
    }
   ],
   "source": [
    "green_diamond = dict(markerfacecolor='g', marker='D')\n",
    "plots = [qb_age_group, rb_age_group, wr_age_group, te_age_group]\n",
    "labels = [\"QB\", \"RB\", \"WR\", \"TE\"]\n",
    "fig1, ax1 = plt.subplots()\n",
    "ax1.set_title(\"Top 60 Age vs Football Position\")\n",
    "ax1.set_ylabel(\"Age\")\n",
    "ax1.set_xlabel(\"Position\")\n",
    "ax1.boxplot(plots, labels=labels, flierprops=green_diamond)\n",
    "plt.show()"
   ]
  },
  {
   "cell_type": "markdown",
   "metadata": {},
   "source": [
    "## Tiffany"
   ]
  },
  {
   "cell_type": "code",
   "execution_count": 41,
   "metadata": {},
   "outputs": [],
   "source": [
    "bins = [0,5,10,15,20,25]\n",
    "group_names = ['0-5 yrs', '5-10 yrs', '10-15 yrs', '15-20 yrs', '20-25 yrs']\n",
    "merged_df[\"Exper_Bins\"] = pd.cut(merged_df[\"Experience\"], bins, labels=group_names, include_lowest=True)"
   ]
  },
  {
   "cell_type": "code",
   "execution_count": 43,
   "metadata": {},
   "outputs": [],
   "source": [
    "qb_data = merged_df.loc[merged_df['Position']=='QB']\n",
    "rb_data = merged_df.loc[merged_df['Position']=='RB']\n",
    "wr_data = merged_df.loc[merged_df['Position']=='WR']\n",
    "te_data = merged_df.loc[merged_df['Position']=='TE']"
   ]
  },
  {
   "cell_type": "code",
   "execution_count": 44,
   "metadata": {},
   "outputs": [
    {
     "data": {
      "image/png": "[encoded data removed]",
      "text/plain": [
       "<Figure size 432x288 with 2 Axes>"
      ]
     },
     "metadata": {
      "needs_background": "light"
     },
     "output_type": "display_data"
    },
    {
     "data": {
      "image/png": "[encoded data removed]",
      "text/plain": [
       "<Figure size 432x288 with 2 Axes>"
      ]
     },
     "metadata": {
      "needs_background": "light"
     },
     "output_type": "display_data"
    },
    {
     "data": {
      "image/png": "[encoded data removed]",
      "text/plain": [
       "<Figure size 432x288 with 2 Axes>"
      ]
     },
     "metadata": {
      "needs_background": "light"
     },
     "output_type": "display_data"
    },
    {
     "data": {
      "image/png": "[encoded data removed]",
      "text/plain": [
       "<Figure size 432x288 with 2 Axes>"
      ]
     },
     "metadata": {
      "needs_background": "light"
     },
     "output_type": "display_data"
    }
   ],
   "source": [
    "corrMatrix = qb_data[['FantasyPoints', 'Experience', 'ADP']].corr()\n",
    "sn.heatmap(corrMatrix, annot=True).set_title(\"QB\")\n",
    "plt.savefig('./Images/CorrMat_QB.png')\n",
    "plt.show()\n",
    "\n",
    "corrMatrix = rb_data[['FantasyPoints', 'Experience', 'ADP']].corr()\n",
    "sn.heatmap(corrMatrix, annot=True).set_title(\"RB\")\n",
    "plt.savefig('./Images/CorrMat_RB.png')\n",
    "plt.show()\n",
    "\n",
    "corrMatrix = wr_data[['FantasyPoints', 'Experience', 'ADP']].corr()\n",
    "sn.heatmap(corrMatrix, annot=True).set_title(\"WR\")\n",
    "plt.savefig('./Images/CorrMat_WR.png')\n",
    "plt.show()\n",
    "\n",
    "corrMatrix = te_data[['FantasyPoints', 'Experience', 'ADP']].corr()\n",
    "sn.heatmap(corrMatrix, annot=True).set_title(\"TE\")\n",
    "plt.savefig('./Images/CorrMat_TE.png')\n",
    "plt.show()\n"
   ]
  },
  {
   "cell_type": "code",
   "execution_count": 45,
   "metadata": {},
   "outputs": [
    {
     "data": {
      "image/png": "[encoded data removed]",
      "text/plain": [
       "<Figure size 432x288 with 1 Axes>"
      ]
     },
     "metadata": {
      "needs_background": "light"
     },
     "output_type": "display_data"
    },
    {
     "name": "stdout",
     "output_type": "stream",
     "text": [
      "The p value from the ANOVA test comparing Experience to Fantasy Points for the quarter back position is 0.0015238308466153973.\n",
      "This tells us there is not a relationship between Experience and Fantasy Points.\n"
     ]
    },
    {
     "data": {
      "text/html": [
       "<div>\n",
       "<style scoped>\n",
       "    .dataframe tbody tr th:only-of-type {\n",
       "        vertical-align: middle;\n",
       "    }\n",
       "\n",
       "    .dataframe tbody tr th {\n",
       "        vertical-align: top;\n",
       "    }\n",
       "\n",
       "    .dataframe thead th {\n",
       "        text-align: right;\n",
       "    }\n",
       "</style>\n",
       "<table border=\"1\" class=\"dataframe\">\n",
       "  <thead>\n",
       "    <tr style=\"text-align: right;\">\n",
       "      <th></th>\n",
       "      <th>Experience</th>\n",
       "      <th>ADP</th>\n",
       "      <th>FantasyPoints</th>\n",
       "    </tr>\n",
       "  </thead>\n",
       "  <tbody>\n",
       "    <tr>\n",
       "      <th>count</th>\n",
       "      <td>252.000000</td>\n",
       "      <td>252.000000</td>\n",
       "      <td>252.000000</td>\n",
       "    </tr>\n",
       "    <tr>\n",
       "      <th>mean</th>\n",
       "      <td>10.781746</td>\n",
       "      <td>446.082540</td>\n",
       "      <td>142.022460</td>\n",
       "    </tr>\n",
       "    <tr>\n",
       "      <th>std</th>\n",
       "      <td>5.394772</td>\n",
       "      <td>342.453867</td>\n",
       "      <td>120.715284</td>\n",
       "    </tr>\n",
       "    <tr>\n",
       "      <th>min</th>\n",
       "      <td>3.000000</td>\n",
       "      <td>16.400000</td>\n",
       "      <td>-2.300000</td>\n",
       "    </tr>\n",
       "    <tr>\n",
       "      <th>25%</th>\n",
       "      <td>7.000000</td>\n",
       "      <td>145.800000</td>\n",
       "      <td>16.210000</td>\n",
       "    </tr>\n",
       "    <tr>\n",
       "      <th>50%</th>\n",
       "      <td>10.000000</td>\n",
       "      <td>485.200000</td>\n",
       "      <td>132.960000</td>\n",
       "    </tr>\n",
       "    <tr>\n",
       "      <th>75%</th>\n",
       "      <td>14.250000</td>\n",
       "      <td>611.375000</td>\n",
       "      <td>256.605000</td>\n",
       "    </tr>\n",
       "    <tr>\n",
       "      <th>max</th>\n",
       "      <td>24.000000</td>\n",
       "      <td>1808.800000</td>\n",
       "      <td>415.680000</td>\n",
       "    </tr>\n",
       "  </tbody>\n",
       "</table>\n",
       "</div>"
      ],
      "text/plain": [
       "       Experience          ADP  FantasyPoints\n",
       "count  252.000000   252.000000     252.000000\n",
       "mean    10.781746   446.082540     142.022460\n",
       "std      5.394772   342.453867     120.715284\n",
       "min      3.000000    16.400000      -2.300000\n",
       "25%      7.000000   145.800000      16.210000\n",
       "50%     10.000000   485.200000     132.960000\n",
       "75%     14.250000   611.375000     256.605000\n",
       "max     24.000000  1808.800000     415.680000"
      ]
     },
     "execution_count": 45,
     "metadata": {},
     "output_type": "execute_result"
    }
   ],
   "source": [
    "qb = sn.boxplot(x=\"Exper_Bins\", y=\"FantasyPoints\", data=qb_data.dropna()).set_title('QB Experience and Fantasy Points from 2015-2019')\n",
    "plt.xlabel('NFL Experience')\n",
    "plt.ylabel('Total Fantasy Points')\n",
    "plt.savefig('./Images/BoxPlot_QB.png')\n",
    "plt.show()\n",
    "group1 = qb_data[qb_data[\"Exper_Bins\"] == \"0-5 yrs\"][\"FantasyPoints\"].dropna()\n",
    "group2 = qb_data[qb_data[\"Exper_Bins\"] == \"5-10 yrs\"][\"FantasyPoints\"].dropna()\n",
    "group3 = qb_data[qb_data[\"Exper_Bins\"] == \"10-15 yrs\"][\"FantasyPoints\"].dropna()\n",
    "group4 = qb_data[qb_data[\"Exper_Bins\"] == \"15-20 yrs\"][\"FantasyPoints\"].dropna()\n",
    "group5 = qb_data[qb_data[\"Exper_Bins\"] == \"20-25 yrs\"][\"FantasyPoints\"].dropna()\n",
    "qb = sts.f_oneway(group1, group2, group3, group4, group5)\n",
    "print(f'The p value from the ANOVA test comparing Experience to Fantasy Points for the quarter back position is {qb[1]}.')\n",
    "print(f'This tells us there is not a relationship between Experience and Fantasy Points.')\n",
    "qb_data[['Experience','ADP','FantasyPoints']].dropna().describe()"
   ]
  },
  {
   "cell_type": "code",
   "execution_count": 46,
   "metadata": {},
   "outputs": [
    {
     "data": {
      "image/png": "[encoded data removed]",
      "text/plain": [
       "<Figure size 432x288 with 1 Axes>"
      ]
     },
     "metadata": {
      "needs_background": "light"
     },
     "output_type": "display_data"
    },
    {
     "name": "stdout",
     "output_type": "stream",
     "text": [
      "The p value from the ANOVA test comparing Experience to Fantasy Points for the running back position is 0.14530633668951118.\n",
      "This tells us there could be a relationship between Experience and Fantasy Points.\n"
     ]
    },
    {
     "data": {
      "text/html": [
       "<div>\n",
       "<style scoped>\n",
       "    .dataframe tbody tr th:only-of-type {\n",
       "        vertical-align: middle;\n",
       "    }\n",
       "\n",
       "    .dataframe tbody tr th {\n",
       "        vertical-align: top;\n",
       "    }\n",
       "\n",
       "    .dataframe thead th {\n",
       "        text-align: right;\n",
       "    }\n",
       "</style>\n",
       "<table border=\"1\" class=\"dataframe\">\n",
       "  <thead>\n",
       "    <tr style=\"text-align: right;\">\n",
       "      <th></th>\n",
       "      <th>Experience</th>\n",
       "      <th>ADP</th>\n",
       "      <th>FantasyPoints</th>\n",
       "    </tr>\n",
       "  </thead>\n",
       "  <tbody>\n",
       "    <tr>\n",
       "      <th>count</th>\n",
       "      <td>421.000000</td>\n",
       "      <td>421.000000</td>\n",
       "      <td>421.000000</td>\n",
       "    </tr>\n",
       "    <tr>\n",
       "      <th>mean</th>\n",
       "      <td>7.211401</td>\n",
       "      <td>428.957007</td>\n",
       "      <td>90.745653</td>\n",
       "    </tr>\n",
       "    <tr>\n",
       "      <th>std</th>\n",
       "      <td>3.054343</td>\n",
       "      <td>395.384999</td>\n",
       "      <td>88.167095</td>\n",
       "    </tr>\n",
       "    <tr>\n",
       "      <th>min</th>\n",
       "      <td>1.000000</td>\n",
       "      <td>1.700000</td>\n",
       "      <td>-2.000000</td>\n",
       "    </tr>\n",
       "    <tr>\n",
       "      <th>25%</th>\n",
       "      <td>5.000000</td>\n",
       "      <td>157.600000</td>\n",
       "      <td>14.100000</td>\n",
       "    </tr>\n",
       "    <tr>\n",
       "      <th>50%</th>\n",
       "      <td>7.000000</td>\n",
       "      <td>304.000000</td>\n",
       "      <td>68.400000</td>\n",
       "    </tr>\n",
       "    <tr>\n",
       "      <th>75%</th>\n",
       "      <td>9.000000</td>\n",
       "      <td>589.600000</td>\n",
       "      <td>145.200000</td>\n",
       "    </tr>\n",
       "    <tr>\n",
       "      <th>max</th>\n",
       "      <td>18.000000</td>\n",
       "      <td>2019.900000</td>\n",
       "      <td>469.200000</td>\n",
       "    </tr>\n",
       "  </tbody>\n",
       "</table>\n",
       "</div>"
      ],
      "text/plain": [
       "       Experience          ADP  FantasyPoints\n",
       "count  421.000000   421.000000     421.000000\n",
       "mean     7.211401   428.957007      90.745653\n",
       "std      3.054343   395.384999      88.167095\n",
       "min      1.000000     1.700000      -2.000000\n",
       "25%      5.000000   157.600000      14.100000\n",
       "50%      7.000000   304.000000      68.400000\n",
       "75%      9.000000   589.600000     145.200000\n",
       "max     18.000000  2019.900000     469.200000"
      ]
     },
     "execution_count": 46,
     "metadata": {},
     "output_type": "execute_result"
    }
   ],
   "source": [
    "rb = sn.boxplot(x=\"Exper_Bins\", y=\"FantasyPoints\", data=rb_data.dropna()).set_title('RB Experience and Fantasy Points from 2015-2019')\n",
    "plt.xlabel('NFL Experience')\n",
    "plt.ylabel('Total Fantasy Points')\n",
    "plt.savefig('./Images/BoxPlot_RB.png')\n",
    "plt.show()\n",
    "group1 = rb_data[rb_data[\"Exper_Bins\"] == \"0-5 yrs\"][\"FantasyPoints\"].dropna()\n",
    "group2 = rb_data[rb_data[\"Exper_Bins\"] == \"5-10 yrs\"][\"FantasyPoints\"].dropna()\n",
    "group3 = rb_data[rb_data[\"Exper_Bins\"] == \"10-15 yrs\"][\"FantasyPoints\"].dropna()\n",
    "group4 = rb_data[rb_data[\"Exper_Bins\"] == \"15-20 yrs\"][\"FantasyPoints\"].dropna()\n",
    "rb = sts.f_oneway(group1, group2, group3, group4)\n",
    "print(f'The p value from the ANOVA test comparing Experience to Fantasy Points for the running back position is {rb[1]}.')\n",
    "print(f'This tells us there could be a relationship between Experience and Fantasy Points.')\n",
    "rb_data[['Experience','ADP','FantasyPoints']].dropna().describe()"
   ]
  },
  {
   "cell_type": "code",
   "execution_count": 47,
   "metadata": {},
   "outputs": [
    {
     "data": {
      "image/png": "[encoded data removed]",
      "text/plain": [
       "<Figure size 432x288 with 1 Axes>"
      ]
     },
     "metadata": {
      "needs_background": "light"
     },
     "output_type": "display_data"
    },
    {
     "name": "stdout",
     "output_type": "stream",
     "text": [
      "The p value from the ANOVA test comparing Experience to Fantasy Points for the wide receiver position is 1.016888960141898e-24.\n",
      "This tells us there is not a relationship between Experience and Fantasy Points.\n"
     ]
    },
    {
     "data": {
      "text/html": [
       "<div>\n",
       "<style scoped>\n",
       "    .dataframe tbody tr th:only-of-type {\n",
       "        vertical-align: middle;\n",
       "    }\n",
       "\n",
       "    .dataframe tbody tr th {\n",
       "        vertical-align: top;\n",
       "    }\n",
       "\n",
       "    .dataframe thead th {\n",
       "        text-align: right;\n",
       "    }\n",
       "</style>\n",
       "<table border=\"1\" class=\"dataframe\">\n",
       "  <thead>\n",
       "    <tr style=\"text-align: right;\">\n",
       "      <th></th>\n",
       "      <th>Experience</th>\n",
       "      <th>ADP</th>\n",
       "      <th>FantasyPoints</th>\n",
       "    </tr>\n",
       "  </thead>\n",
       "  <tbody>\n",
       "    <tr>\n",
       "      <th>count</th>\n",
       "      <td>588.000000</td>\n",
       "      <td>588.000000</td>\n",
       "      <td>588.000000</td>\n",
       "    </tr>\n",
       "    <tr>\n",
       "      <th>mean</th>\n",
       "      <td>7.399660</td>\n",
       "      <td>476.594728</td>\n",
       "      <td>98.109116</td>\n",
       "    </tr>\n",
       "    <tr>\n",
       "      <th>std</th>\n",
       "      <td>3.104396</td>\n",
       "      <td>428.235265</td>\n",
       "      <td>86.170850</td>\n",
       "    </tr>\n",
       "    <tr>\n",
       "      <th>min</th>\n",
       "      <td>1.000000</td>\n",
       "      <td>10.100000</td>\n",
       "      <td>-1.500000</td>\n",
       "    </tr>\n",
       "    <tr>\n",
       "      <th>25%</th>\n",
       "      <td>5.000000</td>\n",
       "      <td>151.275000</td>\n",
       "      <td>23.425000</td>\n",
       "    </tr>\n",
       "    <tr>\n",
       "      <th>50%</th>\n",
       "      <td>8.000000</td>\n",
       "      <td>315.400000</td>\n",
       "      <td>71.650000</td>\n",
       "    </tr>\n",
       "    <tr>\n",
       "      <th>75%</th>\n",
       "      <td>9.000000</td>\n",
       "      <td>816.700000</td>\n",
       "      <td>157.175000</td>\n",
       "    </tr>\n",
       "    <tr>\n",
       "      <th>max</th>\n",
       "      <td>19.000000</td>\n",
       "      <td>2011.800000</td>\n",
       "      <td>374.600000</td>\n",
       "    </tr>\n",
       "  </tbody>\n",
       "</table>\n",
       "</div>"
      ],
      "text/plain": [
       "       Experience          ADP  FantasyPoints\n",
       "count  588.000000   588.000000     588.000000\n",
       "mean     7.399660   476.594728      98.109116\n",
       "std      3.104396   428.235265      86.170850\n",
       "min      1.000000    10.100000      -1.500000\n",
       "25%      5.000000   151.275000      23.425000\n",
       "50%      8.000000   315.400000      71.650000\n",
       "75%      9.000000   816.700000     157.175000\n",
       "max     19.000000  2011.800000     374.600000"
      ]
     },
     "execution_count": 47,
     "metadata": {},
     "output_type": "execute_result"
    }
   ],
   "source": [
    "wr = sn.boxplot(x=\"Exper_Bins\", y=\"FantasyPoints\", data=wr_data.dropna()).set_title('WR Experience and Fantasy Points from 2015-2019')\n",
    "plt.xlabel('NFL Experience')\n",
    "plt.ylabel('Total Fantasy Points')\n",
    "plt.savefig('./Images/BoxPlot_WR.png')\n",
    "plt.show()\n",
    "group1 = wr_data[wr_data[\"Exper_Bins\"] == \"0-5 yrs\"][\"FantasyPoints\"].dropna()\n",
    "group2 = wr_data[wr_data[\"Exper_Bins\"] == \"5-10 yrs\"][\"FantasyPoints\"].dropna()\n",
    "group3 = wr_data[wr_data[\"Exper_Bins\"] == \"10-15 yrs\"][\"FantasyPoints\"].dropna()\n",
    "group4 = wr_data[wr_data[\"Exper_Bins\"] == \"15-20 yrs\"][\"FantasyPoints\"].dropna()\n",
    "wr = sts.f_oneway(group1, group2, group3, group4)\n",
    "print(f'The p value from the ANOVA test comparing Experience to Fantasy Points for the wide receiver position is {wr[1]}.')\n",
    "print(f'This tells us there is not a relationship between Experience and Fantasy Points.')\n",
    "wr_data[['Experience','ADP','FantasyPoints']].dropna().describe()"
   ]
  },
  {
   "cell_type": "code",
   "execution_count": 48,
   "metadata": {},
   "outputs": [
    {
     "data": {
      "image/png": "[encoded data removed]",
      "text/plain": [
       "<Figure size 432x288 with 1 Axes>"
      ]
     },
     "metadata": {
      "needs_background": "light"
     },
     "output_type": "display_data"
    },
    {
     "name": "stdout",
     "output_type": "stream",
     "text": [
      "The p value from the ANOVA test comparing Experience to Fantasy Points for the tight end position is 1.5732895768458249e-12.\n",
      "This tells us there is not a relationship between Experience and Fantasy Points.\n"
     ]
    },
    {
     "data": {
      "text/html": [
       "<div>\n",
       "<style scoped>\n",
       "    .dataframe tbody tr th:only-of-type {\n",
       "        vertical-align: middle;\n",
       "    }\n",
       "\n",
       "    .dataframe tbody tr th {\n",
       "        vertical-align: top;\n",
       "    }\n",
       "\n",
       "    .dataframe thead th {\n",
       "        text-align: right;\n",
       "    }\n",
       "</style>\n",
       "<table border=\"1\" class=\"dataframe\">\n",
       "  <thead>\n",
       "    <tr style=\"text-align: right;\">\n",
       "      <th></th>\n",
       "      <th>Experience</th>\n",
       "      <th>ADP</th>\n",
       "      <th>FantasyPoints</th>\n",
       "    </tr>\n",
       "  </thead>\n",
       "  <tbody>\n",
       "    <tr>\n",
       "      <th>count</th>\n",
       "      <td>358.000000</td>\n",
       "      <td>358.000000</td>\n",
       "      <td>358.000000</td>\n",
       "    </tr>\n",
       "    <tr>\n",
       "      <th>mean</th>\n",
       "      <td>8.013966</td>\n",
       "      <td>536.116760</td>\n",
       "      <td>62.869274</td>\n",
       "    </tr>\n",
       "    <tr>\n",
       "      <th>std</th>\n",
       "      <td>3.349372</td>\n",
       "      <td>303.356988</td>\n",
       "      <td>61.840922</td>\n",
       "    </tr>\n",
       "    <tr>\n",
       "      <th>min</th>\n",
       "      <td>3.000000</td>\n",
       "      <td>25.200000</td>\n",
       "      <td>-0.200000</td>\n",
       "    </tr>\n",
       "    <tr>\n",
       "      <th>25%</th>\n",
       "      <td>5.000000</td>\n",
       "      <td>385.400000</td>\n",
       "      <td>15.650000</td>\n",
       "    </tr>\n",
       "    <tr>\n",
       "      <th>50%</th>\n",
       "      <td>8.000000</td>\n",
       "      <td>515.000000</td>\n",
       "      <td>39.950000</td>\n",
       "    </tr>\n",
       "    <tr>\n",
       "      <th>75%</th>\n",
       "      <td>11.000000</td>\n",
       "      <td>656.050000</td>\n",
       "      <td>92.450000</td>\n",
       "    </tr>\n",
       "    <tr>\n",
       "      <th>max</th>\n",
       "      <td>19.000000</td>\n",
       "      <td>2021.000000</td>\n",
       "      <td>294.600000</td>\n",
       "    </tr>\n",
       "  </tbody>\n",
       "</table>\n",
       "</div>"
      ],
      "text/plain": [
       "       Experience          ADP  FantasyPoints\n",
       "count  358.000000   358.000000     358.000000\n",
       "mean     8.013966   536.116760      62.869274\n",
       "std      3.349372   303.356988      61.840922\n",
       "min      3.000000    25.200000      -0.200000\n",
       "25%      5.000000   385.400000      15.650000\n",
       "50%      8.000000   515.000000      39.950000\n",
       "75%     11.000000   656.050000      92.450000\n",
       "max     19.000000  2021.000000     294.600000"
      ]
     },
     "execution_count": 48,
     "metadata": {},
     "output_type": "execute_result"
    }
   ],
   "source": [
    "te = sn.boxplot(x=\"Exper_Bins\", y=\"FantasyPoints\", data=te_data.dropna()).set_title('TE Experience and Fantasy Points from 2015-2019')\n",
    "plt.xlabel('NFL Experience')\n",
    "plt.ylabel('Total Fantasy Points')\n",
    "plt.savefig('./Images/BoxPlot_TE.png')\n",
    "plt.show()\n",
    "group1 = te_data[te_data[\"Exper_Bins\"] == \"0-5 yrs\"][\"FantasyPoints\"].dropna()\n",
    "group2 = te_data[te_data[\"Exper_Bins\"] == \"5-10 yrs\"][\"FantasyPoints\"].dropna()\n",
    "group3 = te_data[te_data[\"Exper_Bins\"] == \"10-15 yrs\"][\"FantasyPoints\"].dropna()\n",
    "group4 = te_data[te_data[\"Exper_Bins\"] == \"15-20 yrs\"][\"FantasyPoints\"].dropna()\n",
    "te = sts.f_oneway(group1, group2, group3, group4)\n",
    "print(f'The p value from the ANOVA test comparing Experience to Fantasy Points for the tight end position is {te[1]}.')\n",
    "print(f'This tells us there is not a relationship between Experience and Fantasy Points.')\n",
    "te_data[['Experience','ADP','FantasyPoints']].dropna().describe()"
   ]
  },
  {
   "cell_type": "markdown",
   "metadata": {},
   "source": [
    "## Tom"
   ]
  },
  {
   "cell_type": "code",
   "execution_count": 49,
   "metadata": {},
   "outputs": [],
   "source": [
    "# Assemble new dataframes of runningbacks / Set Index to Positions / Set by year \n",
    "\n",
    "#2019\n",
    "skill_data_19 = csv_df19.set_index([\"Pos\"]).drop(['QB','0','WR','TE'])\n",
    "\n",
    "# 2018\n",
    "skill_data_18 = csv_df18.set_index([\"Pos\"]).drop(['QB','0','WR','TE'])\n",
    "\n",
    "#2017\n",
    "skill_data_17 = csv_df17.set_index([\"Pos\"]).drop(['QB','0','WR','TE'])\n",
    "\n",
    "#2016\n",
    "skill_data_16 = csv_df16.set_index([\"Pos\"]).drop(['QB','0','WR','TE'])\n",
    "\n",
    "#2015\n",
    "skill_data_15 = csv_df15.set_index([\"Pos\"]).drop(['QB','0','WR','TE'])"
   ]
  },
  {
   "cell_type": "code",
   "execution_count": 50,
   "metadata": {},
   "outputs": [],
   "source": [
    "# find histogram \n",
    "# set columns \n",
    "\n",
    "fantasypoints_19 = skill_data_19[\"FantasyPoints\"]\n",
    "fantasypoints_18 = skill_data_18[\"FantasyPoints\"]\n",
    "fantasypoints_17 = skill_data_17[\"FantasyPoints\"]\n",
    "fantasypoints_16 = skill_data_16[\"FantasyPoints\"]\n",
    "fantasypoints_15 = skill_data_15[\"FantasyPoints\"]\n",
    "\n",
    "recs_15 = skill_data_15[\"Rec\"]\n",
    "recs_16 = skill_data_16[\"Rec\"]\n",
    "recs_17 = skill_data_17[\"Rec\"]\n",
    "recs_18 = skill_data_18[\"Rec\"]\n",
    "recs_19 = skill_data_19[\"Rec\"]"
   ]
  },
  {
   "cell_type": "code",
   "execution_count": 51,
   "metadata": {},
   "outputs": [
    {
     "data": {
      "image/png": "[encoded data removed]",
      "text/plain": [
       "<Figure size 432x288 with 1 Axes>"
      ]
     },
     "metadata": {
      "needs_background": "light"
     },
     "output_type": "display_data"
    }
   ],
   "source": [
    "# Plot Box Plot\n",
    "box_labels = ['2015','2016','2017','2018','2019']\n",
    "pts_boxes = [fantasypoints_15,fantasypoints_16,fantasypoints_17,fantasypoints_18,fantasypoints_19]\n",
    "plt.ylabel(\"Total Fantasy Points\")\n",
    "plt.xlabel(\"Year\")\n",
    "plt.title(\"Runningbacks Total Fantasy Points\")\n",
    "\n",
    "plot_1 = plt.boxplot(pts_boxes, labels=box_labels)\n",
    "\n",
    "plt.show() "
   ]
  },
  {
   "cell_type": "code",
   "execution_count": 52,
   "metadata": {},
   "outputs": [
    {
     "data": {
      "image/png": "[encoded data removed]",
      "text/plain": [
       "<Figure size 432x288 with 1 Axes>"
      ]
     },
     "metadata": {
      "needs_background": "light"
     },
     "output_type": "display_data"
    }
   ],
   "source": [
    "recs_boxes = [recs_15,recs_16,recs_17,recs_18,recs_19]\n",
    "plt.xlabel(\"Year\")\n",
    "plt.ylabel(\"Total Receptions\")\n",
    "plt.title(\"Runningback Total Receptions\")\n",
    "\n",
    "plot_2 = plt.boxplot(recs_boxes, labels=box_labels)"
   ]
  },
  {
   "cell_type": "code",
   "execution_count": 53,
   "metadata": {},
   "outputs": [],
   "source": [
    "# Find quartiles\n",
    "desc_fantpts_19 = skill_data_19.describe()[\"FantasyPoints\"]\n",
    "desc_fantpts_18 = skill_data_18.describe()[\"FantasyPoints\"]\n",
    "desc_fantpts_17 = skill_data_17.describe()[\"FantasyPoints\"]\n",
    "desc_fantpts_16 = skill_data_16.describe()[\"FantasyPoints\"]\n",
    "desc_fantpts_15 = skill_data_15.describe()[\"FantasyPoints\"]"
   ]
  },
  {
   "cell_type": "code",
   "execution_count": 54,
   "metadata": {},
   "outputs": [],
   "source": [
    "# Establish top quartile per year\n",
    "top_q_scorers_15 = skill_data_15[skill_data_15[\"FantasyPoints\"].ge(117)]\n",
    "top_q_scorers_16 = skill_data_16[skill_data_16[\"FantasyPoints\"].ge(107)]\n",
    "top_q_scorers_17 = skill_data_17[skill_data_17[\"FantasyPoints\"].ge(123.4)]\n",
    "top_q_scorers_18 =skill_data_18[skill_data_18[\"FantasyPoints\"].ge(123.8)]\n",
    "top_q_scorers_19 = skill_data_19[skill_data_19[\"FantasyPoints\"].ge(136.4)]\n",
    "\n",
    "# Build Columns of Rushing/Receiving Yds per Year, then Put into DF\n",
    "# 2019\n",
    "tq_rushyds_19 = top_q_scorers_19[\"RushingYds\"]\n",
    "tq_recyds_19 = top_q_scorers_19[\"ReceivingYds\"]\n",
    "tq_totalyds_19 = tq_rushyds_19 + tq_recyds_19\n",
    "\n",
    "#2018\n",
    "tq_rushyds_18 = top_q_scorers_18[\"RushingYds\"]\n",
    "tq_recyds_18 = top_q_scorers_18[\"ReceivingYds\"]\n",
    "tq_totalyds_18 = tq_rushyds_18 + tq_recyds_18\n",
    "\n",
    "#2017\n",
    "tq_rushyds_17 = top_q_scorers_17[\"RushingYds\"]\n",
    "tq_recyds_17 = top_q_scorers_17[\"ReceivingYds\"]\n",
    "tq_totalyds_17 = tq_rushyds_17 + tq_recyds_17\n",
    "\n",
    "#2016\n",
    "tq_rushyds_16 = top_q_scorers_16[\"RushingYds\"]\n",
    "tq_recyds_16 = top_q_scorers_16[\"ReceivingYds\"]\n",
    "tq_totalyds_16 = tq_rushyds_16 + tq_recyds_16\n",
    "\n",
    "#2015\n",
    "tq_rushyds_15 = top_q_scorers_15[\"RushingYds\"]\n",
    "tq_recyds_15 = top_q_scorers_15[\"ReceivingYds\"]\n",
    "tq_totalyds_15 = tq_rushyds_15 + tq_recyds_15"
   ]
  },
  {
   "cell_type": "code",
   "execution_count": 55,
   "metadata": {},
   "outputs": [
    {
     "data": {
      "image/png": "[encoded data removed]",
      "text/plain": [
       "<Figure size 360x360 with 1 Axes>"
      ]
     },
     "metadata": {},
     "output_type": "display_data"
    },
    {
     "data": {
      "image/png": "[encoded data removed]",
      "text/plain": [
       "<Figure size 360x360 with 1 Axes>"
      ]
     },
     "metadata": {},
     "output_type": "display_data"
    },
    {
     "data": {
      "image/png": "[encoded data removed]",
      "text/plain": [
       "<Figure size 360x360 with 1 Axes>"
      ]
     },
     "metadata": {},
     "output_type": "display_data"
    },
    {
     "data": {
      "image/png": "[encoded data removed]",
      "text/plain": [
       "<Figure size 360x360 with 1 Axes>"
      ]
     },
     "metadata": {},
     "output_type": "display_data"
    },
    {
     "data": {
      "image/png": "[encoded data removed]",
      "text/plain": [
       "<Figure size 360x360 with 1 Axes>"
      ]
     },
     "metadata": {},
     "output_type": "display_data"
    }
   ],
   "source": [
    "# plot the pie charts -- TOP QUARTILE\n",
    "labels = [\"Receiving Yds\",\"Rushing Yds\"]\n",
    "\n",
    "# 2015\n",
    "sum_15_rushing = tq_rushyds_15.sum()\n",
    "sum_15_receiving = tq_recyds_15.sum()\n",
    "sizes_15 = [sum_15_receiving,sum_15_rushing]\n",
    "plt.figure(figsize=(5,5))\n",
    "plt.pie(sizes_15,labels=labels,autopct='%1.1f%%')\n",
    "plt.title(\"Top Quartile Scoring RB Yardage Share (2015)\")\n",
    "\n",
    "# 2016\n",
    "sum_16_rushing = tq_rushyds_16.sum()\n",
    "sum_16_receiving = tq_recyds_16.sum()\n",
    "sizes_16 = [sum_16_receiving,sum_16_rushing]\n",
    "plt.figure(figsize=(5,5))\n",
    "plt.pie(sizes_16, labels=labels, autopct='%1.1f%%')\n",
    "plt.title(\"Top Quartile Scoring RB Yardage Share (2016)\")\n",
    "\n",
    "# 2017 \n",
    "sum_17_rushing = tq_rushyds_17.sum()\n",
    "sum_17_receiving = tq_recyds_17.sum()\n",
    "sizes_17 = [sum_17_receiving,sum_17_rushing]\n",
    "plt.figure(figsize=(5,5))\n",
    "plt.pie(sizes_17, labels=labels, autopct='%1.1f%%')\n",
    "plt.title(\"Top Quartile Scoring RB Yardage Share (2017)\")\n",
    "\n",
    "# 2018 \n",
    "sum_18_rushing = tq_rushyds_18.sum()\n",
    "sum_18_receiving = tq_recyds_18.sum()\n",
    "sizes_18 = [sum_16_receiving,sum_18_rushing]\n",
    "plt.figure(figsize=(5,5))\n",
    "plt.pie(sizes_18, labels=labels, autopct='%1.1f%%')\n",
    "plt.title(\"Top Quartile Scoring RB Yardage Share (2018)\")\n",
    "\n",
    "# 2019\n",
    "sum_19_rushing = tq_rushyds_19.sum()\n",
    "sum_19_receiving = tq_recyds_19.sum()\n",
    "sizes_19 = [sum_16_receiving,sum_19_rushing]\n",
    "plt.figure(figsize=(5,5))\n",
    "plt.pie(sizes_19, labels=labels, autopct='%1.1f%%')\n",
    "plt.title(\"Top Quartile Scoring RB Yardage Share (2019)\")\n",
    "plt.show()"
   ]
  },
  {
   "cell_type": "code",
   "execution_count": 56,
   "metadata": {},
   "outputs": [
    {
     "ename": "NameError",
     "evalue": "name 'sizes_60' is not defined",
     "output_type": "error",
     "traceback": [
      "\u001b[0;31m---------------------------------------------------------------------------\u001b[0m",
      "\u001b[0;31mNameError\u001b[0m                                 Traceback (most recent call last)",
      "\u001b[0;32m<ipython-input-56-a8f9a910683b>\u001b[0m in \u001b[0;36m<module>\u001b[0;34m\u001b[0m\n\u001b[1;32m      7\u001b[0m \u001b[0msizes_51\u001b[0m \u001b[0;34m=\u001b[0m \u001b[0;34m[\u001b[0m\u001b[0mwhole_sum_rec_15\u001b[0m\u001b[0;34m,\u001b[0m\u001b[0mwhole_sum_rush_15\u001b[0m\u001b[0;34m]\u001b[0m\u001b[0;34m\u001b[0m\u001b[0;34m\u001b[0m\u001b[0m\n\u001b[1;32m      8\u001b[0m \u001b[0mplt\u001b[0m\u001b[0;34m.\u001b[0m\u001b[0mfigure\u001b[0m\u001b[0;34m(\u001b[0m\u001b[0mfigsize\u001b[0m\u001b[0;34m=\u001b[0m\u001b[0;34m(\u001b[0m\u001b[0;36m5\u001b[0m\u001b[0;34m,\u001b[0m\u001b[0;36m5\u001b[0m\u001b[0;34m)\u001b[0m\u001b[0;34m)\u001b[0m\u001b[0;34m\u001b[0m\u001b[0;34m\u001b[0m\u001b[0m\n\u001b[0;32m----> 9\u001b[0;31m \u001b[0mplt\u001b[0m\u001b[0;34m.\u001b[0m\u001b[0mpie\u001b[0m\u001b[0;34m(\u001b[0m\u001b[0msizes_60\u001b[0m\u001b[0;34m,\u001b[0m\u001b[0mlabels\u001b[0m\u001b[0;34m=\u001b[0m\u001b[0mlabels\u001b[0m\u001b[0;34m,\u001b[0m \u001b[0mautopct\u001b[0m \u001b[0;34m=\u001b[0m \u001b[0;34m'%1.1f%%'\u001b[0m\u001b[0;34m)\u001b[0m\u001b[0;34m\u001b[0m\u001b[0;34m\u001b[0m\u001b[0m\n\u001b[0m\u001b[1;32m     10\u001b[0m \u001b[0mplt\u001b[0m\u001b[0;34m.\u001b[0m\u001b[0mtitle\u001b[0m\u001b[0;34m(\u001b[0m\u001b[0;34m\"Complete Runningback Yardage Share (2015)\"\u001b[0m\u001b[0;34m)\u001b[0m\u001b[0;34m\u001b[0m\u001b[0;34m\u001b[0m\u001b[0m\n\u001b[1;32m     11\u001b[0m \u001b[0;34m\u001b[0m\u001b[0m\n",
      "\u001b[0;31mNameError\u001b[0m: name 'sizes_60' is not defined"
     ]
    },
    {
     "data": {
      "text/plain": [
       "<Figure size 360x360 with 0 Axes>"
      ]
     },
     "metadata": {},
     "output_type": "display_data"
    }
   ],
   "source": [
    "# Full League Split --- Rushing vs. Receiving\n",
    "labels = [\"Receiving Yds\", \"Rushing Yds\"]\n",
    "\n",
    "# 2015\n",
    "whole_sum_rush_15 = skill_data_15[\"RushingYds\"].sum()\n",
    "whole_sum_rec_15 = skill_data_15[\"ReceivingYds\"].sum()\n",
    "sizes_51 = [whole_sum_rec_15,whole_sum_rush_15]\n",
    "plt.figure(figsize=(5,5))\n",
    "plt.pie(sizes_60,labels=labels, autopct = '%1.1f%%')\n",
    "plt.title(\"Complete Runningback Yardage Share (2015)\")\n",
    "\n",
    "#2016\n",
    "whole_sum_rush_16 = skill_data_16[\"RushingYds\"].sum()\n",
    "whole_sum_rec_16 = skill_data_16[\"ReceivingYds\"].sum()\n",
    "sizes_61 = [whole_sum_rec_16,whole_sum_rush_16]\n",
    "plt.figure(figsize=(5,5))\n",
    "plt.pie(sizes_61,labels=labels, autopct = '%1.1f%%')\n",
    "plt.title(\"Complete Runningback Yardage Share (2016)\")\n",
    "\n",
    "#2017\n",
    "whole_sum_rush_17 = skill_data_17[\"RushingYds\"].sum()\n",
    "whole_sum_rec_17 = skill_data_17[\"ReceivingYds\"].sum()\n",
    "sizes_71 = [whole_sum_rec_17,whole_sum_rush_17]\n",
    "plt.figure(figsize=(5,5))\n",
    "plt.pie(sizes_71,labels=labels, autopct = '%1.1f%%')\n",
    "plt.title(\"Complete Runningback Yardage Share (2017)\")\n",
    "\n",
    "#2018\n",
    "whole_sum_rush_18 = skill_data_18[\"RushingYds\"].sum()\n",
    "whole_sum_rec_18 = skill_data_18[\"ReceivingYds\"].sum()\n",
    "sizes_81 = [whole_sum_rec_18,whole_sum_rush_18]\n",
    "plt.figure(figsize=(5,5))\n",
    "plt.pie(sizes_81,labels=labels, autopct = '%1.1f%%')\n",
    "plt.title(\"Complete Runningback Yardage Share (2018)\")\n",
    "\n",
    "#2019\n",
    "whole_sum_rush_19 = skill_data_19[\"RushingYds\"].sum()\n",
    "whole_sum_rec_19 = skill_data_19[\"ReceivingYds\"].sum()\n",
    "sizes_91 = [whole_sum_rec_19,whole_sum_rush_19]\n",
    "plt.figure(figsize=(5,5))\n",
    "plt.pie(sizes_91,labels=labels, autopct = '%1.1f%%')\n",
    "plt.title(\"Complete Runningback Yardage Share (2019)\")\n",
    "plt.show()"
   ]
  },
  {
   "cell_type": "markdown",
   "metadata": {},
   "source": [
    "## Prior to our study, we predicted that the top scoring fantasy runningbacks would have more catches and receiving yards than the remainder of the runningback population.\n",
    "\n",
    "## However, as shown above: The top scoring runningbacks actually derived a smaller share of their total yardage from receiving yards relative to the whole runningback population.\n",
    "\n",
    "## 2015: Top 25%: 29.9% vs. Complete: 31.0%\n",
    "## 2016: Top 25%: 28.0% vs. Complete: 30.4%\n",
    "## 2017: Top 25%: 30.5% vs. Complete 32.1%\n",
    "## 2018: Top 25%: 29.3% vs. Complete: 31.5%\n",
    "## 2019: Top 25%: 28.2% vs. Complete 31.0%"
   ]
  },
  {
   "cell_type": "code",
   "execution_count": 57,
   "metadata": {},
   "outputs": [],
   "source": [
    "# Set up Variables for Mean Testing\n",
    "\n",
    "# 2015 \n",
    "tq_rec_15 = top_q_scorers_15[\"Rec\"]\n",
    "all_rec_15 = skill_data_15[\"Rec\"]\n",
    "tq_meanrec_15 = top_q_scorers_15[\"Rec\"].mean()\n",
    "all_meanrec_15 = skill_data_15[\"Rec\"].mean()\n",
    "\n",
    "# 2016\n",
    "tq_rec_16 = top_q_scorers_16[\"Rec\"]\n",
    "all_rec_16 = skill_data_16[\"Rec\"]\n",
    "tq_meanrec_16 = top_q_scorers_16[\"Rec\"].mean()\n",
    "all_meanrec_16 = skill_data_16[\"Rec\"].mean()\n",
    "\n",
    "# 2017\n",
    "tq_rec_17 = top_q_scorers_17[\"Rec\"]\n",
    "all_rec_17 = skill_data_17[\"Rec\"]\n",
    "tq_meanrec_17 = top_q_scorers_17[\"Rec\"].mean()\n",
    "all_meanrec_17 = skill_data_17[\"Rec\"].mean()\n",
    "\n",
    "# 2018\n",
    "tq_rec_18 = top_q_scorers_18[\"Rec\"]\n",
    "all_rec_18 = skill_data_18[\"Rec\"]\n",
    "tq_meanrec_18 = top_q_scorers_18[\"Rec\"].mean()\n",
    "all_meanrec_18 = skill_data_18[\"Rec\"].mean()\n",
    "\n",
    "# 2019\n",
    "tq_rec_19 = top_q_scorers_19[\"Rec\"]\n",
    "all_rec_19 = skill_data_19[\"Rec\"]\n",
    "tq_meanrec_19 = top_q_scorers_19[\"Rec\"].mean()\n",
    "all_meanrec_19 = skill_data_19[\"Rec\"].mean()"
   ]
  },
  {
   "cell_type": "code",
   "execution_count": 58,
   "metadata": {},
   "outputs": [
    {
     "data": {
      "image/png": "[encoded data removed]",
      "text/plain": [
       "<Figure size 360x360 with 1 Axes>"
      ]
     },
     "metadata": {
      "needs_background": "light"
     },
     "output_type": "display_data"
    },
    {
     "data": {
      "image/png": "[encoded data removed]",
      "text/plain": [
       "<Figure size 360x360 with 1 Axes>"
      ]
     },
     "metadata": {
      "needs_background": "light"
     },
     "output_type": "display_data"
    },
    {
     "data": {
      "image/png": "[encoded data removed]",
      "text/plain": [
       "<Figure size 360x360 with 1 Axes>"
      ]
     },
     "metadata": {
      "needs_background": "light"
     },
     "output_type": "display_data"
    },
    {
     "data": {
      "image/png": "[encoded data removed]",
      "text/plain": [
       "<Figure size 360x360 with 1 Axes>"
      ]
     },
     "metadata": {
      "needs_background": "light"
     },
     "output_type": "display_data"
    },
    {
     "data": {
      "image/png": "[encoded data removed]",
      "text/plain": [
       "<Figure size 360x360 with 1 Axes>"
      ]
     },
     "metadata": {
      "needs_background": "light"
     },
     "output_type": "display_data"
    }
   ],
   "source": [
    "# Plot Histogram/Box of Fantasy Points \n",
    "\n",
    "# 2015\n",
    "\n",
    "plt.figure(figsize=(5,5))\n",
    "plt.title(\"'15 Reception Distribution - Top 25% RBs vs Population\")\n",
    "plt.hist(tq_rec_15, density=True, alpha=0.7, label = \"Top Quartile\")\n",
    "plt.hist(all_rec_15, density=True, alpha=0.7, label = \"All RBs\")\n",
    "plt.axvline(tq_meanrec_15, color='red', linewidth = 1,label=\"Sample Mean\")\n",
    "plt.axvline(all_meanrec_15, color='black',linewidth = 1, label=\"Population Mean\")\n",
    "plt.legend()\n",
    "\n",
    "#2016\n",
    "\n",
    "plt.figure(figsize=(5,5))\n",
    "plt.title(\"'16 Reception Distribution - Top 25% RBs vs Population\")\n",
    "plt.hist(tq_rec_16, density=True, alpha=0.7, label = \"Top Quartile\")\n",
    "plt.hist(all_rec_16, density=True, alpha=0.7, label = \"All RBs\")\n",
    "plt.axvline(tq_meanrec_16, color='red', linewidth = 1,label=\"Sample Mean\")\n",
    "plt.axvline(all_meanrec_16, color='black',linewidth = 1, label=\"Population Mean\")\n",
    "plt.legend()\n",
    "\n",
    "# 2017\n",
    "\n",
    "plt.figure(figsize=(5,5))\n",
    "plt.title(\"'17 Reception Distribution - Top 25% RBs vs Population\")\n",
    "plt.hist(tq_rec_17, density=True, alpha=0.7, label = \"Top Quartile\")\n",
    "plt.hist(all_rec_17, density=True, alpha=0.7, label = \"All RBs\")\n",
    "plt.axvline(tq_meanrec_17, color='red', linewidth = 1,label=\"Sample Mean\")\n",
    "plt.axvline(all_meanrec_17, color='black',linewidth = 1, label=\"Population Mean\")\n",
    "plt.legend()\n",
    "\n",
    "#2018\n",
    "\n",
    "plt.figure(figsize=(5,5))\n",
    "plt.title(\"'18 Reception Distribution - Top 25% RBs vs Population\")\n",
    "plt.hist(tq_rec_18, density=True, alpha=0.7, label = \"Top Quartile\")\n",
    "plt.hist(all_rec_18, density=True, alpha=0.7, label = \"All RBs\")\n",
    "plt.axvline(tq_meanrec_18, color='red', linewidth = 1,label=\"Sample Mean\")\n",
    "plt.axvline(all_meanrec_18, color='black',linewidth = 1, label=\"Population Mean\")\n",
    "plt.legend()\n",
    "\n",
    "# 2019\n",
    "\n",
    "plt.figure(figsize=(5,5))\n",
    "plt.title(\"'19 Reception Distribution - Top 25% RBs vs Population\")\n",
    "plt.hist(tq_rec_19, density=True, alpha=0.7, label = \"Top Quartile\")\n",
    "plt.hist(all_rec_19, density=True, alpha=0.7, label = \"All RBs\")\n",
    "plt.axvline(tq_meanrec_19, color='red', linewidth = 1,label=\"Sample Mean\")\n",
    "plt.axvline(all_meanrec_19, color='black',linewidth = 1, label=\"Population Mean\")\n",
    "plt.legend()\n",
    "\n",
    "\n",
    "plt.show()"
   ]
  }
 ],
 "metadata": {
  "kernelspec": {
   "display_name": "Python 3",
   "language": "python",
   "name": "python3"
  },
  "language_info": {
   "codemirror_mode": {
    "name": "ipython",
    "version": 3
   },
   "file_extension": ".py",
   "mimetype": "text/x-python",
   "name": "python",
   "nbconvert_exporter": "python",
   "pygments_lexer": "ipython3",
   "version": "3.8.5"
  }
 },
 "nbformat": 4,
 "nbformat_minor": 4
}
