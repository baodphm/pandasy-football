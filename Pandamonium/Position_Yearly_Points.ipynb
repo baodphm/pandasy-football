{
 "cells": [
  {
   "cell_type": "code",
   "execution_count": 3,
   "metadata": {},
   "outputs": [],
   "source": [
    "import requests\n",
    "import json\n",
    "import csv\n",
    "import pandas as pd\n",
    "import matplotlib as plt\n",
    "import numpy as np"
   ]
  },
  {
   "cell_type": "code",
   "execution_count": 34,
   "metadata": {},
   "outputs": [
    {
     "data": {
      "text/plain": [
       "620"
      ]
     },
     "execution_count": 34,
     "metadata": {},
     "output_type": "execute_result"
    }
   ],
   "source": [
    "csvfile19 = \"./Resources/2019.csv\"\n",
    "csv_df19 = pd.read_csv(csvfile)\n",
    "csv_df19[\"Year\"] = \"2019\"\n",
    "len(csv_df)"
   ]
  },
  {
   "cell_type": "code",
   "execution_count": 5,
   "metadata": {},
   "outputs": [
    {
     "data": {
      "text/plain": [
       "622"
      ]
     },
     "execution_count": 5,
     "metadata": {},
     "output_type": "execute_result"
    }
   ],
   "source": [
    "csvfile18 = \"./Resources/2018.csv\"\n",
    "csv_df18 = pd.read_csv(csvfile18)\n",
    "csv_df18[\"Year\"] = \"2018\"\n",
    "len(csv_df18)"
   ]
  },
  {
   "cell_type": "code",
   "execution_count": 6,
   "metadata": {},
   "outputs": [
    {
     "data": {
      "text/plain": [
       "571"
      ]
     },
     "execution_count": 6,
     "metadata": {},
     "output_type": "execute_result"
    }
   ],
   "source": [
    "csvfile17 = \"./Resources/2017.csv\"\n",
    "csv_df17 = pd.read_csv(csvfile17)\n",
    "csv_df17[\"Year\"] = \"2017\"\n",
    "len(csv_df17)"
   ]
  },
  {
   "cell_type": "code",
   "execution_count": 7,
   "metadata": {},
   "outputs": [
    {
     "data": {
      "text/plain": [
       "584"
      ]
     },
     "execution_count": 7,
     "metadata": {},
     "output_type": "execute_result"
    }
   ],
   "source": [
    "csvfile16 = \"./Resources/2016.csv\"\n",
    "csv_df16 = pd.read_csv(csvfile16)\n",
    "csv_df16[\"Year\"] = \"2016\"\n",
    "len(csv_df16)"
   ]
  },
  {
   "cell_type": "code",
   "execution_count": 8,
   "metadata": {},
   "outputs": [
    {
     "data": {
      "text/plain": [
       "595"
      ]
     },
     "execution_count": 8,
     "metadata": {},
     "output_type": "execute_result"
    }
   ],
   "source": [
    "csvfile15 = \"./Resources/2015.csv\"\n",
    "csv_df15 = pd.read_csv(csvfile15)\n",
    "csv_df15[\"Year\"] = \"2015\"\n",
    "len(csv_df15)"
   ]
  },
  {
   "cell_type": "code",
   "execution_count": 9,
   "metadata": {},
   "outputs": [],
   "source": [
    "combined_df = csv_df.append(csv_df18)\n",
    "combined_df = combined_df.append(csv_df17)\n",
    "combined_df = combined_df.append(csv_df16)\n",
    "combined_df = combined_df.append(csv_df15)\n",
    "combined_df.drop(\"Unnamed: 0\", axis=1, inplace=True)"
   ]
  },
  {
   "cell_type": "code",
   "execution_count": 31,
   "metadata": {},
   "outputs": [
    {
     "data": {
      "text/html": [
       "<div>\n",
       "<style scoped>\n",
       "    .dataframe tbody tr th:only-of-type {\n",
       "        vertical-align: middle;\n",
       "    }\n",
       "\n",
       "    .dataframe tbody tr th {\n",
       "        vertical-align: top;\n",
       "    }\n",
       "\n",
       "    .dataframe thead th {\n",
       "        text-align: right;\n",
       "    }\n",
       "</style>\n",
       "<table border=\"1\" class=\"dataframe\">\n",
       "  <thead>\n",
       "    <tr style=\"text-align: right;\">\n",
       "      <th></th>\n",
       "      <th>Player</th>\n",
       "      <th>Team</th>\n",
       "      <th>Position</th>\n",
       "      <th>Age</th>\n",
       "      <th>Completions</th>\n",
       "      <th>Interceptions</th>\n",
       "      <th>Targets</th>\n",
       "      <th>Receptions</th>\n",
       "      <th>YdsPerRec</th>\n",
       "      <th>Fumbles</th>\n",
       "      <th>...</th>\n",
       "      <th>FantasyPoints</th>\n",
       "      <th>FantasyYear</th>\n",
       "      <th>PlayerID</th>\n",
       "      <th>Height</th>\n",
       "      <th>HeightFeet</th>\n",
       "      <th>HeightInches</th>\n",
       "      <th>Weight</th>\n",
       "      <th>Experience</th>\n",
       "      <th>Position</th>\n",
       "      <th>ADP</th>\n",
       "    </tr>\n",
       "  </thead>\n",
       "  <tbody>\n",
       "    <tr>\n",
       "      <th>13</th>\n",
       "      <td>Dak Prescott</td>\n",
       "      <td>DAL</td>\n",
       "      <td>QB</td>\n",
       "      <td>26.0</td>\n",
       "      <td>388.0</td>\n",
       "      <td>11.0</td>\n",
       "      <td>0.0</td>\n",
       "      <td>0.0</td>\n",
       "      <td>0.0</td>\n",
       "      <td>6.0</td>\n",
       "      <td>...</td>\n",
       "      <td>335.78</td>\n",
       "      <td>2019</td>\n",
       "      <td>18055.0</td>\n",
       "      <td>6'2\"</td>\n",
       "      <td>6.0</td>\n",
       "      <td>2.0</td>\n",
       "      <td>238.0</td>\n",
       "      <td>7.0</td>\n",
       "      <td>QB</td>\n",
       "      <td>58.4</td>\n",
       "    </tr>\n",
       "    <tr>\n",
       "      <th>697</th>\n",
       "      <td>Dak Prescott</td>\n",
       "      <td>DAL</td>\n",
       "      <td>QB</td>\n",
       "      <td>25.0</td>\n",
       "      <td>356.0</td>\n",
       "      <td>8.0</td>\n",
       "      <td>1.0</td>\n",
       "      <td>0.0</td>\n",
       "      <td>0.0</td>\n",
       "      <td>12.0</td>\n",
       "      <td>...</td>\n",
       "      <td>281.90</td>\n",
       "      <td>2018</td>\n",
       "      <td>18055.0</td>\n",
       "      <td>6'2\"</td>\n",
       "      <td>6.0</td>\n",
       "      <td>2.0</td>\n",
       "      <td>238.0</td>\n",
       "      <td>7.0</td>\n",
       "      <td>QB</td>\n",
       "      <td>58.4</td>\n",
       "    </tr>\n",
       "    <tr>\n",
       "      <th>1326</th>\n",
       "      <td>Dak Prescott</td>\n",
       "      <td>DAL</td>\n",
       "      <td>QB</td>\n",
       "      <td>24.0</td>\n",
       "      <td>308.0</td>\n",
       "      <td>13.0</td>\n",
       "      <td>0.0</td>\n",
       "      <td>0.0</td>\n",
       "      <td>0.0</td>\n",
       "      <td>4.0</td>\n",
       "      <td>...</td>\n",
       "      <td>260.66</td>\n",
       "      <td>2017</td>\n",
       "      <td>18055.0</td>\n",
       "      <td>6'2\"</td>\n",
       "      <td>6.0</td>\n",
       "      <td>2.0</td>\n",
       "      <td>238.0</td>\n",
       "      <td>7.0</td>\n",
       "      <td>QB</td>\n",
       "      <td>58.4</td>\n",
       "    </tr>\n",
       "    <tr>\n",
       "      <th>1878</th>\n",
       "      <td>Dak Prescott</td>\n",
       "      <td>DAL</td>\n",
       "      <td>QB</td>\n",
       "      <td>23.0</td>\n",
       "      <td>311.0</td>\n",
       "      <td>4.0</td>\n",
       "      <td>0.0</td>\n",
       "      <td>0.0</td>\n",
       "      <td>0.0</td>\n",
       "      <td>9.0</td>\n",
       "      <td>...</td>\n",
       "      <td>286.88</td>\n",
       "      <td>2016</td>\n",
       "      <td>18055.0</td>\n",
       "      <td>6'2\"</td>\n",
       "      <td>6.0</td>\n",
       "      <td>2.0</td>\n",
       "      <td>238.0</td>\n",
       "      <td>7.0</td>\n",
       "      <td>QB</td>\n",
       "      <td>58.4</td>\n",
       "    </tr>\n",
       "  </tbody>\n",
       "</table>\n",
       "<p>4 rows × 29 columns</p>\n",
       "</div>"
      ],
      "text/plain": [
       "            Player Team  Position   Age  Completions  Interceptions  Targets  \\\n",
       "13    Dak Prescott  DAL        QB  26.0        388.0           11.0      0.0   \n",
       "697   Dak Prescott  DAL        QB  25.0        356.0            8.0      1.0   \n",
       "1326  Dak Prescott  DAL        QB  24.0        308.0           13.0      0.0   \n",
       "1878  Dak Prescott  DAL        QB  23.0        311.0            4.0      0.0   \n",
       "\n",
       "      Receptions  YdsPerRec  Fumbles  ...  FantasyPoints  FantasyYear  \\\n",
       "13           0.0        0.0      6.0  ...         335.78         2019   \n",
       "697          0.0        0.0     12.0  ...         281.90         2018   \n",
       "1326         0.0        0.0      4.0  ...         260.66         2017   \n",
       "1878         0.0        0.0      9.0  ...         286.88         2016   \n",
       "\n",
       "      PlayerID  Height  HeightFeet  HeightInches  Weight  Experience  \\\n",
       "13     18055.0    6'2\"         6.0           2.0   238.0         7.0   \n",
       "697    18055.0    6'2\"         6.0           2.0   238.0         7.0   \n",
       "1326   18055.0    6'2\"         6.0           2.0   238.0         7.0   \n",
       "1878   18055.0    6'2\"         6.0           2.0   238.0         7.0   \n",
       "\n",
       "      Position   ADP  \n",
       "13          QB  58.4  \n",
       "697         QB  58.4  \n",
       "1326        QB  58.4  \n",
       "1878        QB  58.4  \n",
       "\n",
       "[4 rows x 29 columns]"
      ]
     },
     "execution_count": 31,
     "metadata": {},
     "output_type": "execute_result"
    }
   ],
   "source": [
    "playercsv = \"./Resources/player_data.csv\"\n",
    "player_df = pd.read_csv(playercsv)\n",
    "merged_df = pd.merge(combined_df, player_df, left_on = \"Player\", right_on = \"Name\", how=\"left\")\n",
    "merged_df.drop(columns=[\"G\", \"GS\", \"Att\", \"Yds\", \"Att.1\", \"Yds.1\", \"Yds.2\", \"Name\", \"Salary\"], inplace=True)\n",
    "merged_df.drop(\"Unnamed: 0\", axis=1, inplace=True)\n",
    "merged_df.rename(columns={\n",
    "    \"Tm\": \"Team\",\n",
    "    \"Pos\": \"Position\",\n",
    "    \"Cmp\": \"Completions\",\n",
    "    \"Int\": \"Interceptions\",\n",
    "    \"Tgt\": \"Targets\",\n",
    "    \"Y/R\": \"YdsPerRec\",\n",
    "    \"Rec\": \"Receptions\",\n",
    "    \"Year\": \"FantasyYear\"\n",
    "}, inplace=True)\n",
    "merged_df.loc[merged_df[\"Player\"]==\"Dak Prescott\"]"
   ]
  },
  {
   "cell_type": "code",
   "execution_count": 11,
   "metadata": {},
   "outputs": [
    {
     "data": {
      "text/plain": [
       "Index(['Player', 'Team', 'Position', 'Age', 'Completions', 'Interceptions',\n",
       "       'Targets', 'Receptions', 'YdsPerRec', 'Fumbles', 'FumblesLost',\n",
       "       'PassingYds', 'PassingTD', 'PassingAtt', 'RushingYds', 'RushingTD',\n",
       "       'RushingAtt', 'ReceivingYds', 'ReceivingTD', 'FantasyPoints',\n",
       "       'FantasyYear', 'PlayerID', 'Height', 'HeightFeet', 'HeightInches',\n",
       "       'Weight', 'Experience', 'Position', 'ADP'],\n",
       "      dtype='object')"
      ]
     },
     "execution_count": 11,
     "metadata": {},
     "output_type": "execute_result"
    }
   ],
   "source": [
    "merged_df.columns"
   ]
  },
  {
   "cell_type": "code",
   "execution_count": 70,
   "metadata": {},
   "outputs": [
    {
     "data": {
      "text/plain": [
       "[126.9376470588235,\n",
       " 127.8553846153846,\n",
       " 119.64666666666663,\n",
       " 130.31910447761194,\n",
       " 132.01723076923076]"
      ]
     },
     "execution_count": 70,
     "metadata": {},
     "output_type": "execute_result"
    }
   ],
   "source": [
    "season = [csv_df15, csv_df16, csv_df17, csv_df18, csv_df19]\n",
    "QB_points = []\n",
    "\n",
    "for year in season:\n",
    "    response = year.loc[(year['Pos'] == \"QB\")]\n",
    "    QB_df = response.loc[(response['FantasyPoints'] > 0)]\n",
    "    QB_mean = QB_df['FantasyPoints'].mean()\n",
    "    QB_points.append(QB_mean)\n",
    "    \n",
    "QB_points"
   ]
  },
  {
   "cell_type": "code",
   "execution_count": 71,
   "metadata": {},
   "outputs": [
    {
     "data": {
      "text/plain": [
       "[90.1896551724138,\n",
       " 91.71276381909543,\n",
       " 80.1904,\n",
       " 87.12589371980683,\n",
       " 81.01046728971953]"
      ]
     },
     "execution_count": 71,
     "metadata": {},
     "output_type": "execute_result"
    }
   ],
   "source": [
    "WR_points = []\n",
    "\n",
    "for year in season:\n",
    "    response = year.loc[(year['Pos'] == \"WR\")]\n",
    "    WR_df = response.loc[(response['FantasyPoints'] > 0)]\n",
    "    WR_mean = WR_df['FantasyPoints'].mean()\n",
    "    WR_points.append(WR_mean)\n",
    "    \n",
    "WR_points"
   ]
  },
  {
   "cell_type": "code",
   "execution_count": 72,
   "metadata": {},
   "outputs": [
    {
     "data": {
      "text/plain": [
       "[72.11259259259265,\n",
       " 70.13491124260356,\n",
       " 77.11767741935486,\n",
       " 80.18896103896101,\n",
       " 79.70771241830062]"
      ]
     },
     "execution_count": 72,
     "metadata": {},
     "output_type": "execute_result"
    }
   ],
   "source": [
    "RB_points = []\n",
    "\n",
    "for year in season:\n",
    "    response = year.loc[(year['Pos'] == \"RB\")]\n",
    "    RB_df = response.loc[(response['FantasyPoints'] > 0)]\n",
    "    RB_mean = RB_df['FantasyPoints'].mean()\n",
    "    RB_points.append(RB_mean)\n",
    "    \n",
    "RB_points"
   ]
  },
  {
   "cell_type": "code",
   "execution_count": 73,
   "metadata": {},
   "outputs": [
    {
     "data": {
      "text/plain": [
       "[58.99238095238096,\n",
       " 56.811111111111074,\n",
       " 55.52222222222223,\n",
       " 51.816949152542364,\n",
       " 53.52931034482761]"
      ]
     },
     "execution_count": 73,
     "metadata": {},
     "output_type": "execute_result"
    }
   ],
   "source": [
    "TE_points = []\n",
    "\n",
    "for year in season:\n",
    "    response = year.loc[(year['Pos'] == \"TE\")]\n",
    "    TE_df = response.loc[(response['FantasyPoints'] > 0)]\n",
    "    TE_mean = TE_df['FantasyPoints'].mean()\n",
    "    TE_points.append(TE_mean)\n",
    "    \n",
    "TE_points"
   ]
  },
  {
   "cell_type": "code",
   "execution_count": null,
   "metadata": {},
   "outputs": [],
   "source": []
  }
 ],
 "metadata": {
  "kernelspec": {
   "display_name": "Python 3",
   "language": "python",
   "name": "python3"
  },
  "language_info": {
   "codemirror_mode": {
    "name": "ipython",
    "version": 3
   },
   "file_extension": ".py",
   "mimetype": "text/x-python",
   "name": "python",
   "nbconvert_exporter": "python",
   "pygments_lexer": "ipython3",
   "version": "3.8.5"
  }
 },
 "nbformat": 4,
 "nbformat_minor": 4
}
