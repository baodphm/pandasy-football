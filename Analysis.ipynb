{
 "cells": [
  {
   "cell_type": "code",
   "execution_count": 1,
   "metadata": {},
   "outputs": [],
   "source": [
    "import requests\n",
    "import json\n",
    "import csv\n",
    "import pandas as pd\n",
    "from matplotlib import pyplot as plt\n",
    "import scipy.stats as sts\n",
    "from scipy.stats import linregress\n",
    "from scipy.stats import sem\n",
    "from sklearn import datasets\n",
    "import seaborn as sn\n",
    "import statsmodels.api as sm\n",
    "from config import api_key"
   ]
  },
  {
   "cell_type": "code",
   "execution_count": 2,
   "metadata": {},
   "outputs": [],
   "source": [
    "# import csv files\n",
    "csvfile19 = \"./Resources/2019.csv\"\n",
    "csv_df19 = pd.read_csv(csvfile19)\n",
    "csv_df19[\"Year\"] = \"2019\"\n",
    "\n",
    "csvfile18 = \"./Resources/2018.csv\"\n",
    "csv_df18 = pd.read_csv(csvfile18)\n",
    "csv_df18[\"Year\"] = \"2018\"\n",
    "\n",
    "csvfile17 = \"./Resources/2017.csv\"\n",
    "csv_df17 = pd.read_csv(csvfile17)\n",
    "csv_df17[\"Year\"] = \"2017\"\n",
    "\n",
    "csvfile16 = \"./Resources/2016.csv\"\n",
    "csv_df16 = pd.read_csv(csvfile16)\n",
    "csv_df16[\"Year\"] = \"2016\"\n",
    "\n",
    "csvfile15 = \"./Resources/2015.csv\"\n",
    "csv_df15 = pd.read_csv(csvfile15)\n",
    "csv_df15[\"Year\"] = \"2015\""
   ]
  },
  {
   "cell_type": "code",
   "execution_count": 3,
   "metadata": {},
   "outputs": [],
   "source": [
    "#merged indiv file years 2015-2019 together\n",
    "\n",
    "combined_df = csv_df19.append(csv_df18)\n",
    "combined_df = combined_df.append(csv_df17)\n",
    "combined_df = combined_df.append(csv_df16)\n",
    "combined_df = combined_df.append(csv_df15)\n",
    "\n",
    "#drop index column that was created when files were merged\n",
    "combined_df.drop(\"Unnamed: 0\", axis=1, inplace=True)"
   ]
  },
  {
   "cell_type": "code",
   "execution_count": 4,
   "metadata": {},
   "outputs": [],
   "source": [
    "#import csv from api data\n",
    "\n",
    "playercsv = \"./Resources/player_data.csv\"\n",
    "player_df = pd.read_csv(playercsv)\n",
    "merged_df = pd.merge(combined_df, player_df, left_on = \"Player\", right_on = \"Name\", how=\"left\")\n",
    "merged_df.drop(columns=[\"G\", \"GS\", \"Att\", \"Yds\", \"Att.1\", \"Yds.1\", \"Yds.2\", \"Name\", \"Salary\"], inplace=True)\n",
    "merged_df.drop(\"Unnamed: 0\", axis=1, inplace=True)\n",
    "merged_df.rename(columns={\n",
    "    \"Tm\": \"Team\",\n",
    "    \"Cmp\": \"Completions\",\n",
    "    \"Int\": \"Interceptions\",\n",
    "    \"Tgt\": \"Targets\",\n",
    "    \"Y/R\": \"YdsPerRec\",\n",
    "    \"Rec\": \"Receptions\",\n",
    "    \"Year\": \"FantasyYear\"\n",
    "}, inplace=True)"
   ]
  },
  {
   "cell_type": "code",
   "execution_count": 5,
   "metadata": {},
   "outputs": [],
   "source": [
    "sorted_df = merged_df.sort_values(\"FantasyPoints\", ascending = False)\n",
    "\n",
    "indexPositions = sorted_df[sorted_df[\"Position\"] == \"0\"].index\n",
    "sorted_df.drop(indexPositions , inplace=True)"
   ]
  },
  {
   "cell_type": "code",
   "execution_count": 6,
   "metadata": {},
   "outputs": [],
   "source": [
    "#combine height in feet with height in inches to create total height in inches\n",
    "\n",
    "sorted_df[\"Height_ft_in\"] = sorted_df[\"HeightFeet\"] * 12\n",
    "sorted_df[\"Height_Total\"] = sorted_df[\"Height_ft_in\"] + sorted_df[\"HeightInches\"]"
   ]
  },
  {
   "cell_type": "code",
   "execution_count": 7,
   "metadata": {},
   "outputs": [
    {
     "data": {
      "text/html": [
       "<table class=\"simpletable\">\n",
       "<caption>OLS Regression Results</caption>\n",
       "<tr>\n",
       "  <th>Dep. Variable:</th>      <td>FantasyPoints</td>  <th>  R-squared (uncentered):</th>      <td>   0.442</td> \n",
       "</tr>\n",
       "<tr>\n",
       "  <th>Model:</th>                   <td>OLS</td>       <th>  Adj. R-squared (uncentered):</th> <td>   0.442</td> \n",
       "</tr>\n",
       "<tr>\n",
       "  <th>Method:</th>             <td>Least Squares</td>  <th>  F-statistic:       </th>          <td>   2403.</td> \n",
       "</tr>\n",
       "<tr>\n",
       "  <th>Date:</th>             <td>Wed, 17 Feb 2021</td> <th>  Prob (F-statistic):</th>           <td>  0.00</td>  \n",
       "</tr>\n",
       "<tr>\n",
       "  <th>Time:</th>                 <td>21:22:49</td>     <th>  Log-Likelihood:    </th>          <td> -17747.</td> \n",
       "</tr>\n",
       "<tr>\n",
       "  <th>No. Observations:</th>      <td>  3031</td>      <th>  AIC:               </th>          <td>3.550e+04</td>\n",
       "</tr>\n",
       "<tr>\n",
       "  <th>Df Residuals:</th>          <td>  3030</td>      <th>  BIC:               </th>          <td>3.550e+04</td>\n",
       "</tr>\n",
       "<tr>\n",
       "  <th>Df Model:</th>              <td>     1</td>      <th>                     </th>              <td> </td>    \n",
       "</tr>\n",
       "<tr>\n",
       "  <th>Covariance Type:</th>      <td>nonrobust</td>    <th>                     </th>              <td> </td>    \n",
       "</tr>\n",
       "</table>\n",
       "<table class=\"simpletable\">\n",
       "<tr>\n",
       "   <td></td>      <th>coef</th>     <th>std err</th>      <th>t</th>      <th>P>|t|</th>  <th>[0.025</th>    <th>0.975]</th>  \n",
       "</tr>\n",
       "<tr>\n",
       "  <th>Age</th> <td>    2.8547</td> <td>    0.058</td> <td>   49.020</td> <td> 0.000</td> <td>    2.741</td> <td>    2.969</td>\n",
       "</tr>\n",
       "</table>\n",
       "<table class=\"simpletable\">\n",
       "<tr>\n",
       "  <th>Omnibus:</th>       <td>613.495</td> <th>  Durbin-Watson:     </th> <td>   0.025</td> \n",
       "</tr>\n",
       "<tr>\n",
       "  <th>Prob(Omnibus):</th> <td> 0.000</td>  <th>  Jarque-Bera (JB):  </th> <td>1060.797</td> \n",
       "</tr>\n",
       "<tr>\n",
       "  <th>Skew:</th>          <td> 1.321</td>  <th>  Prob(JB):          </th> <td>4.47e-231</td>\n",
       "</tr>\n",
       "<tr>\n",
       "  <th>Kurtosis:</th>      <td> 4.193</td>  <th>  Cond. No.          </th> <td>    1.00</td> \n",
       "</tr>\n",
       "</table><br/><br/>Notes:<br/>[1] R² is computed without centering (uncentered) since the model does not contain a constant.<br/>[2] Standard Errors assume that the covariance matrix of the errors is correctly specified."
      ],
      "text/plain": [
       "<class 'statsmodels.iolib.summary.Summary'>\n",
       "\"\"\"\n",
       "                                 OLS Regression Results                                \n",
       "=======================================================================================\n",
       "Dep. Variable:          FantasyPoints   R-squared (uncentered):                   0.442\n",
       "Model:                            OLS   Adj. R-squared (uncentered):              0.442\n",
       "Method:                 Least Squares   F-statistic:                              2403.\n",
       "Date:                Wed, 17 Feb 2021   Prob (F-statistic):                        0.00\n",
       "Time:                        21:22:49   Log-Likelihood:                         -17747.\n",
       "No. Observations:                3031   AIC:                                  3.550e+04\n",
       "Df Residuals:                    3030   BIC:                                  3.550e+04\n",
       "Df Model:                           1                                                  \n",
       "Covariance Type:            nonrobust                                                  \n",
       "==============================================================================\n",
       "                 coef    std err          t      P>|t|      [0.025      0.975]\n",
       "------------------------------------------------------------------------------\n",
       "Age            2.8547      0.058     49.020      0.000       2.741       2.969\n",
       "==============================================================================\n",
       "Omnibus:                      613.495   Durbin-Watson:                   0.025\n",
       "Prob(Omnibus):                  0.000   Jarque-Bera (JB):             1060.797\n",
       "Skew:                           1.321   Prob(JB):                    4.47e-231\n",
       "Kurtosis:                       4.193   Cond. No.                         1.00\n",
       "==============================================================================\n",
       "\n",
       "Notes:\n",
       "[1] R² is computed without centering (uncentered) since the model does not contain a constant.\n",
       "[2] Standard Errors assume that the covariance matrix of the errors is correctly specified.\n",
       "\"\"\""
      ]
     },
     "execution_count": 7,
     "metadata": {},
     "output_type": "execute_result"
    }
   ],
   "source": [
    "x = sorted_df[\"Age\"]\n",
    "y = sorted_df[\"FantasyPoints\"]\n",
    "model = sm.OLS(y, x, missing='drop')\n",
    "results = model.fit()\n",
    "results.summary()"
   ]
  },
  {
   "cell_type": "code",
   "execution_count": 8,
   "metadata": {},
   "outputs": [
    {
     "data": {
      "text/html": [
       "<table class=\"simpletable\">\n",
       "<caption>OLS Regression Results</caption>\n",
       "<tr>\n",
       "  <th>Dep. Variable:</th>      <td>FantasyPoints</td>  <th>  R-squared (uncentered):</th>      <td>   0.441</td> \n",
       "</tr>\n",
       "<tr>\n",
       "  <th>Model:</th>                   <td>OLS</td>       <th>  Adj. R-squared (uncentered):</th> <td>   0.441</td> \n",
       "</tr>\n",
       "<tr>\n",
       "  <th>Method:</th>             <td>Least Squares</td>  <th>  F-statistic:       </th>          <td>   1700.</td> \n",
       "</tr>\n",
       "<tr>\n",
       "  <th>Date:</th>             <td>Wed, 17 Feb 2021</td> <th>  Prob (F-statistic):</th>          <td>1.52e-274</td>\n",
       "</tr>\n",
       "<tr>\n",
       "  <th>Time:</th>                 <td>21:22:49</td>     <th>  Log-Likelihood:    </th>          <td> -12808.</td> \n",
       "</tr>\n",
       "<tr>\n",
       "  <th>No. Observations:</th>      <td>  2158</td>      <th>  AIC:               </th>          <td>2.562e+04</td>\n",
       "</tr>\n",
       "<tr>\n",
       "  <th>Df Residuals:</th>          <td>  2157</td>      <th>  BIC:               </th>          <td>2.562e+04</td>\n",
       "</tr>\n",
       "<tr>\n",
       "  <th>Df Model:</th>              <td>     1</td>      <th>                     </th>              <td> </td>    \n",
       "</tr>\n",
       "<tr>\n",
       "  <th>Covariance Type:</th>      <td>nonrobust</td>    <th>                     </th>              <td> </td>    \n",
       "</tr>\n",
       "</table>\n",
       "<table class=\"simpletable\">\n",
       "<tr>\n",
       "     <td></td>       <th>coef</th>     <th>std err</th>      <th>t</th>      <th>P>|t|</th>  <th>[0.025</th>    <th>0.975]</th>  \n",
       "</tr>\n",
       "<tr>\n",
       "  <th>Weight</th> <td>    0.3660</td> <td>    0.009</td> <td>   41.233</td> <td> 0.000</td> <td>    0.349</td> <td>    0.383</td>\n",
       "</tr>\n",
       "</table>\n",
       "<table class=\"simpletable\">\n",
       "<tr>\n",
       "  <th>Omnibus:</th>       <td>322.065</td> <th>  Durbin-Watson:     </th> <td>   0.020</td> \n",
       "</tr>\n",
       "<tr>\n",
       "  <th>Prob(Omnibus):</th> <td> 0.000</td>  <th>  Jarque-Bera (JB):  </th> <td> 477.995</td> \n",
       "</tr>\n",
       "<tr>\n",
       "  <th>Skew:</th>          <td> 1.125</td>  <th>  Prob(JB):          </th> <td>1.60e-104</td>\n",
       "</tr>\n",
       "<tr>\n",
       "  <th>Kurtosis:</th>      <td> 3.507</td>  <th>  Cond. No.          </th> <td>    1.00</td> \n",
       "</tr>\n",
       "</table><br/><br/>Notes:<br/>[1] R² is computed without centering (uncentered) since the model does not contain a constant.<br/>[2] Standard Errors assume that the covariance matrix of the errors is correctly specified."
      ],
      "text/plain": [
       "<class 'statsmodels.iolib.summary.Summary'>\n",
       "\"\"\"\n",
       "                                 OLS Regression Results                                \n",
       "=======================================================================================\n",
       "Dep. Variable:          FantasyPoints   R-squared (uncentered):                   0.441\n",
       "Model:                            OLS   Adj. R-squared (uncentered):              0.441\n",
       "Method:                 Least Squares   F-statistic:                              1700.\n",
       "Date:                Wed, 17 Feb 2021   Prob (F-statistic):                   1.52e-274\n",
       "Time:                        21:22:49   Log-Likelihood:                         -12808.\n",
       "No. Observations:                2158   AIC:                                  2.562e+04\n",
       "Df Residuals:                    2157   BIC:                                  2.562e+04\n",
       "Df Model:                           1                                                  \n",
       "Covariance Type:            nonrobust                                                  \n",
       "==============================================================================\n",
       "                 coef    std err          t      P>|t|      [0.025      0.975]\n",
       "------------------------------------------------------------------------------\n",
       "Weight         0.3660      0.009     41.233      0.000       0.349       0.383\n",
       "==============================================================================\n",
       "Omnibus:                      322.065   Durbin-Watson:                   0.020\n",
       "Prob(Omnibus):                  0.000   Jarque-Bera (JB):              477.995\n",
       "Skew:                           1.125   Prob(JB):                    1.60e-104\n",
       "Kurtosis:                       3.507   Cond. No.                         1.00\n",
       "==============================================================================\n",
       "\n",
       "Notes:\n",
       "[1] R² is computed without centering (uncentered) since the model does not contain a constant.\n",
       "[2] Standard Errors assume that the covariance matrix of the errors is correctly specified.\n",
       "\"\"\""
      ]
     },
     "execution_count": 8,
     "metadata": {},
     "output_type": "execute_result"
    }
   ],
   "source": [
    "x = sorted_df[\"Weight\"]\n",
    "y = sorted_df[\"FantasyPoints\"]\n",
    "model = sm.OLS(y, x, missing='drop')\n",
    "results = model.fit()\n",
    "results.summary()"
   ]
  },
  {
   "cell_type": "code",
   "execution_count": 9,
   "metadata": {},
   "outputs": [
    {
     "data": {
      "text/html": [
       "<table class=\"simpletable\">\n",
       "<caption>OLS Regression Results</caption>\n",
       "<tr>\n",
       "  <th>Dep. Variable:</th>      <td>FantasyPoints</td>  <th>  R-squared (uncentered):</th>      <td>   0.457</td> \n",
       "</tr>\n",
       "<tr>\n",
       "  <th>Model:</th>                   <td>OLS</td>       <th>  Adj. R-squared (uncentered):</th> <td>   0.456</td> \n",
       "</tr>\n",
       "<tr>\n",
       "  <th>Method:</th>             <td>Least Squares</td>  <th>  F-statistic:       </th>          <td>   1813.</td> \n",
       "</tr>\n",
       "<tr>\n",
       "  <th>Date:</th>             <td>Wed, 17 Feb 2021</td> <th>  Prob (F-statistic):</th>          <td>4.18e-288</td>\n",
       "</tr>\n",
       "<tr>\n",
       "  <th>Time:</th>                 <td>21:22:49</td>     <th>  Log-Likelihood:    </th>          <td> -12777.</td> \n",
       "</tr>\n",
       "<tr>\n",
       "  <th>No. Observations:</th>      <td>  2158</td>      <th>  AIC:               </th>          <td>2.556e+04</td>\n",
       "</tr>\n",
       "<tr>\n",
       "  <th>Df Residuals:</th>          <td>  2157</td>      <th>  BIC:               </th>          <td>2.556e+04</td>\n",
       "</tr>\n",
       "<tr>\n",
       "  <th>Df Model:</th>              <td>     1</td>      <th>                     </th>              <td> </td>    \n",
       "</tr>\n",
       "<tr>\n",
       "  <th>Covariance Type:</th>      <td>nonrobust</td>    <th>                     </th>              <td> </td>    \n",
       "</tr>\n",
       "</table>\n",
       "<table class=\"simpletable\">\n",
       "<tr>\n",
       "        <td></td>          <th>coef</th>     <th>std err</th>      <th>t</th>      <th>P>|t|</th>  <th>[0.025</th>    <th>0.975]</th>  \n",
       "</tr>\n",
       "<tr>\n",
       "  <th>Height_Total</th> <td>    1.1247</td> <td>    0.026</td> <td>   42.584</td> <td> 0.000</td> <td>    1.073</td> <td>    1.176</td>\n",
       "</tr>\n",
       "</table>\n",
       "<table class=\"simpletable\">\n",
       "<tr>\n",
       "  <th>Omnibus:</th>       <td>341.645</td> <th>  Durbin-Watson:     </th> <td>   0.003</td> \n",
       "</tr>\n",
       "<tr>\n",
       "  <th>Prob(Omnibus):</th> <td> 0.000</td>  <th>  Jarque-Bera (JB):  </th> <td> 518.300</td> \n",
       "</tr>\n",
       "<tr>\n",
       "  <th>Skew:</th>          <td> 1.163</td>  <th>  Prob(JB):          </th> <td>2.84e-113</td>\n",
       "</tr>\n",
       "<tr>\n",
       "  <th>Kurtosis:</th>      <td> 3.591</td>  <th>  Cond. No.          </th> <td>    1.00</td> \n",
       "</tr>\n",
       "</table><br/><br/>Notes:<br/>[1] R² is computed without centering (uncentered) since the model does not contain a constant.<br/>[2] Standard Errors assume that the covariance matrix of the errors is correctly specified."
      ],
      "text/plain": [
       "<class 'statsmodels.iolib.summary.Summary'>\n",
       "\"\"\"\n",
       "                                 OLS Regression Results                                \n",
       "=======================================================================================\n",
       "Dep. Variable:          FantasyPoints   R-squared (uncentered):                   0.457\n",
       "Model:                            OLS   Adj. R-squared (uncentered):              0.456\n",
       "Method:                 Least Squares   F-statistic:                              1813.\n",
       "Date:                Wed, 17 Feb 2021   Prob (F-statistic):                   4.18e-288\n",
       "Time:                        21:22:49   Log-Likelihood:                         -12777.\n",
       "No. Observations:                2158   AIC:                                  2.556e+04\n",
       "Df Residuals:                    2157   BIC:                                  2.556e+04\n",
       "Df Model:                           1                                                  \n",
       "Covariance Type:            nonrobust                                                  \n",
       "================================================================================\n",
       "                   coef    std err          t      P>|t|      [0.025      0.975]\n",
       "--------------------------------------------------------------------------------\n",
       "Height_Total     1.1247      0.026     42.584      0.000       1.073       1.176\n",
       "==============================================================================\n",
       "Omnibus:                      341.645   Durbin-Watson:                   0.003\n",
       "Prob(Omnibus):                  0.000   Jarque-Bera (JB):              518.300\n",
       "Skew:                           1.163   Prob(JB):                    2.84e-113\n",
       "Kurtosis:                       3.591   Cond. No.                         1.00\n",
       "==============================================================================\n",
       "\n",
       "Notes:\n",
       "[1] R² is computed without centering (uncentered) since the model does not contain a constant.\n",
       "[2] Standard Errors assume that the covariance matrix of the errors is correctly specified.\n",
       "\"\"\""
      ]
     },
     "execution_count": 9,
     "metadata": {},
     "output_type": "execute_result"
    }
   ],
   "source": [
    "x = sorted_df[\"Height_Total\"]\n",
    "y = sorted_df[\"FantasyPoints\"]\n",
    "model = sm.OLS(y, x, missing='drop')\n",
    "results = model.fit()\n",
    "results.summary()"
   ]
  },
  {
   "cell_type": "code",
   "execution_count": 10,
   "metadata": {},
   "outputs": [],
   "source": [
    "positionPoints_df = sorted_df.groupby(\"Position\")[\"FantasyPoints\"].mean()"
   ]
  },
  {
   "cell_type": "code",
   "execution_count": 11,
   "metadata": {},
   "outputs": [],
   "source": [
    "qb_data = sorted_df.loc[sorted_df[\"Position\"] == \"QB\"]"
   ]
  },
  {
   "cell_type": "code",
   "execution_count": 12,
   "metadata": {},
   "outputs": [
    {
     "data": {
      "text/html": [
       "<table class=\"simpletable\">\n",
       "<caption>OLS Regression Results</caption>\n",
       "<tr>\n",
       "  <th>Dep. Variable:</th>      <td>FantasyPoints</td>  <th>  R-squared (uncentered):</th>      <td>   0.569</td>\n",
       "</tr>\n",
       "<tr>\n",
       "  <th>Model:</th>                   <td>OLS</td>       <th>  Adj. R-squared (uncentered):</th> <td>   0.568</td>\n",
       "</tr>\n",
       "<tr>\n",
       "  <th>Method:</th>             <td>Least Squares</td>  <th>  F-statistic:       </th>          <td>   378.1</td>\n",
       "</tr>\n",
       "<tr>\n",
       "  <th>Date:</th>             <td>Wed, 17 Feb 2021</td> <th>  Prob (F-statistic):</th>          <td>2.97e-54</td>\n",
       "</tr>\n",
       "<tr>\n",
       "  <th>Time:</th>                 <td>21:22:49</td>     <th>  Log-Likelihood:    </th>          <td> -1776.6</td>\n",
       "</tr>\n",
       "<tr>\n",
       "  <th>No. Observations:</th>      <td>   287</td>      <th>  AIC:               </th>          <td>   3555.</td>\n",
       "</tr>\n",
       "<tr>\n",
       "  <th>Df Residuals:</th>          <td>   286</td>      <th>  BIC:               </th>          <td>   3559.</td>\n",
       "</tr>\n",
       "<tr>\n",
       "  <th>Df Model:</th>              <td>     1</td>      <th>                     </th>              <td> </td>   \n",
       "</tr>\n",
       "<tr>\n",
       "  <th>Covariance Type:</th>      <td>nonrobust</td>    <th>                     </th>              <td> </td>   \n",
       "</tr>\n",
       "</table>\n",
       "<table class=\"simpletable\">\n",
       "<tr>\n",
       "   <td></td>      <th>coef</th>     <th>std err</th>      <th>t</th>      <th>P>|t|</th>  <th>[0.025</th>    <th>0.975]</th>  \n",
       "</tr>\n",
       "<tr>\n",
       "  <th>Age</th> <td>    4.7379</td> <td>    0.244</td> <td>   19.446</td> <td> 0.000</td> <td>    4.258</td> <td>    5.218</td>\n",
       "</tr>\n",
       "</table>\n",
       "<table class=\"simpletable\">\n",
       "<tr>\n",
       "  <th>Omnibus:</th>       <td>166.665</td> <th>  Durbin-Watson:     </th> <td>   0.073</td>\n",
       "</tr>\n",
       "<tr>\n",
       "  <th>Prob(Omnibus):</th> <td> 0.000</td>  <th>  Jarque-Bera (JB):  </th> <td>  22.215</td>\n",
       "</tr>\n",
       "<tr>\n",
       "  <th>Skew:</th>          <td> 0.314</td>  <th>  Prob(JB):          </th> <td>1.50e-05</td>\n",
       "</tr>\n",
       "<tr>\n",
       "  <th>Kurtosis:</th>      <td> 1.790</td>  <th>  Cond. No.          </th> <td>    1.00</td>\n",
       "</tr>\n",
       "</table><br/><br/>Notes:<br/>[1] R² is computed without centering (uncentered) since the model does not contain a constant.<br/>[2] Standard Errors assume that the covariance matrix of the errors is correctly specified."
      ],
      "text/plain": [
       "<class 'statsmodels.iolib.summary.Summary'>\n",
       "\"\"\"\n",
       "                                 OLS Regression Results                                \n",
       "=======================================================================================\n",
       "Dep. Variable:          FantasyPoints   R-squared (uncentered):                   0.569\n",
       "Model:                            OLS   Adj. R-squared (uncentered):              0.568\n",
       "Method:                 Least Squares   F-statistic:                              378.1\n",
       "Date:                Wed, 17 Feb 2021   Prob (F-statistic):                    2.97e-54\n",
       "Time:                        21:22:49   Log-Likelihood:                         -1776.6\n",
       "No. Observations:                 287   AIC:                                      3555.\n",
       "Df Residuals:                     286   BIC:                                      3559.\n",
       "Df Model:                           1                                                  \n",
       "Covariance Type:            nonrobust                                                  \n",
       "==============================================================================\n",
       "                 coef    std err          t      P>|t|      [0.025      0.975]\n",
       "------------------------------------------------------------------------------\n",
       "Age            4.7379      0.244     19.446      0.000       4.258       5.218\n",
       "==============================================================================\n",
       "Omnibus:                      166.665   Durbin-Watson:                   0.073\n",
       "Prob(Omnibus):                  0.000   Jarque-Bera (JB):               22.215\n",
       "Skew:                           0.314   Prob(JB):                     1.50e-05\n",
       "Kurtosis:                       1.790   Cond. No.                         1.00\n",
       "==============================================================================\n",
       "\n",
       "Notes:\n",
       "[1] R² is computed without centering (uncentered) since the model does not contain a constant.\n",
       "[2] Standard Errors assume that the covariance matrix of the errors is correctly specified.\n",
       "\"\"\""
      ]
     },
     "execution_count": 12,
     "metadata": {},
     "output_type": "execute_result"
    }
   ],
   "source": [
    "x = qb_data[\"Age\"]\n",
    "y = qb_data[\"FantasyPoints\"]\n",
    "model = sm.OLS(y, x, missing='drop')\n",
    "results = model.fit()\n",
    "results.summary()"
   ]
  },
  {
   "cell_type": "code",
   "execution_count": 13,
   "metadata": {},
   "outputs": [
    {
     "data": {
      "text/html": [
       "<table class=\"simpletable\">\n",
       "<caption>OLS Regression Results</caption>\n",
       "<tr>\n",
       "  <th>Dep. Variable:</th>      <td>FantasyPoints</td>  <th>  R-squared (uncentered):</th>      <td>   0.558</td>\n",
       "</tr>\n",
       "<tr>\n",
       "  <th>Model:</th>                   <td>OLS</td>       <th>  Adj. R-squared (uncentered):</th> <td>   0.557</td>\n",
       "</tr>\n",
       "<tr>\n",
       "  <th>Method:</th>             <td>Least Squares</td>  <th>  F-statistic:       </th>          <td>   361.5</td>\n",
       "</tr>\n",
       "<tr>\n",
       "  <th>Date:</th>             <td>Wed, 17 Feb 2021</td> <th>  Prob (F-statistic):</th>          <td>1.13e-52</td>\n",
       "</tr>\n",
       "<tr>\n",
       "  <th>Time:</th>                 <td>21:22:49</td>     <th>  Log-Likelihood:    </th>          <td> -1780.2</td>\n",
       "</tr>\n",
       "<tr>\n",
       "  <th>No. Observations:</th>      <td>   287</td>      <th>  AIC:               </th>          <td>   3562.</td>\n",
       "</tr>\n",
       "<tr>\n",
       "  <th>Df Residuals:</th>          <td>   286</td>      <th>  BIC:               </th>          <td>   3566.</td>\n",
       "</tr>\n",
       "<tr>\n",
       "  <th>Df Model:</th>              <td>     1</td>      <th>                     </th>              <td> </td>   \n",
       "</tr>\n",
       "<tr>\n",
       "  <th>Covariance Type:</th>      <td>nonrobust</td>    <th>                     </th>              <td> </td>   \n",
       "</tr>\n",
       "</table>\n",
       "<table class=\"simpletable\">\n",
       "<tr>\n",
       "     <td></td>       <th>coef</th>     <th>std err</th>      <th>t</th>      <th>P>|t|</th>  <th>[0.025</th>    <th>0.975]</th>  \n",
       "</tr>\n",
       "<tr>\n",
       "  <th>Weight</th> <td>    0.6018</td> <td>    0.032</td> <td>   19.013</td> <td> 0.000</td> <td>    0.540</td> <td>    0.664</td>\n",
       "</tr>\n",
       "</table>\n",
       "<table class=\"simpletable\">\n",
       "<tr>\n",
       "  <th>Omnibus:</th>       <td>608.823</td> <th>  Durbin-Watson:     </th> <td>   0.007</td>\n",
       "</tr>\n",
       "<tr>\n",
       "  <th>Prob(Omnibus):</th> <td> 0.000</td>  <th>  Jarque-Bera (JB):  </th> <td>  26.527</td>\n",
       "</tr>\n",
       "<tr>\n",
       "  <th>Skew:</th>          <td> 0.303</td>  <th>  Prob(JB):          </th> <td>1.74e-06</td>\n",
       "</tr>\n",
       "<tr>\n",
       "  <th>Kurtosis:</th>      <td> 1.639</td>  <th>  Cond. No.          </th> <td>    1.00</td>\n",
       "</tr>\n",
       "</table><br/><br/>Notes:<br/>[1] R² is computed without centering (uncentered) since the model does not contain a constant.<br/>[2] Standard Errors assume that the covariance matrix of the errors is correctly specified."
      ],
      "text/plain": [
       "<class 'statsmodels.iolib.summary.Summary'>\n",
       "\"\"\"\n",
       "                                 OLS Regression Results                                \n",
       "=======================================================================================\n",
       "Dep. Variable:          FantasyPoints   R-squared (uncentered):                   0.558\n",
       "Model:                            OLS   Adj. R-squared (uncentered):              0.557\n",
       "Method:                 Least Squares   F-statistic:                              361.5\n",
       "Date:                Wed, 17 Feb 2021   Prob (F-statistic):                    1.13e-52\n",
       "Time:                        21:22:49   Log-Likelihood:                         -1780.2\n",
       "No. Observations:                 287   AIC:                                      3562.\n",
       "Df Residuals:                     286   BIC:                                      3566.\n",
       "Df Model:                           1                                                  \n",
       "Covariance Type:            nonrobust                                                  \n",
       "==============================================================================\n",
       "                 coef    std err          t      P>|t|      [0.025      0.975]\n",
       "------------------------------------------------------------------------------\n",
       "Weight         0.6018      0.032     19.013      0.000       0.540       0.664\n",
       "==============================================================================\n",
       "Omnibus:                      608.823   Durbin-Watson:                   0.007\n",
       "Prob(Omnibus):                  0.000   Jarque-Bera (JB):               26.527\n",
       "Skew:                           0.303   Prob(JB):                     1.74e-06\n",
       "Kurtosis:                       1.639   Cond. No.                         1.00\n",
       "==============================================================================\n",
       "\n",
       "Notes:\n",
       "[1] R² is computed without centering (uncentered) since the model does not contain a constant.\n",
       "[2] Standard Errors assume that the covariance matrix of the errors is correctly specified.\n",
       "\"\"\""
      ]
     },
     "execution_count": 13,
     "metadata": {},
     "output_type": "execute_result"
    }
   ],
   "source": [
    "x = qb_data[\"Weight\"]\n",
    "y = qb_data[\"FantasyPoints\"]\n",
    "model = sm.OLS(y, x, missing='drop')\n",
    "results = model.fit()\n",
    "results.summary()"
   ]
  },
  {
   "cell_type": "code",
   "execution_count": 14,
   "metadata": {},
   "outputs": [
    {
     "data": {
      "text/html": [
       "<table class=\"simpletable\">\n",
       "<caption>OLS Regression Results</caption>\n",
       "<tr>\n",
       "  <th>Dep. Variable:</th>      <td>FantasyPoints</td>  <th>  R-squared (uncentered):</th>      <td>   0.558</td>\n",
       "</tr>\n",
       "<tr>\n",
       "  <th>Model:</th>                   <td>OLS</td>       <th>  Adj. R-squared (uncentered):</th> <td>   0.556</td>\n",
       "</tr>\n",
       "<tr>\n",
       "  <th>Method:</th>             <td>Least Squares</td>  <th>  F-statistic:       </th>          <td>   361.0</td>\n",
       "</tr>\n",
       "<tr>\n",
       "  <th>Date:</th>             <td>Wed, 17 Feb 2021</td> <th>  Prob (F-statistic):</th>          <td>1.27e-52</td>\n",
       "</tr>\n",
       "<tr>\n",
       "  <th>Time:</th>                 <td>21:22:49</td>     <th>  Log-Likelihood:    </th>          <td> -1780.4</td>\n",
       "</tr>\n",
       "<tr>\n",
       "  <th>No. Observations:</th>      <td>   287</td>      <th>  AIC:               </th>          <td>   3563.</td>\n",
       "</tr>\n",
       "<tr>\n",
       "  <th>Df Residuals:</th>          <td>   286</td>      <th>  BIC:               </th>          <td>   3566.</td>\n",
       "</tr>\n",
       "<tr>\n",
       "  <th>Df Model:</th>              <td>     1</td>      <th>                     </th>              <td> </td>   \n",
       "</tr>\n",
       "<tr>\n",
       "  <th>Covariance Type:</th>      <td>nonrobust</td>    <th>                     </th>              <td> </td>   \n",
       "</tr>\n",
       "</table>\n",
       "<table class=\"simpletable\">\n",
       "<tr>\n",
       "        <td></td>          <th>coef</th>     <th>std err</th>      <th>t</th>      <th>P>|t|</th>  <th>[0.025</th>    <th>0.975]</th>  \n",
       "</tr>\n",
       "<tr>\n",
       "  <th>Height_Total</th> <td>    1.7861</td> <td>    0.094</td> <td>   18.999</td> <td> 0.000</td> <td>    1.601</td> <td>    1.971</td>\n",
       "</tr>\n",
       "</table>\n",
       "<table class=\"simpletable\">\n",
       "<tr>\n",
       "  <th>Omnibus:</th>       <td>538.371</td> <th>  Durbin-Watson:     </th> <td>   0.002</td>\n",
       "</tr>\n",
       "<tr>\n",
       "  <th>Prob(Omnibus):</th> <td> 0.000</td>  <th>  Jarque-Bera (JB):  </th> <td>  26.422</td>\n",
       "</tr>\n",
       "<tr>\n",
       "  <th>Skew:</th>          <td> 0.310</td>  <th>  Prob(JB):          </th> <td>1.83e-06</td>\n",
       "</tr>\n",
       "<tr>\n",
       "  <th>Kurtosis:</th>      <td> 1.649</td>  <th>  Cond. No.          </th> <td>    1.00</td>\n",
       "</tr>\n",
       "</table><br/><br/>Notes:<br/>[1] R² is computed without centering (uncentered) since the model does not contain a constant.<br/>[2] Standard Errors assume that the covariance matrix of the errors is correctly specified."
      ],
      "text/plain": [
       "<class 'statsmodels.iolib.summary.Summary'>\n",
       "\"\"\"\n",
       "                                 OLS Regression Results                                \n",
       "=======================================================================================\n",
       "Dep. Variable:          FantasyPoints   R-squared (uncentered):                   0.558\n",
       "Model:                            OLS   Adj. R-squared (uncentered):              0.556\n",
       "Method:                 Least Squares   F-statistic:                              361.0\n",
       "Date:                Wed, 17 Feb 2021   Prob (F-statistic):                    1.27e-52\n",
       "Time:                        21:22:49   Log-Likelihood:                         -1780.4\n",
       "No. Observations:                 287   AIC:                                      3563.\n",
       "Df Residuals:                     286   BIC:                                      3566.\n",
       "Df Model:                           1                                                  \n",
       "Covariance Type:            nonrobust                                                  \n",
       "================================================================================\n",
       "                   coef    std err          t      P>|t|      [0.025      0.975]\n",
       "--------------------------------------------------------------------------------\n",
       "Height_Total     1.7861      0.094     18.999      0.000       1.601       1.971\n",
       "==============================================================================\n",
       "Omnibus:                      538.371   Durbin-Watson:                   0.002\n",
       "Prob(Omnibus):                  0.000   Jarque-Bera (JB):               26.422\n",
       "Skew:                           0.310   Prob(JB):                     1.83e-06\n",
       "Kurtosis:                       1.649   Cond. No.                         1.00\n",
       "==============================================================================\n",
       "\n",
       "Notes:\n",
       "[1] R² is computed without centering (uncentered) since the model does not contain a constant.\n",
       "[2] Standard Errors assume that the covariance matrix of the errors is correctly specified.\n",
       "\"\"\""
      ]
     },
     "execution_count": 14,
     "metadata": {},
     "output_type": "execute_result"
    }
   ],
   "source": [
    "x = qb_data[\"Height_Total\"]\n",
    "y = qb_data[\"FantasyPoints\"]\n",
    "model = sm.OLS(y, x, missing='drop')\n",
    "results = model.fit()\n",
    "results.summary()"
   ]
  },
  {
   "cell_type": "code",
   "execution_count": 15,
   "metadata": {},
   "outputs": [],
   "source": [
    "rb_data = sorted_df.loc[sorted_df[\"Position\"] == \"RB\"]"
   ]
  },
  {
   "cell_type": "code",
   "execution_count": 16,
   "metadata": {},
   "outputs": [
    {
     "data": {
      "text/html": [
       "<table class=\"simpletable\">\n",
       "<caption>OLS Regression Results</caption>\n",
       "<tr>\n",
       "  <th>Dep. Variable:</th>      <td>FantasyPoints</td>  <th>  R-squared (uncentered):</th>      <td>   0.503</td>\n",
       "</tr>\n",
       "<tr>\n",
       "  <th>Model:</th>                   <td>OLS</td>       <th>  Adj. R-squared (uncentered):</th> <td>   0.502</td>\n",
       "</tr>\n",
       "<tr>\n",
       "  <th>Method:</th>             <td>Least Squares</td>  <th>  F-statistic:       </th>          <td>   494.1</td>\n",
       "</tr>\n",
       "<tr>\n",
       "  <th>Date:</th>             <td>Wed, 17 Feb 2021</td> <th>  Prob (F-statistic):</th>          <td>3.58e-76</td>\n",
       "</tr>\n",
       "<tr>\n",
       "  <th>Time:</th>                 <td>21:22:49</td>     <th>  Log-Likelihood:    </th>          <td> -2885.3</td>\n",
       "</tr>\n",
       "<tr>\n",
       "  <th>No. Observations:</th>      <td>   490</td>      <th>  AIC:               </th>          <td>   5773.</td>\n",
       "</tr>\n",
       "<tr>\n",
       "  <th>Df Residuals:</th>          <td>   489</td>      <th>  BIC:               </th>          <td>   5777.</td>\n",
       "</tr>\n",
       "<tr>\n",
       "  <th>Df Model:</th>              <td>     1</td>      <th>                     </th>              <td> </td>   \n",
       "</tr>\n",
       "<tr>\n",
       "  <th>Covariance Type:</th>      <td>nonrobust</td>    <th>                     </th>              <td> </td>   \n",
       "</tr>\n",
       "</table>\n",
       "<table class=\"simpletable\">\n",
       "<tr>\n",
       "   <td></td>      <th>coef</th>     <th>std err</th>      <th>t</th>      <th>P>|t|</th>  <th>[0.025</th>    <th>0.975]</th>  \n",
       "</tr>\n",
       "<tr>\n",
       "  <th>Age</th> <td>    3.5111</td> <td>    0.158</td> <td>   22.228</td> <td> 0.000</td> <td>    3.201</td> <td>    3.821</td>\n",
       "</tr>\n",
       "</table>\n",
       "<table class=\"simpletable\">\n",
       "<tr>\n",
       "  <th>Omnibus:</th>       <td>90.491</td> <th>  Durbin-Watson:     </th> <td>   0.025</td>\n",
       "</tr>\n",
       "<tr>\n",
       "  <th>Prob(Omnibus):</th> <td> 0.000</td> <th>  Jarque-Bera (JB):  </th> <td> 142.662</td>\n",
       "</tr>\n",
       "<tr>\n",
       "  <th>Skew:</th>          <td> 1.165</td> <th>  Prob(JB):          </th> <td>1.05e-31</td>\n",
       "</tr>\n",
       "<tr>\n",
       "  <th>Kurtosis:</th>      <td> 4.250</td> <th>  Cond. No.          </th> <td>    1.00</td>\n",
       "</tr>\n",
       "</table><br/><br/>Notes:<br/>[1] R² is computed without centering (uncentered) since the model does not contain a constant.<br/>[2] Standard Errors assume that the covariance matrix of the errors is correctly specified."
      ],
      "text/plain": [
       "<class 'statsmodels.iolib.summary.Summary'>\n",
       "\"\"\"\n",
       "                                 OLS Regression Results                                \n",
       "=======================================================================================\n",
       "Dep. Variable:          FantasyPoints   R-squared (uncentered):                   0.503\n",
       "Model:                            OLS   Adj. R-squared (uncentered):              0.502\n",
       "Method:                 Least Squares   F-statistic:                              494.1\n",
       "Date:                Wed, 17 Feb 2021   Prob (F-statistic):                    3.58e-76\n",
       "Time:                        21:22:49   Log-Likelihood:                         -2885.3\n",
       "No. Observations:                 490   AIC:                                      5773.\n",
       "Df Residuals:                     489   BIC:                                      5777.\n",
       "Df Model:                           1                                                  \n",
       "Covariance Type:            nonrobust                                                  \n",
       "==============================================================================\n",
       "                 coef    std err          t      P>|t|      [0.025      0.975]\n",
       "------------------------------------------------------------------------------\n",
       "Age            3.5111      0.158     22.228      0.000       3.201       3.821\n",
       "==============================================================================\n",
       "Omnibus:                       90.491   Durbin-Watson:                   0.025\n",
       "Prob(Omnibus):                  0.000   Jarque-Bera (JB):              142.662\n",
       "Skew:                           1.165   Prob(JB):                     1.05e-31\n",
       "Kurtosis:                       4.250   Cond. No.                         1.00\n",
       "==============================================================================\n",
       "\n",
       "Notes:\n",
       "[1] R² is computed without centering (uncentered) since the model does not contain a constant.\n",
       "[2] Standard Errors assume that the covariance matrix of the errors is correctly specified.\n",
       "\"\"\""
      ]
     },
     "execution_count": 16,
     "metadata": {},
     "output_type": "execute_result"
    }
   ],
   "source": [
    "x = rb_data[\"Age\"]\n",
    "y = rb_data[\"FantasyPoints\"]\n",
    "model = sm.OLS(y, x, missing='drop')\n",
    "results = model.fit()\n",
    "results.summary()"
   ]
  },
  {
   "cell_type": "code",
   "execution_count": 17,
   "metadata": {},
   "outputs": [
    {
     "data": {
      "text/html": [
       "<table class=\"simpletable\">\n",
       "<caption>OLS Regression Results</caption>\n",
       "<tr>\n",
       "  <th>Dep. Variable:</th>      <td>FantasyPoints</td>  <th>  R-squared (uncentered):</th>      <td>   0.518</td>\n",
       "</tr>\n",
       "<tr>\n",
       "  <th>Model:</th>                   <td>OLS</td>       <th>  Adj. R-squared (uncentered):</th> <td>   0.517</td>\n",
       "</tr>\n",
       "<tr>\n",
       "  <th>Method:</th>             <td>Least Squares</td>  <th>  F-statistic:       </th>          <td>   524.9</td>\n",
       "</tr>\n",
       "<tr>\n",
       "  <th>Date:</th>             <td>Wed, 17 Feb 2021</td> <th>  Prob (F-statistic):</th>          <td>1.88e-79</td>\n",
       "</tr>\n",
       "<tr>\n",
       "  <th>Time:</th>                 <td>21:22:49</td>     <th>  Log-Likelihood:    </th>          <td> -2877.8</td>\n",
       "</tr>\n",
       "<tr>\n",
       "  <th>No. Observations:</th>      <td>   490</td>      <th>  AIC:               </th>          <td>   5758.</td>\n",
       "</tr>\n",
       "<tr>\n",
       "  <th>Df Residuals:</th>          <td>   489</td>      <th>  BIC:               </th>          <td>   5762.</td>\n",
       "</tr>\n",
       "<tr>\n",
       "  <th>Df Model:</th>              <td>     1</td>      <th>                     </th>              <td> </td>   \n",
       "</tr>\n",
       "<tr>\n",
       "  <th>Covariance Type:</th>      <td>nonrobust</td>    <th>                     </th>              <td> </td>   \n",
       "</tr>\n",
       "</table>\n",
       "<table class=\"simpletable\">\n",
       "<tr>\n",
       "     <td></td>       <th>coef</th>     <th>std err</th>      <th>t</th>      <th>P>|t|</th>  <th>[0.025</th>    <th>0.975]</th>  \n",
       "</tr>\n",
       "<tr>\n",
       "  <th>Weight</th> <td>    0.4171</td> <td>    0.018</td> <td>   22.910</td> <td> 0.000</td> <td>    0.381</td> <td>    0.453</td>\n",
       "</tr>\n",
       "</table>\n",
       "<table class=\"simpletable\">\n",
       "<tr>\n",
       "  <th>Omnibus:</th>       <td>86.078</td> <th>  Durbin-Watson:     </th> <td>   0.009</td>\n",
       "</tr>\n",
       "<tr>\n",
       "  <th>Prob(Omnibus):</th> <td> 0.000</td> <th>  Jarque-Bera (JB):  </th> <td> 131.564</td>\n",
       "</tr>\n",
       "<tr>\n",
       "  <th>Skew:</th>          <td> 1.137</td> <th>  Prob(JB):          </th> <td>2.70e-29</td>\n",
       "</tr>\n",
       "<tr>\n",
       "  <th>Kurtosis:</th>      <td> 4.128</td> <th>  Cond. No.          </th> <td>    1.00</td>\n",
       "</tr>\n",
       "</table><br/><br/>Notes:<br/>[1] R² is computed without centering (uncentered) since the model does not contain a constant.<br/>[2] Standard Errors assume that the covariance matrix of the errors is correctly specified."
      ],
      "text/plain": [
       "<class 'statsmodels.iolib.summary.Summary'>\n",
       "\"\"\"\n",
       "                                 OLS Regression Results                                \n",
       "=======================================================================================\n",
       "Dep. Variable:          FantasyPoints   R-squared (uncentered):                   0.518\n",
       "Model:                            OLS   Adj. R-squared (uncentered):              0.517\n",
       "Method:                 Least Squares   F-statistic:                              524.9\n",
       "Date:                Wed, 17 Feb 2021   Prob (F-statistic):                    1.88e-79\n",
       "Time:                        21:22:49   Log-Likelihood:                         -2877.8\n",
       "No. Observations:                 490   AIC:                                      5758.\n",
       "Df Residuals:                     489   BIC:                                      5762.\n",
       "Df Model:                           1                                                  \n",
       "Covariance Type:            nonrobust                                                  \n",
       "==============================================================================\n",
       "                 coef    std err          t      P>|t|      [0.025      0.975]\n",
       "------------------------------------------------------------------------------\n",
       "Weight         0.4171      0.018     22.910      0.000       0.381       0.453\n",
       "==============================================================================\n",
       "Omnibus:                       86.078   Durbin-Watson:                   0.009\n",
       "Prob(Omnibus):                  0.000   Jarque-Bera (JB):              131.564\n",
       "Skew:                           1.137   Prob(JB):                     2.70e-29\n",
       "Kurtosis:                       4.128   Cond. No.                         1.00\n",
       "==============================================================================\n",
       "\n",
       "Notes:\n",
       "[1] R² is computed without centering (uncentered) since the model does not contain a constant.\n",
       "[2] Standard Errors assume that the covariance matrix of the errors is correctly specified.\n",
       "\"\"\""
      ]
     },
     "execution_count": 17,
     "metadata": {},
     "output_type": "execute_result"
    }
   ],
   "source": [
    "x = rb_data[\"Weight\"]\n",
    "y = rb_data[\"FantasyPoints\"]\n",
    "model = sm.OLS(y, x, missing='drop')\n",
    "results = model.fit()\n",
    "results.summary()"
   ]
  },
  {
   "cell_type": "code",
   "execution_count": 18,
   "metadata": {},
   "outputs": [
    {
     "data": {
      "text/html": [
       "<table class=\"simpletable\">\n",
       "<caption>OLS Regression Results</caption>\n",
       "<tr>\n",
       "  <th>Dep. Variable:</th>      <td>FantasyPoints</td>  <th>  R-squared (uncentered):</th>      <td>   0.512</td>\n",
       "</tr>\n",
       "<tr>\n",
       "  <th>Model:</th>                   <td>OLS</td>       <th>  Adj. R-squared (uncentered):</th> <td>   0.511</td>\n",
       "</tr>\n",
       "<tr>\n",
       "  <th>Method:</th>             <td>Least Squares</td>  <th>  F-statistic:       </th>          <td>   514.0</td>\n",
       "</tr>\n",
       "<tr>\n",
       "  <th>Date:</th>             <td>Wed, 17 Feb 2021</td> <th>  Prob (F-statistic):</th>          <td>2.61e-78</td>\n",
       "</tr>\n",
       "<tr>\n",
       "  <th>Time:</th>                 <td>21:22:49</td>     <th>  Log-Likelihood:    </th>          <td> -2880.4</td>\n",
       "</tr>\n",
       "<tr>\n",
       "  <th>No. Observations:</th>      <td>   490</td>      <th>  AIC:               </th>          <td>   5763.</td>\n",
       "</tr>\n",
       "<tr>\n",
       "  <th>Df Residuals:</th>          <td>   489</td>      <th>  BIC:               </th>          <td>   5767.</td>\n",
       "</tr>\n",
       "<tr>\n",
       "  <th>Df Model:</th>              <td>     1</td>      <th>                     </th>              <td> </td>   \n",
       "</tr>\n",
       "<tr>\n",
       "  <th>Covariance Type:</th>      <td>nonrobust</td>    <th>                     </th>              <td> </td>   \n",
       "</tr>\n",
       "</table>\n",
       "<table class=\"simpletable\">\n",
       "<tr>\n",
       "        <td></td>          <th>coef</th>     <th>std err</th>      <th>t</th>      <th>P>|t|</th>  <th>[0.025</th>    <th>0.975]</th>  \n",
       "</tr>\n",
       "<tr>\n",
       "  <th>Height_Total</th> <td>    1.2533</td> <td>    0.055</td> <td>   22.672</td> <td> 0.000</td> <td>    1.145</td> <td>    1.362</td>\n",
       "</tr>\n",
       "</table>\n",
       "<table class=\"simpletable\">\n",
       "<tr>\n",
       "  <th>Omnibus:</th>       <td>85.214</td> <th>  Durbin-Watson:     </th> <td>   0.003</td>\n",
       "</tr>\n",
       "<tr>\n",
       "  <th>Prob(Omnibus):</th> <td> 0.000</td> <th>  Jarque-Bera (JB):  </th> <td> 129.313</td>\n",
       "</tr>\n",
       "<tr>\n",
       "  <th>Skew:</th>          <td> 1.133</td> <th>  Prob(JB):          </th> <td>8.32e-29</td>\n",
       "</tr>\n",
       "<tr>\n",
       "  <th>Kurtosis:</th>      <td> 4.093</td> <th>  Cond. No.          </th> <td>    1.00</td>\n",
       "</tr>\n",
       "</table><br/><br/>Notes:<br/>[1] R² is computed without centering (uncentered) since the model does not contain a constant.<br/>[2] Standard Errors assume that the covariance matrix of the errors is correctly specified."
      ],
      "text/plain": [
       "<class 'statsmodels.iolib.summary.Summary'>\n",
       "\"\"\"\n",
       "                                 OLS Regression Results                                \n",
       "=======================================================================================\n",
       "Dep. Variable:          FantasyPoints   R-squared (uncentered):                   0.512\n",
       "Model:                            OLS   Adj. R-squared (uncentered):              0.511\n",
       "Method:                 Least Squares   F-statistic:                              514.0\n",
       "Date:                Wed, 17 Feb 2021   Prob (F-statistic):                    2.61e-78\n",
       "Time:                        21:22:49   Log-Likelihood:                         -2880.4\n",
       "No. Observations:                 490   AIC:                                      5763.\n",
       "Df Residuals:                     489   BIC:                                      5767.\n",
       "Df Model:                           1                                                  \n",
       "Covariance Type:            nonrobust                                                  \n",
       "================================================================================\n",
       "                   coef    std err          t      P>|t|      [0.025      0.975]\n",
       "--------------------------------------------------------------------------------\n",
       "Height_Total     1.2533      0.055     22.672      0.000       1.145       1.362\n",
       "==============================================================================\n",
       "Omnibus:                       85.214   Durbin-Watson:                   0.003\n",
       "Prob(Omnibus):                  0.000   Jarque-Bera (JB):              129.313\n",
       "Skew:                           1.133   Prob(JB):                     8.32e-29\n",
       "Kurtosis:                       4.093   Cond. No.                         1.00\n",
       "==============================================================================\n",
       "\n",
       "Notes:\n",
       "[1] R² is computed without centering (uncentered) since the model does not contain a constant.\n",
       "[2] Standard Errors assume that the covariance matrix of the errors is correctly specified.\n",
       "\"\"\""
      ]
     },
     "execution_count": 18,
     "metadata": {},
     "output_type": "execute_result"
    }
   ],
   "source": [
    "x = rb_data[\"Height_Total\"]\n",
    "y = rb_data[\"FantasyPoints\"]\n",
    "model = sm.OLS(y, x, missing='drop')\n",
    "results = model.fit()\n",
    "results.summary()"
   ]
  },
  {
   "cell_type": "code",
   "execution_count": 19,
   "metadata": {},
   "outputs": [],
   "source": [
    "wr_data = sorted_df.loc[sorted_df[\"Position\"] == \"WR\"]"
   ]
  },
  {
   "cell_type": "code",
   "execution_count": 20,
   "metadata": {},
   "outputs": [
    {
     "data": {
      "text/html": [
       "<table class=\"simpletable\">\n",
       "<caption>OLS Regression Results</caption>\n",
       "<tr>\n",
       "  <th>Dep. Variable:</th>      <td>FantasyPoints</td>  <th>  R-squared (uncentered):</th>      <td>   0.524</td> \n",
       "</tr>\n",
       "<tr>\n",
       "  <th>Model:</th>                   <td>OLS</td>       <th>  Adj. R-squared (uncentered):</th> <td>   0.523</td> \n",
       "</tr>\n",
       "<tr>\n",
       "  <th>Method:</th>             <td>Least Squares</td>  <th>  F-statistic:       </th>          <td>   836.2</td> \n",
       "</tr>\n",
       "<tr>\n",
       "  <th>Date:</th>             <td>Wed, 17 Feb 2021</td> <th>  Prob (F-statistic):</th>          <td>1.23e-124</td>\n",
       "</tr>\n",
       "<tr>\n",
       "  <th>Time:</th>                 <td>21:22:49</td>     <th>  Log-Likelihood:    </th>          <td> -4450.8</td> \n",
       "</tr>\n",
       "<tr>\n",
       "  <th>No. Observations:</th>      <td>   762</td>      <th>  AIC:               </th>          <td>   8904.</td> \n",
       "</tr>\n",
       "<tr>\n",
       "  <th>Df Residuals:</th>          <td>   761</td>      <th>  BIC:               </th>          <td>   8908.</td> \n",
       "</tr>\n",
       "<tr>\n",
       "  <th>Df Model:</th>              <td>     1</td>      <th>                     </th>              <td> </td>    \n",
       "</tr>\n",
       "<tr>\n",
       "  <th>Covariance Type:</th>      <td>nonrobust</td>    <th>                     </th>              <td> </td>    \n",
       "</tr>\n",
       "</table>\n",
       "<table class=\"simpletable\">\n",
       "<tr>\n",
       "   <td></td>      <th>coef</th>     <th>std err</th>      <th>t</th>      <th>P>|t|</th>  <th>[0.025</th>    <th>0.975]</th>  \n",
       "</tr>\n",
       "<tr>\n",
       "  <th>Age</th> <td>    3.4436</td> <td>    0.119</td> <td>   28.917</td> <td> 0.000</td> <td>    3.210</td> <td>    3.677</td>\n",
       "</tr>\n",
       "</table>\n",
       "<table class=\"simpletable\">\n",
       "<tr>\n",
       "  <th>Omnibus:</th>       <td>87.891</td> <th>  Durbin-Watson:     </th> <td>   0.023</td>\n",
       "</tr>\n",
       "<tr>\n",
       "  <th>Prob(Omnibus):</th> <td> 0.000</td> <th>  Jarque-Bera (JB):  </th> <td> 118.037</td>\n",
       "</tr>\n",
       "<tr>\n",
       "  <th>Skew:</th>          <td> 0.962</td> <th>  Prob(JB):          </th> <td>2.34e-26</td>\n",
       "</tr>\n",
       "<tr>\n",
       "  <th>Kurtosis:</th>      <td> 3.125</td> <th>  Cond. No.          </th> <td>    1.00</td>\n",
       "</tr>\n",
       "</table><br/><br/>Notes:<br/>[1] R² is computed without centering (uncentered) since the model does not contain a constant.<br/>[2] Standard Errors assume that the covariance matrix of the errors is correctly specified."
      ],
      "text/plain": [
       "<class 'statsmodels.iolib.summary.Summary'>\n",
       "\"\"\"\n",
       "                                 OLS Regression Results                                \n",
       "=======================================================================================\n",
       "Dep. Variable:          FantasyPoints   R-squared (uncentered):                   0.524\n",
       "Model:                            OLS   Adj. R-squared (uncentered):              0.523\n",
       "Method:                 Least Squares   F-statistic:                              836.2\n",
       "Date:                Wed, 17 Feb 2021   Prob (F-statistic):                   1.23e-124\n",
       "Time:                        21:22:49   Log-Likelihood:                         -4450.8\n",
       "No. Observations:                 762   AIC:                                      8904.\n",
       "Df Residuals:                     761   BIC:                                      8908.\n",
       "Df Model:                           1                                                  \n",
       "Covariance Type:            nonrobust                                                  \n",
       "==============================================================================\n",
       "                 coef    std err          t      P>|t|      [0.025      0.975]\n",
       "------------------------------------------------------------------------------\n",
       "Age            3.4436      0.119     28.917      0.000       3.210       3.677\n",
       "==============================================================================\n",
       "Omnibus:                       87.891   Durbin-Watson:                   0.023\n",
       "Prob(Omnibus):                  0.000   Jarque-Bera (JB):              118.037\n",
       "Skew:                           0.962   Prob(JB):                     2.34e-26\n",
       "Kurtosis:                       3.125   Cond. No.                         1.00\n",
       "==============================================================================\n",
       "\n",
       "Notes:\n",
       "[1] R² is computed without centering (uncentered) since the model does not contain a constant.\n",
       "[2] Standard Errors assume that the covariance matrix of the errors is correctly specified.\n",
       "\"\"\""
      ]
     },
     "execution_count": 20,
     "metadata": {},
     "output_type": "execute_result"
    }
   ],
   "source": [
    "x = wr_data[\"Age\"]\n",
    "y = wr_data[\"FantasyPoints\"]\n",
    "model = sm.OLS(y, x, missing='drop')\n",
    "results = model.fit()\n",
    "results.summary()"
   ]
  },
  {
   "cell_type": "code",
   "execution_count": 21,
   "metadata": {},
   "outputs": [
    {
     "data": {
      "text/html": [
       "<table class=\"simpletable\">\n",
       "<caption>OLS Regression Results</caption>\n",
       "<tr>\n",
       "  <th>Dep. Variable:</th>      <td>FantasyPoints</td>  <th>  R-squared (uncentered):</th>      <td>   0.511</td> \n",
       "</tr>\n",
       "<tr>\n",
       "  <th>Model:</th>                   <td>OLS</td>       <th>  Adj. R-squared (uncentered):</th> <td>   0.510</td> \n",
       "</tr>\n",
       "<tr>\n",
       "  <th>Method:</th>             <td>Least Squares</td>  <th>  F-statistic:       </th>          <td>   794.5</td> \n",
       "</tr>\n",
       "<tr>\n",
       "  <th>Date:</th>             <td>Wed, 17 Feb 2021</td> <th>  Prob (F-statistic):</th>          <td>2.92e-120</td>\n",
       "</tr>\n",
       "<tr>\n",
       "  <th>Time:</th>                 <td>21:22:49</td>     <th>  Log-Likelihood:    </th>          <td> -4460.8</td> \n",
       "</tr>\n",
       "<tr>\n",
       "  <th>No. Observations:</th>      <td>   762</td>      <th>  AIC:               </th>          <td>   8924.</td> \n",
       "</tr>\n",
       "<tr>\n",
       "  <th>Df Residuals:</th>          <td>   761</td>      <th>  BIC:               </th>          <td>   8928.</td> \n",
       "</tr>\n",
       "<tr>\n",
       "  <th>Df Model:</th>              <td>     1</td>      <th>                     </th>              <td> </td>    \n",
       "</tr>\n",
       "<tr>\n",
       "  <th>Covariance Type:</th>      <td>nonrobust</td>    <th>                     </th>              <td> </td>    \n",
       "</tr>\n",
       "</table>\n",
       "<table class=\"simpletable\">\n",
       "<tr>\n",
       "     <td></td>       <th>coef</th>     <th>std err</th>      <th>t</th>      <th>P>|t|</th>  <th>[0.025</th>    <th>0.975]</th>  \n",
       "</tr>\n",
       "<tr>\n",
       "  <th>Weight</th> <td>    0.4289</td> <td>    0.015</td> <td>   28.187</td> <td> 0.000</td> <td>    0.399</td> <td>    0.459</td>\n",
       "</tr>\n",
       "</table>\n",
       "<table class=\"simpletable\">\n",
       "<tr>\n",
       "  <th>Omnibus:</th>       <td>83.948</td> <th>  Durbin-Watson:     </th> <td>   0.012</td>\n",
       "</tr>\n",
       "<tr>\n",
       "  <th>Prob(Omnibus):</th> <td> 0.000</td> <th>  Jarque-Bera (JB):  </th> <td> 111.657</td>\n",
       "</tr>\n",
       "<tr>\n",
       "  <th>Skew:</th>          <td> 0.938</td> <th>  Prob(JB):          </th> <td>5.67e-25</td>\n",
       "</tr>\n",
       "<tr>\n",
       "  <th>Kurtosis:</th>      <td> 3.031</td> <th>  Cond. No.          </th> <td>    1.00</td>\n",
       "</tr>\n",
       "</table><br/><br/>Notes:<br/>[1] R² is computed without centering (uncentered) since the model does not contain a constant.<br/>[2] Standard Errors assume that the covariance matrix of the errors is correctly specified."
      ],
      "text/plain": [
       "<class 'statsmodels.iolib.summary.Summary'>\n",
       "\"\"\"\n",
       "                                 OLS Regression Results                                \n",
       "=======================================================================================\n",
       "Dep. Variable:          FantasyPoints   R-squared (uncentered):                   0.511\n",
       "Model:                            OLS   Adj. R-squared (uncentered):              0.510\n",
       "Method:                 Least Squares   F-statistic:                              794.5\n",
       "Date:                Wed, 17 Feb 2021   Prob (F-statistic):                   2.92e-120\n",
       "Time:                        21:22:49   Log-Likelihood:                         -4460.8\n",
       "No. Observations:                 762   AIC:                                      8924.\n",
       "Df Residuals:                     761   BIC:                                      8928.\n",
       "Df Model:                           1                                                  \n",
       "Covariance Type:            nonrobust                                                  \n",
       "==============================================================================\n",
       "                 coef    std err          t      P>|t|      [0.025      0.975]\n",
       "------------------------------------------------------------------------------\n",
       "Weight         0.4289      0.015     28.187      0.000       0.399       0.459\n",
       "==============================================================================\n",
       "Omnibus:                       83.948   Durbin-Watson:                   0.012\n",
       "Prob(Omnibus):                  0.000   Jarque-Bera (JB):              111.657\n",
       "Skew:                           0.938   Prob(JB):                     5.67e-25\n",
       "Kurtosis:                       3.031   Cond. No.                         1.00\n",
       "==============================================================================\n",
       "\n",
       "Notes:\n",
       "[1] R² is computed without centering (uncentered) since the model does not contain a constant.\n",
       "[2] Standard Errors assume that the covariance matrix of the errors is correctly specified.\n",
       "\"\"\""
      ]
     },
     "execution_count": 21,
     "metadata": {},
     "output_type": "execute_result"
    }
   ],
   "source": [
    "x = wr_data[\"Weight\"]\n",
    "y = wr_data[\"FantasyPoints\"]\n",
    "model = sm.OLS(y, x, missing='drop')\n",
    "results = model.fit()\n",
    "results.summary()"
   ]
  },
  {
   "cell_type": "code",
   "execution_count": 22,
   "metadata": {},
   "outputs": [
    {
     "data": {
      "text/html": [
       "<table class=\"simpletable\">\n",
       "<caption>OLS Regression Results</caption>\n",
       "<tr>\n",
       "  <th>Dep. Variable:</th>      <td>FantasyPoints</td>  <th>  R-squared (uncentered):</th>      <td>   0.508</td> \n",
       "</tr>\n",
       "<tr>\n",
       "  <th>Model:</th>                   <td>OLS</td>       <th>  Adj. R-squared (uncentered):</th> <td>   0.508</td> \n",
       "</tr>\n",
       "<tr>\n",
       "  <th>Method:</th>             <td>Least Squares</td>  <th>  F-statistic:       </th>          <td>   786.3</td> \n",
       "</tr>\n",
       "<tr>\n",
       "  <th>Date:</th>             <td>Wed, 17 Feb 2021</td> <th>  Prob (F-statistic):</th>          <td>2.18e-119</td>\n",
       "</tr>\n",
       "<tr>\n",
       "  <th>Time:</th>                 <td>21:22:49</td>     <th>  Log-Likelihood:    </th>          <td> -4462.8</td> \n",
       "</tr>\n",
       "<tr>\n",
       "  <th>No. Observations:</th>      <td>   762</td>      <th>  AIC:               </th>          <td>   8928.</td> \n",
       "</tr>\n",
       "<tr>\n",
       "  <th>Df Residuals:</th>          <td>   761</td>      <th>  BIC:               </th>          <td>   8932.</td> \n",
       "</tr>\n",
       "<tr>\n",
       "  <th>Df Model:</th>              <td>     1</td>      <th>                     </th>              <td> </td>    \n",
       "</tr>\n",
       "<tr>\n",
       "  <th>Covariance Type:</th>      <td>nonrobust</td>    <th>                     </th>              <td> </td>    \n",
       "</tr>\n",
       "</table>\n",
       "<table class=\"simpletable\">\n",
       "<tr>\n",
       "        <td></td>          <th>coef</th>     <th>std err</th>      <th>t</th>      <th>P>|t|</th>  <th>[0.025</th>    <th>0.975]</th>  \n",
       "</tr>\n",
       "<tr>\n",
       "  <th>Height_Total</th> <td>    1.1838</td> <td>    0.042</td> <td>   28.041</td> <td> 0.000</td> <td>    1.101</td> <td>    1.267</td>\n",
       "</tr>\n",
       "</table>\n",
       "<table class=\"simpletable\">\n",
       "<tr>\n",
       "  <th>Omnibus:</th>       <td>86.546</td> <th>  Durbin-Watson:     </th> <td>   0.002</td>\n",
       "</tr>\n",
       "<tr>\n",
       "  <th>Prob(Omnibus):</th> <td> 0.000</td> <th>  Jarque-Bera (JB):  </th> <td> 116.021</td>\n",
       "</tr>\n",
       "<tr>\n",
       "  <th>Skew:</th>          <td> 0.955</td> <th>  Prob(JB):          </th> <td>6.40e-26</td>\n",
       "</tr>\n",
       "<tr>\n",
       "  <th>Kurtosis:</th>      <td> 3.065</td> <th>  Cond. No.          </th> <td>    1.00</td>\n",
       "</tr>\n",
       "</table><br/><br/>Notes:<br/>[1] R² is computed without centering (uncentered) since the model does not contain a constant.<br/>[2] Standard Errors assume that the covariance matrix of the errors is correctly specified."
      ],
      "text/plain": [
       "<class 'statsmodels.iolib.summary.Summary'>\n",
       "\"\"\"\n",
       "                                 OLS Regression Results                                \n",
       "=======================================================================================\n",
       "Dep. Variable:          FantasyPoints   R-squared (uncentered):                   0.508\n",
       "Model:                            OLS   Adj. R-squared (uncentered):              0.508\n",
       "Method:                 Least Squares   F-statistic:                              786.3\n",
       "Date:                Wed, 17 Feb 2021   Prob (F-statistic):                   2.18e-119\n",
       "Time:                        21:22:49   Log-Likelihood:                         -4462.8\n",
       "No. Observations:                 762   AIC:                                      8928.\n",
       "Df Residuals:                     761   BIC:                                      8932.\n",
       "Df Model:                           1                                                  \n",
       "Covariance Type:            nonrobust                                                  \n",
       "================================================================================\n",
       "                   coef    std err          t      P>|t|      [0.025      0.975]\n",
       "--------------------------------------------------------------------------------\n",
       "Height_Total     1.1838      0.042     28.041      0.000       1.101       1.267\n",
       "==============================================================================\n",
       "Omnibus:                       86.546   Durbin-Watson:                   0.002\n",
       "Prob(Omnibus):                  0.000   Jarque-Bera (JB):              116.021\n",
       "Skew:                           0.955   Prob(JB):                     6.40e-26\n",
       "Kurtosis:                       3.065   Cond. No.                         1.00\n",
       "==============================================================================\n",
       "\n",
       "Notes:\n",
       "[1] R² is computed without centering (uncentered) since the model does not contain a constant.\n",
       "[2] Standard Errors assume that the covariance matrix of the errors is correctly specified.\n",
       "\"\"\""
      ]
     },
     "execution_count": 22,
     "metadata": {},
     "output_type": "execute_result"
    }
   ],
   "source": [
    "x = wr_data[\"Height_Total\"]\n",
    "y = wr_data[\"FantasyPoints\"]\n",
    "model = sm.OLS(y, x, missing='drop')\n",
    "results = model.fit()\n",
    "results.summary()"
   ]
  },
  {
   "cell_type": "code",
   "execution_count": 23,
   "metadata": {},
   "outputs": [],
   "source": [
    "te_data = sorted_df.loc[sorted_df[\"Position\"] == \"TE\"]"
   ]
  },
  {
   "cell_type": "code",
   "execution_count": 24,
   "metadata": {},
   "outputs": [
    {
     "data": {
      "text/html": [
       "<table class=\"simpletable\">\n",
       "<caption>OLS Regression Results</caption>\n",
       "<tr>\n",
       "  <th>Dep. Variable:</th>      <td>FantasyPoints</td>  <th>  R-squared (uncentered):</th>      <td>   0.444</td>\n",
       "</tr>\n",
       "<tr>\n",
       "  <th>Model:</th>                   <td>OLS</td>       <th>  Adj. R-squared (uncentered):</th> <td>   0.443</td>\n",
       "</tr>\n",
       "<tr>\n",
       "  <th>Method:</th>             <td>Least Squares</td>  <th>  F-statistic:       </th>          <td>   387.6</td>\n",
       "</tr>\n",
       "<tr>\n",
       "  <th>Date:</th>             <td>Wed, 17 Feb 2021</td> <th>  Prob (F-statistic):</th>          <td>7.47e-64</td>\n",
       "</tr>\n",
       "<tr>\n",
       "  <th>Time:</th>                 <td>21:22:49</td>     <th>  Log-Likelihood:    </th>          <td> -2693.2</td>\n",
       "</tr>\n",
       "<tr>\n",
       "  <th>No. Observations:</th>      <td>   486</td>      <th>  AIC:               </th>          <td>   5388.</td>\n",
       "</tr>\n",
       "<tr>\n",
       "  <th>Df Residuals:</th>          <td>   485</td>      <th>  BIC:               </th>          <td>   5393.</td>\n",
       "</tr>\n",
       "<tr>\n",
       "  <th>Df Model:</th>              <td>     1</td>      <th>                     </th>              <td> </td>   \n",
       "</tr>\n",
       "<tr>\n",
       "  <th>Covariance Type:</th>      <td>nonrobust</td>    <th>                     </th>              <td> </td>   \n",
       "</tr>\n",
       "</table>\n",
       "<table class=\"simpletable\">\n",
       "<tr>\n",
       "   <td></td>      <th>coef</th>     <th>std err</th>      <th>t</th>      <th>P>|t|</th>  <th>[0.025</th>    <th>0.975]</th>  \n",
       "</tr>\n",
       "<tr>\n",
       "  <th>Age</th> <td>    2.1183</td> <td>    0.108</td> <td>   19.689</td> <td> 0.000</td> <td>    1.907</td> <td>    2.330</td>\n",
       "</tr>\n",
       "</table>\n",
       "<table class=\"simpletable\">\n",
       "<tr>\n",
       "  <th>Omnibus:</th>       <td>169.975</td> <th>  Durbin-Watson:     </th> <td>   0.027</td> \n",
       "</tr>\n",
       "<tr>\n",
       "  <th>Prob(Omnibus):</th> <td> 0.000</td>  <th>  Jarque-Bera (JB):  </th> <td> 469.877</td> \n",
       "</tr>\n",
       "<tr>\n",
       "  <th>Skew:</th>          <td> 1.724</td>  <th>  Prob(JB):          </th> <td>9.28e-103</td>\n",
       "</tr>\n",
       "<tr>\n",
       "  <th>Kurtosis:</th>      <td> 6.363</td>  <th>  Cond. No.          </th> <td>    1.00</td> \n",
       "</tr>\n",
       "</table><br/><br/>Notes:<br/>[1] R² is computed without centering (uncentered) since the model does not contain a constant.<br/>[2] Standard Errors assume that the covariance matrix of the errors is correctly specified."
      ],
      "text/plain": [
       "<class 'statsmodels.iolib.summary.Summary'>\n",
       "\"\"\"\n",
       "                                 OLS Regression Results                                \n",
       "=======================================================================================\n",
       "Dep. Variable:          FantasyPoints   R-squared (uncentered):                   0.444\n",
       "Model:                            OLS   Adj. R-squared (uncentered):              0.443\n",
       "Method:                 Least Squares   F-statistic:                              387.6\n",
       "Date:                Wed, 17 Feb 2021   Prob (F-statistic):                    7.47e-64\n",
       "Time:                        21:22:49   Log-Likelihood:                         -2693.2\n",
       "No. Observations:                 486   AIC:                                      5388.\n",
       "Df Residuals:                     485   BIC:                                      5393.\n",
       "Df Model:                           1                                                  \n",
       "Covariance Type:            nonrobust                                                  \n",
       "==============================================================================\n",
       "                 coef    std err          t      P>|t|      [0.025      0.975]\n",
       "------------------------------------------------------------------------------\n",
       "Age            2.1183      0.108     19.689      0.000       1.907       2.330\n",
       "==============================================================================\n",
       "Omnibus:                      169.975   Durbin-Watson:                   0.027\n",
       "Prob(Omnibus):                  0.000   Jarque-Bera (JB):              469.877\n",
       "Skew:                           1.724   Prob(JB):                    9.28e-103\n",
       "Kurtosis:                       6.363   Cond. No.                         1.00\n",
       "==============================================================================\n",
       "\n",
       "Notes:\n",
       "[1] R² is computed without centering (uncentered) since the model does not contain a constant.\n",
       "[2] Standard Errors assume that the covariance matrix of the errors is correctly specified.\n",
       "\"\"\""
      ]
     },
     "execution_count": 24,
     "metadata": {},
     "output_type": "execute_result"
    }
   ],
   "source": [
    "x = te_data[\"Age\"]\n",
    "y = te_data[\"FantasyPoints\"]\n",
    "model = sm.OLS(y, x, missing='drop')\n",
    "results = model.fit()\n",
    "results.summary()"
   ]
  },
  {
   "cell_type": "code",
   "execution_count": 25,
   "metadata": {},
   "outputs": [
    {
     "data": {
      "text/html": [
       "<table class=\"simpletable\">\n",
       "<caption>OLS Regression Results</caption>\n",
       "<tr>\n",
       "  <th>Dep. Variable:</th>      <td>FantasyPoints</td>  <th>  R-squared (uncentered):</th>      <td>   0.424</td>\n",
       "</tr>\n",
       "<tr>\n",
       "  <th>Model:</th>                   <td>OLS</td>       <th>  Adj. R-squared (uncentered):</th> <td>   0.423</td>\n",
       "</tr>\n",
       "<tr>\n",
       "  <th>Method:</th>             <td>Least Squares</td>  <th>  F-statistic:       </th>          <td>   356.6</td>\n",
       "</tr>\n",
       "<tr>\n",
       "  <th>Date:</th>             <td>Wed, 17 Feb 2021</td> <th>  Prob (F-statistic):</th>          <td>4.95e-60</td>\n",
       "</tr>\n",
       "<tr>\n",
       "  <th>Time:</th>                 <td>21:22:49</td>     <th>  Log-Likelihood:    </th>          <td> -2702.0</td>\n",
       "</tr>\n",
       "<tr>\n",
       "  <th>No. Observations:</th>      <td>   486</td>      <th>  AIC:               </th>          <td>   5406.</td>\n",
       "</tr>\n",
       "<tr>\n",
       "  <th>Df Residuals:</th>          <td>   485</td>      <th>  BIC:               </th>          <td>   5410.</td>\n",
       "</tr>\n",
       "<tr>\n",
       "  <th>Df Model:</th>              <td>     1</td>      <th>                     </th>              <td> </td>   \n",
       "</tr>\n",
       "<tr>\n",
       "  <th>Covariance Type:</th>      <td>nonrobust</td>    <th>                     </th>              <td> </td>   \n",
       "</tr>\n",
       "</table>\n",
       "<table class=\"simpletable\">\n",
       "<tr>\n",
       "     <td></td>       <th>coef</th>     <th>std err</th>      <th>t</th>      <th>P>|t|</th>  <th>[0.025</th>    <th>0.975]</th>  \n",
       "</tr>\n",
       "<tr>\n",
       "  <th>Weight</th> <td>    0.2137</td> <td>    0.011</td> <td>   18.885</td> <td> 0.000</td> <td>    0.191</td> <td>    0.236</td>\n",
       "</tr>\n",
       "</table>\n",
       "<table class=\"simpletable\">\n",
       "<tr>\n",
       "  <th>Omnibus:</th>       <td>168.578</td> <th>  Durbin-Watson:     </th> <td>   0.010</td> \n",
       "</tr>\n",
       "<tr>\n",
       "  <th>Prob(Omnibus):</th> <td> 0.000</td>  <th>  Jarque-Bera (JB):  </th> <td> 459.651</td> \n",
       "</tr>\n",
       "<tr>\n",
       "  <th>Skew:</th>          <td> 1.717</td>  <th>  Prob(JB):          </th> <td>1.54e-100</td>\n",
       "</tr>\n",
       "<tr>\n",
       "  <th>Kurtosis:</th>      <td> 6.303</td>  <th>  Cond. No.          </th> <td>    1.00</td> \n",
       "</tr>\n",
       "</table><br/><br/>Notes:<br/>[1] R² is computed without centering (uncentered) since the model does not contain a constant.<br/>[2] Standard Errors assume that the covariance matrix of the errors is correctly specified."
      ],
      "text/plain": [
       "<class 'statsmodels.iolib.summary.Summary'>\n",
       "\"\"\"\n",
       "                                 OLS Regression Results                                \n",
       "=======================================================================================\n",
       "Dep. Variable:          FantasyPoints   R-squared (uncentered):                   0.424\n",
       "Model:                            OLS   Adj. R-squared (uncentered):              0.423\n",
       "Method:                 Least Squares   F-statistic:                              356.6\n",
       "Date:                Wed, 17 Feb 2021   Prob (F-statistic):                    4.95e-60\n",
       "Time:                        21:22:49   Log-Likelihood:                         -2702.0\n",
       "No. Observations:                 486   AIC:                                      5406.\n",
       "Df Residuals:                     485   BIC:                                      5410.\n",
       "Df Model:                           1                                                  \n",
       "Covariance Type:            nonrobust                                                  \n",
       "==============================================================================\n",
       "                 coef    std err          t      P>|t|      [0.025      0.975]\n",
       "------------------------------------------------------------------------------\n",
       "Weight         0.2137      0.011     18.885      0.000       0.191       0.236\n",
       "==============================================================================\n",
       "Omnibus:                      168.578   Durbin-Watson:                   0.010\n",
       "Prob(Omnibus):                  0.000   Jarque-Bera (JB):              459.651\n",
       "Skew:                           1.717   Prob(JB):                    1.54e-100\n",
       "Kurtosis:                       6.303   Cond. No.                         1.00\n",
       "==============================================================================\n",
       "\n",
       "Notes:\n",
       "[1] R² is computed without centering (uncentered) since the model does not contain a constant.\n",
       "[2] Standard Errors assume that the covariance matrix of the errors is correctly specified.\n",
       "\"\"\""
      ]
     },
     "execution_count": 25,
     "metadata": {},
     "output_type": "execute_result"
    }
   ],
   "source": [
    "x = te_data[\"Weight\"]\n",
    "y = te_data[\"FantasyPoints\"]\n",
    "model = sm.OLS(y, x, missing='drop')\n",
    "results = model.fit()\n",
    "results.summary()"
   ]
  },
  {
   "cell_type": "code",
   "execution_count": 26,
   "metadata": {},
   "outputs": [
    {
     "data": {
      "text/html": [
       "<table class=\"simpletable\">\n",
       "<caption>OLS Regression Results</caption>\n",
       "<tr>\n",
       "  <th>Dep. Variable:</th>      <td>FantasyPoints</td>  <th>  R-squared (uncentered):</th>      <td>   0.423</td>\n",
       "</tr>\n",
       "<tr>\n",
       "  <th>Model:</th>                   <td>OLS</td>       <th>  Adj. R-squared (uncentered):</th> <td>   0.422</td>\n",
       "</tr>\n",
       "<tr>\n",
       "  <th>Method:</th>             <td>Least Squares</td>  <th>  F-statistic:       </th>          <td>   355.9</td>\n",
       "</tr>\n",
       "<tr>\n",
       "  <th>Date:</th>             <td>Wed, 17 Feb 2021</td> <th>  Prob (F-statistic):</th>          <td>6.06e-60</td>\n",
       "</tr>\n",
       "<tr>\n",
       "  <th>Time:</th>                 <td>21:22:49</td>     <th>  Log-Likelihood:    </th>          <td> -2702.2</td>\n",
       "</tr>\n",
       "<tr>\n",
       "  <th>No. Observations:</th>      <td>   486</td>      <th>  AIC:               </th>          <td>   5406.</td>\n",
       "</tr>\n",
       "<tr>\n",
       "  <th>Df Residuals:</th>          <td>   485</td>      <th>  BIC:               </th>          <td>   5411.</td>\n",
       "</tr>\n",
       "<tr>\n",
       "  <th>Df Model:</th>              <td>     1</td>      <th>                     </th>              <td> </td>   \n",
       "</tr>\n",
       "<tr>\n",
       "  <th>Covariance Type:</th>      <td>nonrobust</td>    <th>                     </th>              <td> </td>   \n",
       "</tr>\n",
       "</table>\n",
       "<table class=\"simpletable\">\n",
       "<tr>\n",
       "        <td></td>          <th>coef</th>     <th>std err</th>      <th>t</th>      <th>P>|t|</th>  <th>[0.025</th>    <th>0.975]</th>  \n",
       "</tr>\n",
       "<tr>\n",
       "  <th>Height_Total</th> <td>    0.7035</td> <td>    0.037</td> <td>   18.866</td> <td> 0.000</td> <td>    0.630</td> <td>    0.777</td>\n",
       "</tr>\n",
       "</table>\n",
       "<table class=\"simpletable\">\n",
       "<tr>\n",
       "  <th>Omnibus:</th>       <td>167.567</td> <th>  Durbin-Watson:     </th> <td>   0.008</td>\n",
       "</tr>\n",
       "<tr>\n",
       "  <th>Prob(Omnibus):</th> <td> 0.000</td>  <th>  Jarque-Bera (JB):  </th> <td> 450.978</td>\n",
       "</tr>\n",
       "<tr>\n",
       "  <th>Skew:</th>          <td> 1.713</td>  <th>  Prob(JB):          </th> <td>1.18e-98</td>\n",
       "</tr>\n",
       "<tr>\n",
       "  <th>Kurtosis:</th>      <td> 6.245</td>  <th>  Cond. No.          </th> <td>    1.00</td>\n",
       "</tr>\n",
       "</table><br/><br/>Notes:<br/>[1] R² is computed without centering (uncentered) since the model does not contain a constant.<br/>[2] Standard Errors assume that the covariance matrix of the errors is correctly specified."
      ],
      "text/plain": [
       "<class 'statsmodels.iolib.summary.Summary'>\n",
       "\"\"\"\n",
       "                                 OLS Regression Results                                \n",
       "=======================================================================================\n",
       "Dep. Variable:          FantasyPoints   R-squared (uncentered):                   0.423\n",
       "Model:                            OLS   Adj. R-squared (uncentered):              0.422\n",
       "Method:                 Least Squares   F-statistic:                              355.9\n",
       "Date:                Wed, 17 Feb 2021   Prob (F-statistic):                    6.06e-60\n",
       "Time:                        21:22:49   Log-Likelihood:                         -2702.2\n",
       "No. Observations:                 486   AIC:                                      5406.\n",
       "Df Residuals:                     485   BIC:                                      5411.\n",
       "Df Model:                           1                                                  \n",
       "Covariance Type:            nonrobust                                                  \n",
       "================================================================================\n",
       "                   coef    std err          t      P>|t|      [0.025      0.975]\n",
       "--------------------------------------------------------------------------------\n",
       "Height_Total     0.7035      0.037     18.866      0.000       0.630       0.777\n",
       "==============================================================================\n",
       "Omnibus:                      167.567   Durbin-Watson:                   0.008\n",
       "Prob(Omnibus):                  0.000   Jarque-Bera (JB):              450.978\n",
       "Skew:                           1.713   Prob(JB):                     1.18e-98\n",
       "Kurtosis:                       6.245   Cond. No.                         1.00\n",
       "==============================================================================\n",
       "\n",
       "Notes:\n",
       "[1] R² is computed without centering (uncentered) since the model does not contain a constant.\n",
       "[2] Standard Errors assume that the covariance matrix of the errors is correctly specified.\n",
       "\"\"\""
      ]
     },
     "execution_count": 26,
     "metadata": {},
     "output_type": "execute_result"
    }
   ],
   "source": [
    "x = te_data[\"Height_Total\"]\n",
    "y = te_data[\"FantasyPoints\"]\n",
    "model = sm.OLS(y, x, missing='drop')\n",
    "results = model.fit()\n",
    "results.summary()"
   ]
  },
  {
   "cell_type": "code",
   "execution_count": 27,
   "metadata": {},
   "outputs": [],
   "source": [
    "top60 = sorted_df.head(60)\n",
    "corr_df = top60[[\"Position\", \"Age\", \"Weight\", \"Height_Total\", \"FantasyPoints\"]]"
   ]
  },
  {
   "cell_type": "code",
   "execution_count": 28,
   "metadata": {},
   "outputs": [
    {
     "data": {
      "image/png": "[encoded data removed]",
      "text/plain": [
       "<Figure size 432x288 with 2 Axes>"
      ]
     },
     "metadata": {
      "needs_background": "light"
     },
     "output_type": "display_data"
    }
   ],
   "source": [
    "corrMatrix = sorted_df[[\"Age\", \"Weight\", \"Height_Total\", \"FantasyPoints\"]].loc[sorted_df[\"Position\"] == \"WR\"].corr()\n",
    "sn.heatmap(corrMatrix, annot=True).set_title(\"Demographics vs Total Fantasy Points\")\n",
    "plt.show()"
   ]
  },
  {
   "cell_type": "code",
   "execution_count": 29,
   "metadata": {},
   "outputs": [
    {
     "data": {
      "image/png": "[encoded data removed]",
      "text/plain": [
       "<Figure size 432x288 with 2 Axes>"
      ]
     },
     "metadata": {
      "needs_background": "light"
     },
     "output_type": "display_data"
    }
   ],
   "source": [
    "corrMatrix = top60[[\"Age\", \"Weight\", \"Height_Total\", \"FantasyPoints\"]].loc[sorted_df[\"Position\"] == \"QB\"].corr()\n",
    "sn.heatmap(corrMatrix, annot=True).set_title(\"Top 60 Demographics vs Total Fantasy Points\")\n",
    "plt.show()"
   ]
  },
  {
   "cell_type": "code",
   "execution_count": 30,
   "metadata": {},
   "outputs": [
    {
     "data": {
      "text/plain": [
       "<matplotlib.legend.Legend at 0x7fa0502daa00>"
      ]
     },
     "execution_count": 30,
     "metadata": {},
     "output_type": "execute_result"
    },
    {
     "data": {
      "image/png": "[encoded data removed]",
      "text/plain": [
       "<Figure size 360x360 with 1 Axes>"
      ]
     },
     "metadata": {
      "needs_background": "light"
     },
     "output_type": "display_data"
    }
   ],
   "source": [
    "qb_heights = qb_data[\"Height_Total\"]\n",
    "rb_heights = rb_data[\"Height_Total\"]\n",
    "wr_heights = wr_data[\"Height_Total\"]\n",
    "te_heights = te_data[\"Height_Total\"]\n",
    "\n",
    "plt.figure(figsize=(5,5))\n",
    "plt.title(\"Height vs Total Fantasy Points\")\n",
    "plt.xlabel(\"Height (in)\")\n",
    "plt.ylabel(\"Total Fantasy Points\")\n",
    "plt.hist(qb_heights, density=True, alpha = 0.5, color=\"green\", label=\"QBs\")\n",
    "plt.hist(rb_heights, density=True, alpha = 0.5,  color=\"purple\", label=\"RBs\")\n",
    "plt.hist(wr_heights, density=True, alpha = 0.5, color=\"red\", label=\"WRs\")\n",
    "plt.hist(te_heights, density=True, alpha = 0.5, color=\"gold\", label=\"TEs\")\n",
    "plt.legend()"
   ]
  },
  {
   "cell_type": "code",
   "execution_count": 31,
   "metadata": {},
   "outputs": [
    {
     "data": {
      "image/png": "[encoded data removed]",
      "text/plain": [
       "<Figure size 432x288 with 1 Axes>"
      ]
     },
     "metadata": {
      "needs_background": "light"
     },
     "output_type": "display_data"
    }
   ],
   "source": [
    "x = range(150,350)\n",
    "y = range(0,400)\n",
    "fig = plt.figure()\n",
    "ax1 = fig.add_subplot(111)\n",
    "\n",
    "ax1.scatter(qb_data[\"Weight\"], qb_data[\"FantasyPoints\"], c = \"green\", marker=\"s\", label=\"QB\")\n",
    "ax1.scatter(rb_data[\"Weight\"],rb_data[\"FantasyPoints\"], c = \"purple\", marker=\"o\", label=\"RB\")\n",
    "ax1.scatter(wr_data[\"Weight\"], wr_data[\"FantasyPoints\"], c = \"red\", marker=\"d\", label=\"WR\")\n",
    "ax1.scatter(te_data[\"Weight\"],te_data[\"FantasyPoints\"], c = \"gold\", marker=\"s\", label=\"TE\")\n",
    "\n",
    "plt.legend(loc='upper left');\n",
    "plt.title(\"Weight vs Total Fantasy Points\")\n",
    "plt.xlabel(\"Weight (lbs)\")\n",
    "plt.ylabel(\"Total Fantasy Points\")\n",
    "plt.show()"
   ]
  },
  {
   "cell_type": "code",
   "execution_count": 32,
   "metadata": {},
   "outputs": [],
   "source": [
    "qb_age = qb_data[\"Age\"]\n",
    "rb_age = rb_data[\"Age\"]\n",
    "wr_age = wr_data[\"Age\"]\n",
    "te_age = te_data[\"Age\"]"
   ]
  },
  {
   "cell_type": "code",
   "execution_count": 33,
   "metadata": {},
   "outputs": [
    {
     "data": {
      "image/png": "[encoded data removed]",
      "text/plain": [
       "<Figure size 432x288 with 1 Axes>"
      ]
     },
     "metadata": {
      "needs_background": "light"
     },
     "output_type": "display_data"
    }
   ],
   "source": [
    "green_diamond = dict(markerfacecolor='g', marker='D')\n",
    "plots = [qb_age, rb_age, wr_age, te_age]\n",
    "labels = [\"QB\", \"RB\", \"WR\", \"TE\"]\n",
    "fig1, ax1 = plt.subplots()\n",
    "ax1.set_title(\"Age vs Football Position\")\n",
    "ax1.set_ylabel(\"Age\")\n",
    "ax1.set_xlabel(\"Position\")\n",
    "ax1.boxplot(plots, labels=labels, flierprops=green_diamond)\n",
    "plt.show()\n",
    "                                                                             "
   ]
  },
  {
   "cell_type": "code",
   "execution_count": 34,
   "metadata": {},
   "outputs": [],
   "source": [
    "qb_group = top60.loc[top60[\"Position\"] == \"QB\"]\n",
    "rb_group = top60.loc[top60[\"Position\"] == \"RB\"]\n",
    "wr_group = top60.loc[top60[\"Position\"] == \"WR\"]\n",
    "te_group = top60.loc[top60[\"Position\"] == \"TE\"]"
   ]
  },
  {
   "cell_type": "code",
   "execution_count": 35,
   "metadata": {},
   "outputs": [],
   "source": [
    "qb_age_group = qb_group[\"Age\"]\n",
    "rb_age_group = rb_group[\"Age\"]\n",
    "wr_age_group = wr_group[\"Age\"]\n",
    "te_age_group = te_group[\"Age\"]"
   ]
  },
  {
   "cell_type": "code",
   "execution_count": 36,
   "metadata": {},
   "outputs": [
    {
     "data": {
      "image/png": "[encoded data removed]",
      "text/plain": [
       "<Figure size 432x288 with 1 Axes>"
      ]
     },
     "metadata": {
      "needs_background": "light"
     },
     "output_type": "display_data"
    }
   ],
   "source": [
    "green_diamond = dict(markerfacecolor='g', marker='D')\n",
    "plots = [qb_age_group, rb_age_group, wr_age_group, te_age_group]\n",
    "labels = [\"QB\", \"RB\", \"WR\", \"TE\"]\n",
    "fig1, ax1 = plt.subplots()\n",
    "ax1.set_title(\"Top 60 Age vs Football Position\")\n",
    "ax1.set_ylabel(\"Age\")\n",
    "ax1.set_xlabel(\"Position\")\n",
    "ax1.boxplot(plots, labels=labels, flierprops=green_diamond)\n",
    "plt.show()"
   ]
  },
  {
   "cell_type": "code",
   "execution_count": 37,
   "metadata": {},
   "outputs": [],
   "source": [
    "bins = [0,5,10,15,20,25]\n",
    "group_names = ['0-5 yrs', '5-10 yrs', '10-15 yrs', '15-20 yrs', '20-25 yrs']\n",
    "merged_df[\"Exper_Bins\"] = pd.cut(merged_df[\"Experience\"], bins, labels=group_names, include_lowest=True)"
   ]
  },
  {
   "cell_type": "code",
   "execution_count": 38,
   "metadata": {},
   "outputs": [],
   "source": [
    "qb_data = merged_df.loc[merged_df['Pos']=='QB']\n",
    "rb_data = merged_df.loc[merged_df['Pos']=='RB']\n",
    "wr_data = merged_df.loc[merged_df['Pos']=='WR']\n",
    "te_data = merged_df.loc[merged_df['Pos']=='TE']"
   ]
  },
  {
   "cell_type": "code",
   "execution_count": 39,
   "metadata": {},
   "outputs": [
    {
     "data": {
      "image/png": "[encoded data removed]",
      "text/plain": [
       "<Figure size 432x288 with 2 Axes>"
      ]
     },
     "metadata": {
      "needs_background": "light"
     },
     "output_type": "display_data"
    },
    {
     "data": {
      "image/png": "[encoded data removed]",
      "text/plain": [
       "<Figure size 432x288 with 2 Axes>"
      ]
     },
     "metadata": {
      "needs_background": "light"
     },
     "output_type": "display_data"
    },
    {
     "data": {
      "image/png": "[encoded data removed]",
      "text/plain": [
       "<Figure size 432x288 with 2 Axes>"
      ]
     },
     "metadata": {
      "needs_background": "light"
     },
     "output_type": "display_data"
    },
    {
     "data": {
      "image/png": "[encoded data removed]",
      "text/plain": [
       "<Figure size 432x288 with 2 Axes>"
      ]
     },
     "metadata": {
      "needs_background": "light"
     },
     "output_type": "display_data"
    }
   ],
   "source": [
    "corrMatrix = qb_data[['FantasyPoints', 'Experience', 'ADP']].corr()\n",
    "sn.heatmap(corrMatrix, annot=True).set_title(\"QB\")\n",
    "plt.savefig('./Images/CorrMat_QB.png')\n",
    "plt.show()\n",
    "\n",
    "corrMatrix = rb_data[['FantasyPoints', 'Experience', 'ADP']].corr()\n",
    "sn.heatmap(corrMatrix, annot=True).set_title(\"RB\")\n",
    "plt.savefig('./Images/CorrMat_RB.png')\n",
    "plt.show()\n",
    "\n",
    "corrMatrix = wr_data[['FantasyPoints', 'Experience', 'ADP']].corr()\n",
    "sn.heatmap(corrMatrix, annot=True).set_title(\"WR\")\n",
    "plt.savefig('./Images/CorrMat_WR.png')\n",
    "plt.show()\n",
    "\n",
    "corrMatrix = te_data[['FantasyPoints', 'Experience', 'ADP']].corr()\n",
    "sn.heatmap(corrMatrix, annot=True).set_title(\"TE\")\n",
    "plt.savefig('./Images/CorrMat_TE.png')\n",
    "plt.show()\n"
   ]
  },
  {
   "cell_type": "code",
   "execution_count": 40,
   "metadata": {},
   "outputs": [
    {
     "data": {
      "image/png": "[encoded data removed]",
      "text/plain": [
       "<Figure size 432x288 with 1 Axes>"
      ]
     },
     "metadata": {
      "needs_background": "light"
     },
     "output_type": "display_data"
    },
    {
     "name": "stdout",
     "output_type": "stream",
     "text": [
      "The p value from the ANOVA test comparing Experience to Fantasy Points for the quarter back position is 0.0015238308466153973.\n",
      "This tells us there is not a relationship between Experience and Fantasy Points.\n"
     ]
    },
    {
     "data": {
      "text/html": [
       "<div>\n",
       "<style scoped>\n",
       "    .dataframe tbody tr th:only-of-type {\n",
       "        vertical-align: middle;\n",
       "    }\n",
       "\n",
       "    .dataframe tbody tr th {\n",
       "        vertical-align: top;\n",
       "    }\n",
       "\n",
       "    .dataframe thead th {\n",
       "        text-align: right;\n",
       "    }\n",
       "</style>\n",
       "<table border=\"1\" class=\"dataframe\">\n",
       "  <thead>\n",
       "    <tr style=\"text-align: right;\">\n",
       "      <th></th>\n",
       "      <th>Experience</th>\n",
       "      <th>ADP</th>\n",
       "      <th>FantasyPoints</th>\n",
       "    </tr>\n",
       "  </thead>\n",
       "  <tbody>\n",
       "    <tr>\n",
       "      <th>count</th>\n",
       "      <td>252.000000</td>\n",
       "      <td>252.000000</td>\n",
       "      <td>252.000000</td>\n",
       "    </tr>\n",
       "    <tr>\n",
       "      <th>mean</th>\n",
       "      <td>10.781746</td>\n",
       "      <td>446.082540</td>\n",
       "      <td>142.022460</td>\n",
       "    </tr>\n",
       "    <tr>\n",
       "      <th>std</th>\n",
       "      <td>5.394772</td>\n",
       "      <td>342.453867</td>\n",
       "      <td>120.715284</td>\n",
       "    </tr>\n",
       "    <tr>\n",
       "      <th>min</th>\n",
       "      <td>3.000000</td>\n",
       "      <td>16.400000</td>\n",
       "      <td>-2.300000</td>\n",
       "    </tr>\n",
       "    <tr>\n",
       "      <th>25%</th>\n",
       "      <td>7.000000</td>\n",
       "      <td>145.800000</td>\n",
       "      <td>16.210000</td>\n",
       "    </tr>\n",
       "    <tr>\n",
       "      <th>50%</th>\n",
       "      <td>10.000000</td>\n",
       "      <td>485.200000</td>\n",
       "      <td>132.960000</td>\n",
       "    </tr>\n",
       "    <tr>\n",
       "      <th>75%</th>\n",
       "      <td>14.250000</td>\n",
       "      <td>611.375000</td>\n",
       "      <td>256.605000</td>\n",
       "    </tr>\n",
       "    <tr>\n",
       "      <th>max</th>\n",
       "      <td>24.000000</td>\n",
       "      <td>1808.800000</td>\n",
       "      <td>415.680000</td>\n",
       "    </tr>\n",
       "  </tbody>\n",
       "</table>\n",
       "</div>"
      ],
      "text/plain": [
       "       Experience          ADP  FantasyPoints\n",
       "count  252.000000   252.000000     252.000000\n",
       "mean    10.781746   446.082540     142.022460\n",
       "std      5.394772   342.453867     120.715284\n",
       "min      3.000000    16.400000      -2.300000\n",
       "25%      7.000000   145.800000      16.210000\n",
       "50%     10.000000   485.200000     132.960000\n",
       "75%     14.250000   611.375000     256.605000\n",
       "max     24.000000  1808.800000     415.680000"
      ]
     },
     "execution_count": 40,
     "metadata": {},
     "output_type": "execute_result"
    }
   ],
   "source": [
    "qb = sn.boxplot(x=\"Exper_Bins\", y=\"FantasyPoints\", data=qb_data.dropna()).set_title('QB Experience and Fantasy Points from 2015-2019')\n",
    "plt.xlabel('NFL Experience')\n",
    "plt.ylabel('Total Fantasy Points')\n",
    "plt.savefig('./Images/BoxPlot_QB.png')\n",
    "plt.show()\n",
    "group1 = qb_data[qb_data[\"Exper_Bins\"] == \"0-5 yrs\"][\"FantasyPoints\"].dropna()\n",
    "group2 = qb_data[qb_data[\"Exper_Bins\"] == \"5-10 yrs\"][\"FantasyPoints\"].dropna()\n",
    "group3 = qb_data[qb_data[\"Exper_Bins\"] == \"10-15 yrs\"][\"FantasyPoints\"].dropna()\n",
    "group4 = qb_data[qb_data[\"Exper_Bins\"] == \"15-20 yrs\"][\"FantasyPoints\"].dropna()\n",
    "group5 = qb_data[qb_data[\"Exper_Bins\"] == \"20-25 yrs\"][\"FantasyPoints\"].dropna()\n",
    "qb = sts.f_oneway(group1, group2, group3, group4, group5)\n",
    "print(f'The p value from the ANOVA test comparing Experience to Fantasy Points for the quarter back position is {qb[1]}.')\n",
    "print(f'This tells us there is not a relationship between Experience and Fantasy Points.')\n",
    "qb_data[['Experience','ADP','FantasyPoints']].dropna().describe()"
   ]
  },
  {
   "cell_type": "code",
   "execution_count": 41,
   "metadata": {},
   "outputs": [
    {
     "data": {
      "image/png": "[encoded data removed]",
      "text/plain": [
       "<Figure size 432x288 with 1 Axes>"
      ]
     },
     "metadata": {
      "needs_background": "light"
     },
     "output_type": "display_data"
    },
    {
     "name": "stdout",
     "output_type": "stream",
     "text": [
      "The p value from the ANOVA test comparing Experience to Fantasy Points for the running back position is 0.14530633668951118.\n",
      "This tells us there could be a relationship between Experience and Fantasy Points.\n"
     ]
    },
    {
     "data": {
      "text/html": [
       "<div>\n",
       "<style scoped>\n",
       "    .dataframe tbody tr th:only-of-type {\n",
       "        vertical-align: middle;\n",
       "    }\n",
       "\n",
       "    .dataframe tbody tr th {\n",
       "        vertical-align: top;\n",
       "    }\n",
       "\n",
       "    .dataframe thead th {\n",
       "        text-align: right;\n",
       "    }\n",
       "</style>\n",
       "<table border=\"1\" class=\"dataframe\">\n",
       "  <thead>\n",
       "    <tr style=\"text-align: right;\">\n",
       "      <th></th>\n",
       "      <th>Experience</th>\n",
       "      <th>ADP</th>\n",
       "      <th>FantasyPoints</th>\n",
       "    </tr>\n",
       "  </thead>\n",
       "  <tbody>\n",
       "    <tr>\n",
       "      <th>count</th>\n",
       "      <td>421.000000</td>\n",
       "      <td>421.000000</td>\n",
       "      <td>421.000000</td>\n",
       "    </tr>\n",
       "    <tr>\n",
       "      <th>mean</th>\n",
       "      <td>7.211401</td>\n",
       "      <td>428.957007</td>\n",
       "      <td>90.745653</td>\n",
       "    </tr>\n",
       "    <tr>\n",
       "      <th>std</th>\n",
       "      <td>3.054343</td>\n",
       "      <td>395.384999</td>\n",
       "      <td>88.167095</td>\n",
       "    </tr>\n",
       "    <tr>\n",
       "      <th>min</th>\n",
       "      <td>1.000000</td>\n",
       "      <td>1.700000</td>\n",
       "      <td>-2.000000</td>\n",
       "    </tr>\n",
       "    <tr>\n",
       "      <th>25%</th>\n",
       "      <td>5.000000</td>\n",
       "      <td>157.600000</td>\n",
       "      <td>14.100000</td>\n",
       "    </tr>\n",
       "    <tr>\n",
       "      <th>50%</th>\n",
       "      <td>7.000000</td>\n",
       "      <td>304.000000</td>\n",
       "      <td>68.400000</td>\n",
       "    </tr>\n",
       "    <tr>\n",
       "      <th>75%</th>\n",
       "      <td>9.000000</td>\n",
       "      <td>589.600000</td>\n",
       "      <td>145.200000</td>\n",
       "    </tr>\n",
       "    <tr>\n",
       "      <th>max</th>\n",
       "      <td>18.000000</td>\n",
       "      <td>2019.900000</td>\n",
       "      <td>469.200000</td>\n",
       "    </tr>\n",
       "  </tbody>\n",
       "</table>\n",
       "</div>"
      ],
      "text/plain": [
       "       Experience          ADP  FantasyPoints\n",
       "count  421.000000   421.000000     421.000000\n",
       "mean     7.211401   428.957007      90.745653\n",
       "std      3.054343   395.384999      88.167095\n",
       "min      1.000000     1.700000      -2.000000\n",
       "25%      5.000000   157.600000      14.100000\n",
       "50%      7.000000   304.000000      68.400000\n",
       "75%      9.000000   589.600000     145.200000\n",
       "max     18.000000  2019.900000     469.200000"
      ]
     },
     "execution_count": 41,
     "metadata": {},
     "output_type": "execute_result"
    }
   ],
   "source": [
    "rb = sn.boxplot(x=\"Exper_Bins\", y=\"FantasyPoints\", data=rb_data.dropna()).set_title('RB Experience and Fantasy Points from 2015-2019')\n",
    "plt.xlabel('NFL Experience')\n",
    "plt.ylabel('Total Fantasy Points')\n",
    "plt.savefig('./Images/BoxPlot_RB.png')\n",
    "plt.show()\n",
    "group1 = rb_data[rb_data[\"Exper_Bins\"] == \"0-5 yrs\"][\"FantasyPoints\"].dropna()\n",
    "group2 = rb_data[rb_data[\"Exper_Bins\"] == \"5-10 yrs\"][\"FantasyPoints\"].dropna()\n",
    "group3 = rb_data[rb_data[\"Exper_Bins\"] == \"10-15 yrs\"][\"FantasyPoints\"].dropna()\n",
    "group4 = rb_data[rb_data[\"Exper_Bins\"] == \"15-20 yrs\"][\"FantasyPoints\"].dropna()\n",
    "rb = sts.f_oneway(group1, group2, group3, group4)\n",
    "print(f'The p value from the ANOVA test comparing Experience to Fantasy Points for the running back position is {rb[1]}.')\n",
    "print(f'This tells us there could be a relationship between Experience and Fantasy Points.')\n",
    "rb_data[['Experience','ADP','FantasyPoints']].dropna().describe()"
   ]
  },
  {
   "cell_type": "code",
   "execution_count": 42,
   "metadata": {},
   "outputs": [
    {
     "data": {
      "image/png": "[encoded data removed]",
      "text/plain": [
       "<Figure size 432x288 with 1 Axes>"
      ]
     },
     "metadata": {
      "needs_background": "light"
     },
     "output_type": "display_data"
    },
    {
     "name": "stdout",
     "output_type": "stream",
     "text": [
      "The p value from the ANOVA test comparing Experience to Fantasy Points for the wide receiver position is 1.016888960141898e-24.\n",
      "This tells us there is not a relationship between Experience and Fantasy Points.\n"
     ]
    },
    {
     "data": {
      "text/html": [
       "<div>\n",
       "<style scoped>\n",
       "    .dataframe tbody tr th:only-of-type {\n",
       "        vertical-align: middle;\n",
       "    }\n",
       "\n",
       "    .dataframe tbody tr th {\n",
       "        vertical-align: top;\n",
       "    }\n",
       "\n",
       "    .dataframe thead th {\n",
       "        text-align: right;\n",
       "    }\n",
       "</style>\n",
       "<table border=\"1\" class=\"dataframe\">\n",
       "  <thead>\n",
       "    <tr style=\"text-align: right;\">\n",
       "      <th></th>\n",
       "      <th>Experience</th>\n",
       "      <th>ADP</th>\n",
       "      <th>FantasyPoints</th>\n",
       "    </tr>\n",
       "  </thead>\n",
       "  <tbody>\n",
       "    <tr>\n",
       "      <th>count</th>\n",
       "      <td>588.000000</td>\n",
       "      <td>588.000000</td>\n",
       "      <td>588.000000</td>\n",
       "    </tr>\n",
       "    <tr>\n",
       "      <th>mean</th>\n",
       "      <td>7.399660</td>\n",
       "      <td>476.594728</td>\n",
       "      <td>98.109116</td>\n",
       "    </tr>\n",
       "    <tr>\n",
       "      <th>std</th>\n",
       "      <td>3.104396</td>\n",
       "      <td>428.235265</td>\n",
       "      <td>86.170850</td>\n",
       "    </tr>\n",
       "    <tr>\n",
       "      <th>min</th>\n",
       "      <td>1.000000</td>\n",
       "      <td>10.100000</td>\n",
       "      <td>-1.500000</td>\n",
       "    </tr>\n",
       "    <tr>\n",
       "      <th>25%</th>\n",
       "      <td>5.000000</td>\n",
       "      <td>151.275000</td>\n",
       "      <td>23.425000</td>\n",
       "    </tr>\n",
       "    <tr>\n",
       "      <th>50%</th>\n",
       "      <td>8.000000</td>\n",
       "      <td>315.400000</td>\n",
       "      <td>71.650000</td>\n",
       "    </tr>\n",
       "    <tr>\n",
       "      <th>75%</th>\n",
       "      <td>9.000000</td>\n",
       "      <td>816.700000</td>\n",
       "      <td>157.175000</td>\n",
       "    </tr>\n",
       "    <tr>\n",
       "      <th>max</th>\n",
       "      <td>19.000000</td>\n",
       "      <td>2011.800000</td>\n",
       "      <td>374.600000</td>\n",
       "    </tr>\n",
       "  </tbody>\n",
       "</table>\n",
       "</div>"
      ],
      "text/plain": [
       "       Experience          ADP  FantasyPoints\n",
       "count  588.000000   588.000000     588.000000\n",
       "mean     7.399660   476.594728      98.109116\n",
       "std      3.104396   428.235265      86.170850\n",
       "min      1.000000    10.100000      -1.500000\n",
       "25%      5.000000   151.275000      23.425000\n",
       "50%      8.000000   315.400000      71.650000\n",
       "75%      9.000000   816.700000     157.175000\n",
       "max     19.000000  2011.800000     374.600000"
      ]
     },
     "execution_count": 42,
     "metadata": {},
     "output_type": "execute_result"
    }
   ],
   "source": [
    "wr = sn.boxplot(x=\"Exper_Bins\", y=\"FantasyPoints\", data=wr_data.dropna()).set_title('WR Experience and Fantasy Points from 2015-2019')\n",
    "plt.xlabel('NFL Experience')\n",
    "plt.ylabel('Total Fantasy Points')\n",
    "plt.savefig('./Images/BoxPlot_WR.png')\n",
    "plt.show()\n",
    "group1 = wr_data[wr_data[\"Exper_Bins\"] == \"0-5 yrs\"][\"FantasyPoints\"].dropna()\n",
    "group2 = wr_data[wr_data[\"Exper_Bins\"] == \"5-10 yrs\"][\"FantasyPoints\"].dropna()\n",
    "group3 = wr_data[wr_data[\"Exper_Bins\"] == \"10-15 yrs\"][\"FantasyPoints\"].dropna()\n",
    "group4 = wr_data[wr_data[\"Exper_Bins\"] == \"15-20 yrs\"][\"FantasyPoints\"].dropna()\n",
    "wr = sts.f_oneway(group1, group2, group3, group4)\n",
    "print(f'The p value from the ANOVA test comparing Experience to Fantasy Points for the wide receiver position is {wr[1]}.')\n",
    "print(f'This tells us there is not a relationship between Experience and Fantasy Points.')\n",
    "wr_data[['Experience','ADP','FantasyPoints']].dropna().describe()"
   ]
  },
  {
   "cell_type": "code",
   "execution_count": 43,
   "metadata": {},
   "outputs": [
    {
     "data": {
      "image/png": "[encoded data removed]",
      "text/plain": [
       "<Figure size 432x288 with 1 Axes>"
      ]
     },
     "metadata": {
      "needs_background": "light"
     },
     "output_type": "display_data"
    },
    {
     "name": "stdout",
     "output_type": "stream",
     "text": [
      "The p value from the ANOVA test comparing Experience to Fantasy Points for the tight end position is 1.5732895768458249e-12.\n",
      "This tells us there is not a relationship between Experience and Fantasy Points.\n"
     ]
    },
    {
     "data": {
      "text/html": [
       "<div>\n",
       "<style scoped>\n",
       "    .dataframe tbody tr th:only-of-type {\n",
       "        vertical-align: middle;\n",
       "    }\n",
       "\n",
       "    .dataframe tbody tr th {\n",
       "        vertical-align: top;\n",
       "    }\n",
       "\n",
       "    .dataframe thead th {\n",
       "        text-align: right;\n",
       "    }\n",
       "</style>\n",
       "<table border=\"1\" class=\"dataframe\">\n",
       "  <thead>\n",
       "    <tr style=\"text-align: right;\">\n",
       "      <th></th>\n",
       "      <th>Experience</th>\n",
       "      <th>ADP</th>\n",
       "      <th>FantasyPoints</th>\n",
       "    </tr>\n",
       "  </thead>\n",
       "  <tbody>\n",
       "    <tr>\n",
       "      <th>count</th>\n",
       "      <td>358.000000</td>\n",
       "      <td>358.000000</td>\n",
       "      <td>358.000000</td>\n",
       "    </tr>\n",
       "    <tr>\n",
       "      <th>mean</th>\n",
       "      <td>8.013966</td>\n",
       "      <td>536.116760</td>\n",
       "      <td>62.869274</td>\n",
       "    </tr>\n",
       "    <tr>\n",
       "      <th>std</th>\n",
       "      <td>3.349372</td>\n",
       "      <td>303.356988</td>\n",
       "      <td>61.840922</td>\n",
       "    </tr>\n",
       "    <tr>\n",
       "      <th>min</th>\n",
       "      <td>3.000000</td>\n",
       "      <td>25.200000</td>\n",
       "      <td>-0.200000</td>\n",
       "    </tr>\n",
       "    <tr>\n",
       "      <th>25%</th>\n",
       "      <td>5.000000</td>\n",
       "      <td>385.400000</td>\n",
       "      <td>15.650000</td>\n",
       "    </tr>\n",
       "    <tr>\n",
       "      <th>50%</th>\n",
       "      <td>8.000000</td>\n",
       "      <td>515.000000</td>\n",
       "      <td>39.950000</td>\n",
       "    </tr>\n",
       "    <tr>\n",
       "      <th>75%</th>\n",
       "      <td>11.000000</td>\n",
       "      <td>656.050000</td>\n",
       "      <td>92.450000</td>\n",
       "    </tr>\n",
       "    <tr>\n",
       "      <th>max</th>\n",
       "      <td>19.000000</td>\n",
       "      <td>2021.000000</td>\n",
       "      <td>294.600000</td>\n",
       "    </tr>\n",
       "  </tbody>\n",
       "</table>\n",
       "</div>"
      ],
      "text/plain": [
       "       Experience          ADP  FantasyPoints\n",
       "count  358.000000   358.000000     358.000000\n",
       "mean     8.013966   536.116760      62.869274\n",
       "std      3.349372   303.356988      61.840922\n",
       "min      3.000000    25.200000      -0.200000\n",
       "25%      5.000000   385.400000      15.650000\n",
       "50%      8.000000   515.000000      39.950000\n",
       "75%     11.000000   656.050000      92.450000\n",
       "max     19.000000  2021.000000     294.600000"
      ]
     },
     "execution_count": 43,
     "metadata": {},
     "output_type": "execute_result"
    }
   ],
   "source": [
    "te = sn.boxplot(x=\"Exper_Bins\", y=\"FantasyPoints\", data=te_data.dropna()).set_title('TE Experience and Fantasy Points from 2015-2019')\n",
    "plt.xlabel('NFL Experience')\n",
    "plt.ylabel('Total Fantasy Points')\n",
    "plt.savefig('./Images/BoxPlot_TE.png')\n",
    "plt.show()\n",
    "group1 = te_data[te_data[\"Exper_Bins\"] == \"0-5 yrs\"][\"FantasyPoints\"].dropna()\n",
    "group2 = te_data[te_data[\"Exper_Bins\"] == \"5-10 yrs\"][\"FantasyPoints\"].dropna()\n",
    "group3 = te_data[te_data[\"Exper_Bins\"] == \"10-15 yrs\"][\"FantasyPoints\"].dropna()\n",
    "group4 = te_data[te_data[\"Exper_Bins\"] == \"15-20 yrs\"][\"FantasyPoints\"].dropna()\n",
    "te = sts.f_oneway(group1, group2, group3, group4)\n",
    "print(f'The p value from the ANOVA test comparing Experience to Fantasy Points for the tight end position is {te[1]}.')\n",
    "print(f'This tells us there is not a relationship between Experience and Fantasy Points.')\n",
    "te_data[['Experience','ADP','FantasyPoints']].dropna().describe()"
   ]
  },
  {
   "cell_type": "code",
   "execution_count": 44,
   "metadata": {},
   "outputs": [],
   "source": [
    "# Assemble new dataframes of runningbacks / Set Index to Positions / Set by year \n",
    "\n",
    "#2019\n",
    "skill_data_19 = csv_df19.set_index([\"Pos\"]).drop(['QB','0','WR','TE'])\n",
    "\n",
    "# 2018\n",
    "skill_data_18 = csv_df18.set_index([\"Pos\"]).drop(['QB','0','WR','TE'])\n",
    "\n",
    "#2017\n",
    "skill_data_17 = csv_df17.set_index([\"Pos\"]).drop(['QB','0','WR','TE'])\n",
    "\n",
    "#2016\n",
    "skill_data_16 = csv_df16.set_index([\"Pos\"]).drop(['QB','0','WR','TE'])\n",
    "\n",
    "#2015\n",
    "skill_data_15 = csv_df15.set_index([\"Pos\"]).drop(['QB','0','WR','TE'])"
   ]
  },
  {
   "cell_type": "code",
   "execution_count": 45,
   "metadata": {},
   "outputs": [],
   "source": [
    "# find histogram \n",
    "# set columns \n",
    "\n",
    "fantasypoints_19 = skill_data_19[\"FantasyPoints\"]\n",
    "fantasypoints_18 = skill_data_18[\"FantasyPoints\"]\n",
    "fantasypoints_17 = skill_data_17[\"FantasyPoints\"]\n",
    "fantasypoints_16 = skill_data_16[\"FantasyPoints\"]\n",
    "fantasypoints_15 = skill_data_15[\"FantasyPoints\"]\n",
    "\n",
    "recs_15 = skill_data_15[\"Rec\"]\n",
    "recs_16 = skill_data_16[\"Rec\"]\n",
    "recs_17 = skill_data_17[\"Rec\"]\n",
    "recs_18 = skill_data_18[\"Rec\"]\n",
    "recs_19 = skill_data_19[\"Rec\"]"
   ]
  },
  {
   "cell_type": "code",
   "execution_count": 46,
   "metadata": {},
   "outputs": [
    {
     "data": {
      "image/png": "[encoded data removed]",
      "text/plain": [
       "<Figure size 432x288 with 1 Axes>"
      ]
     },
     "metadata": {
      "needs_background": "light"
     },
     "output_type": "display_data"
    }
   ],
   "source": [
    "# Plot Box Plot\n",
    "box_labels = ['2015','2016','2017','2018','2019']\n",
    "pts_boxes = [fantasypoints_15,fantasypoints_16,fantasypoints_17,fantasypoints_18,fantasypoints_19]\n",
    "plt.ylabel(\"Total Fantasy Points\")\n",
    "plt.xlabel(\"Year\")\n",
    "plt.title(\"Runningbacks Total Fantasy Points\")\n",
    "\n",
    "plot_1 = plt.boxplot(pts_boxes, labels=box_labels)\n",
    "\n",
    "plt.show() "
   ]
  },
  {
   "cell_type": "code",
   "execution_count": 47,
   "metadata": {},
   "outputs": [
    {
     "data": {
      "image/png": "[encoded data removed]",
      "text/plain": [
       "<Figure size 432x288 with 1 Axes>"
      ]
     },
     "metadata": {
      "needs_background": "light"
     },
     "output_type": "display_data"
    }
   ],
   "source": [
    "recs_boxes = [recs_15,recs_16,recs_17,recs_18,recs_19]\n",
    "plt.xlabel(\"Year\")\n",
    "plt.ylabel(\"Total Receptions\")\n",
    "plt.title(\"Runningback Total Receptions\")\n",
    "\n",
    "plot_2 = plt.boxplot(recs_boxes, labels=box_labels)"
   ]
  },
  {
   "cell_type": "code",
   "execution_count": 48,
   "metadata": {},
   "outputs": [],
   "source": [
    "# Find quartiles\n",
    "desc_fantpts_19 = skill_data_19.describe()[\"FantasyPoints\"]\n",
    "desc_fantpts_18 = skill_data_18.describe()[\"FantasyPoints\"]\n",
    "desc_fantpts_17 = skill_data_17.describe()[\"FantasyPoints\"]\n",
    "desc_fantpts_16 = skill_data_16.describe()[\"FantasyPoints\"]\n",
    "desc_fantpts_15 = skill_data_15.describe()[\"FantasyPoints\"]"
   ]
  },
  {
   "cell_type": "code",
   "execution_count": 49,
   "metadata": {},
   "outputs": [],
   "source": [
    "# Establish top quartile per year\n",
    "top_q_scorers_15 = skill_data_15[skill_data_15[\"FantasyPoints\"].ge(117)]\n",
    "top_q_scorers_16 = skill_data_16[skill_data_16[\"FantasyPoints\"].ge(107)]\n",
    "top_q_scorers_17 = skill_data_17[skill_data_17[\"FantasyPoints\"].ge(123.4)]\n",
    "top_q_scorers_18 =skill_data_18[skill_data_18[\"FantasyPoints\"].ge(123.8)]\n",
    "top_q_scorers_19 = skill_data_19[skill_data_19[\"FantasyPoints\"].ge(136.4)]\n",
    "\n",
    "# Build Columns of Rushing/Receiving Yds per Year, then Put into DF\n",
    "# 2019\n",
    "tq_rushyds_19 = top_q_scorers_19[\"RushingYds\"]\n",
    "tq_recyds_19 = top_q_scorers_19[\"ReceivingYds\"]\n",
    "tq_totalyds_19 = tq_rushyds_19 + tq_recyds_19\n",
    "\n",
    "#2018\n",
    "tq_rushyds_18 = top_q_scorers_18[\"RushingYds\"]\n",
    "tq_recyds_18 = top_q_scorers_18[\"ReceivingYds\"]\n",
    "tq_totalyds_18 = tq_rushyds_18 + tq_recyds_18\n",
    "\n",
    "#2017\n",
    "tq_rushyds_17 = top_q_scorers_17[\"RushingYds\"]\n",
    "tq_recyds_17 = top_q_scorers_17[\"ReceivingYds\"]\n",
    "tq_totalyds_17 = tq_rushyds_17 + tq_recyds_17\n",
    "\n",
    "#2016\n",
    "tq_rushyds_16 = top_q_scorers_16[\"RushingYds\"]\n",
    "tq_recyds_16 = top_q_scorers_16[\"ReceivingYds\"]\n",
    "tq_totalyds_16 = tq_rushyds_16 + tq_recyds_16\n",
    "\n",
    "#2015\n",
    "tq_rushyds_15 = top_q_scorers_15[\"RushingYds\"]\n",
    "tq_recyds_15 = top_q_scorers_15[\"ReceivingYds\"]\n",
    "tq_totalyds_15 = tq_rushyds_15 + tq_recyds_15"
   ]
  },
  {
   "cell_type": "code",
   "execution_count": 50,
   "metadata": {},
   "outputs": [
    {
     "data": {
      "image/png": "[encoded data removed]",
      "text/plain": [
       "<Figure size 360x360 with 1 Axes>"
      ]
     },
     "metadata": {},
     "output_type": "display_data"
    },
    {
     "data": {
      "image/png": "[encoded data removed]",
      "text/plain": [
       "<Figure size 360x360 with 1 Axes>"
      ]
     },
     "metadata": {},
     "output_type": "display_data"
    },
    {
     "data": {
      "image/png": "[encoded data removed]",
      "text/plain": [
       "<Figure size 360x360 with 1 Axes>"
      ]
     },
     "metadata": {},
     "output_type": "display_data"
    },
    {
     "data": {
      "image/png": "[encoded data removed]",
      "text/plain": [
       "<Figure size 360x360 with 1 Axes>"
      ]
     },
     "metadata": {},
     "output_type": "display_data"
    },
    {
     "data": {
      "image/png": "[encoded data removed]",
      "text/plain": [
       "<Figure size 360x360 with 1 Axes>"
      ]
     },
     "metadata": {},
     "output_type": "display_data"
    }
   ],
   "source": [
    "# plot the pie charts -- TOP QUARTILE\n",
    "labels = [\"Receiving Yds\",\"Rushing Yds\"]\n",
    "\n",
    "# 2015\n",
    "sum_15_rushing = tq_rushyds_15.sum()\n",
    "sum_15_receiving = tq_recyds_15.sum()\n",
    "sizes_15 = [sum_15_receiving,sum_15_rushing]\n",
    "plt.figure(figsize=(5,5))\n",
    "plt.pie(sizes_15,labels=labels,autopct='%1.1f%%')\n",
    "plt.title(\"Top Quartile Scoring RB Yardage Share (2015)\")\n",
    "\n",
    "# 2016\n",
    "sum_16_rushing = tq_rushyds_16.sum()\n",
    "sum_16_receiving = tq_recyds_16.sum()\n",
    "sizes_16 = [sum_16_receiving,sum_16_rushing]\n",
    "plt.figure(figsize=(5,5))\n",
    "plt.pie(sizes_16, labels=labels, autopct='%1.1f%%')\n",
    "plt.title(\"Top Quartile Scoring RB Yardage Share (2016)\")\n",
    "\n",
    "# 2017 \n",
    "sum_17_rushing = tq_rushyds_17.sum()\n",
    "sum_17_receiving = tq_recyds_17.sum()\n",
    "sizes_17 = [sum_17_receiving,sum_17_rushing]\n",
    "plt.figure(figsize=(5,5))\n",
    "plt.pie(sizes_17, labels=labels, autopct='%1.1f%%')\n",
    "plt.title(\"Top Quartile Scoring RB Yardage Share (2017)\")\n",
    "\n",
    "# 2018 \n",
    "sum_18_rushing = tq_rushyds_18.sum()\n",
    "sum_18_receiving = tq_recyds_18.sum()\n",
    "sizes_18 = [sum_16_receiving,sum_18_rushing]\n",
    "plt.figure(figsize=(5,5))\n",
    "plt.pie(sizes_18, labels=labels, autopct='%1.1f%%')\n",
    "plt.title(\"Top Quartile Scoring RB Yardage Share (2018)\")\n",
    "\n",
    "# 2019\n",
    "sum_19_rushing = tq_rushyds_19.sum()\n",
    "sum_19_receiving = tq_recyds_19.sum()\n",
    "sizes_19 = [sum_16_receiving,sum_19_rushing]\n",
    "plt.figure(figsize=(5,5))\n",
    "plt.pie(sizes_19, labels=labels, autopct='%1.1f%%')\n",
    "plt.title(\"Top Quartile Scoring RB Yardage Share (2019)\")\n",
    "plt.show()"
   ]
  },
  {
   "cell_type": "code",
   "execution_count": 53,
   "metadata": {},
   "outputs": [
    {
     "ename": "NameError",
     "evalue": "name 'sizes_60' is not defined",
     "output_type": "error",
     "traceback": [
      "\u001b[0;31m---------------------------------------------------------------------------\u001b[0m",
      "\u001b[0;31mNameError\u001b[0m                                 Traceback (most recent call last)",
      "\u001b[0;32m<ipython-input-53-a8f9a910683b>\u001b[0m in \u001b[0;36m<module>\u001b[0;34m\u001b[0m\n\u001b[1;32m      7\u001b[0m \u001b[0msizes_51\u001b[0m \u001b[0;34m=\u001b[0m \u001b[0;34m[\u001b[0m\u001b[0mwhole_sum_rec_15\u001b[0m\u001b[0;34m,\u001b[0m\u001b[0mwhole_sum_rush_15\u001b[0m\u001b[0;34m]\u001b[0m\u001b[0;34m\u001b[0m\u001b[0;34m\u001b[0m\u001b[0m\n\u001b[1;32m      8\u001b[0m \u001b[0mplt\u001b[0m\u001b[0;34m.\u001b[0m\u001b[0mfigure\u001b[0m\u001b[0;34m(\u001b[0m\u001b[0mfigsize\u001b[0m\u001b[0;34m=\u001b[0m\u001b[0;34m(\u001b[0m\u001b[0;36m5\u001b[0m\u001b[0;34m,\u001b[0m\u001b[0;36m5\u001b[0m\u001b[0;34m)\u001b[0m\u001b[0;34m)\u001b[0m\u001b[0;34m\u001b[0m\u001b[0;34m\u001b[0m\u001b[0m\n\u001b[0;32m----> 9\u001b[0;31m \u001b[0mplt\u001b[0m\u001b[0;34m.\u001b[0m\u001b[0mpie\u001b[0m\u001b[0;34m(\u001b[0m\u001b[0msizes_60\u001b[0m\u001b[0;34m,\u001b[0m\u001b[0mlabels\u001b[0m\u001b[0;34m=\u001b[0m\u001b[0mlabels\u001b[0m\u001b[0;34m,\u001b[0m \u001b[0mautopct\u001b[0m \u001b[0;34m=\u001b[0m \u001b[0;34m'%1.1f%%'\u001b[0m\u001b[0;34m)\u001b[0m\u001b[0;34m\u001b[0m\u001b[0;34m\u001b[0m\u001b[0m\n\u001b[0m\u001b[1;32m     10\u001b[0m \u001b[0mplt\u001b[0m\u001b[0;34m.\u001b[0m\u001b[0mtitle\u001b[0m\u001b[0;34m(\u001b[0m\u001b[0;34m\"Complete Runningback Yardage Share (2015)\"\u001b[0m\u001b[0;34m)\u001b[0m\u001b[0;34m\u001b[0m\u001b[0;34m\u001b[0m\u001b[0m\n\u001b[1;32m     11\u001b[0m \u001b[0;34m\u001b[0m\u001b[0m\n",
      "\u001b[0;31mNameError\u001b[0m: name 'sizes_60' is not defined"
     ]
    },
    {
     "data": {
      "text/plain": [
       "<Figure size 360x360 with 0 Axes>"
      ]
     },
     "metadata": {},
     "output_type": "display_data"
    }
   ],
   "source": [
    "# Full League Split --- Rushing vs. Receiving\n",
    "labels = [\"Receiving Yds\", \"Rushing Yds\"]\n",
    "\n",
    "# 2015\n",
    "whole_sum_rush_15 = skill_data_15[\"RushingYds\"].sum()\n",
    "whole_sum_rec_15 = skill_data_15[\"ReceivingYds\"].sum()\n",
    "sizes_51 = [whole_sum_rec_15,whole_sum_rush_15]\n",
    "plt.figure(figsize=(5,5))\n",
    "plt.pie(sizes_60,labels=labels, autopct = '%1.1f%%')\n",
    "plt.title(\"Complete Runningback Yardage Share (2015)\")\n",
    "\n",
    "#2016\n",
    "whole_sum_rush_16 = skill_data_16[\"RushingYds\"].sum()\n",
    "whole_sum_rec_16 = skill_data_16[\"ReceivingYds\"].sum()\n",
    "sizes_61 = [whole_sum_rec_16,whole_sum_rush_16]\n",
    "plt.figure(figsize=(5,5))\n",
    "plt.pie(sizes_61,labels=labels, autopct = '%1.1f%%')\n",
    "plt.title(\"Complete Runningback Yardage Share (2016)\")\n",
    "\n",
    "#2017\n",
    "whole_sum_rush_17 = skill_data_17[\"RushingYds\"].sum()\n",
    "whole_sum_rec_17 = skill_data_17[\"ReceivingYds\"].sum()\n",
    "sizes_71 = [whole_sum_rec_17,whole_sum_rush_17]\n",
    "plt.figure(figsize=(5,5))\n",
    "plt.pie(sizes_71,labels=labels, autopct = '%1.1f%%')\n",
    "plt.title(\"Complete Runningback Yardage Share (2017)\")\n",
    "\n",
    "#2018\n",
    "whole_sum_rush_18 = skill_data_18[\"RushingYds\"].sum()\n",
    "whole_sum_rec_18 = skill_data_18[\"ReceivingYds\"].sum()\n",
    "sizes_81 = [whole_sum_rec_18,whole_sum_rush_18]\n",
    "plt.figure(figsize=(5,5))\n",
    "plt.pie(sizes_81,labels=labels, autopct = '%1.1f%%')\n",
    "plt.title(\"Complete Runningback Yardage Share (2018)\")\n",
    "\n",
    "#2019\n",
    "whole_sum_rush_19 = skill_data_19[\"RushingYds\"].sum()\n",
    "whole_sum_rec_19 = skill_data_19[\"ReceivingYds\"].sum()\n",
    "sizes_91 = [whole_sum_rec_19,whole_sum_rush_19]\n",
    "plt.figure(figsize=(5,5))\n",
    "plt.pie(sizes_91,labels=labels, autopct = '%1.1f%%')\n",
    "plt.title(\"Complete Runningback Yardage Share (2019)\")\n",
    "plt.show()"
   ]
  },
  {
   "cell_type": "markdown",
   "metadata": {},
   "source": [
    "## Prior to our study, we predicted that the top scoring fantasy runningbacks would have more catches and receiving yards than the remainder of the runningback population.\n",
    "\n",
    "## However, as shown above: The top scoring runningbacks actually derived a smaller share of their total yardage from receiving yards relative to the whole runningback population.\n",
    "\n",
    "## 2015: Top 25%: 29.9% vs. Complete: 31.0%\n",
    "## 2016: Top 25%: 28.0% vs. Complete: 30.4%\n",
    "## 2017: Top 25%: 30.5% vs. Complete 32.1%\n",
    "## 2018: Top 25%: 29.3% vs. Complete: 31.5%\n",
    "## 2019: Top 25%: 28.2% vs. Complete 31.0%"
   ]
  },
  {
   "cell_type": "code",
   "execution_count": 51,
   "metadata": {},
   "outputs": [],
   "source": [
    "# Set up Variables for Mean Testing\n",
    "\n",
    "# 2015 \n",
    "tq_rec_15 = top_q_scorers_15[\"Rec\"]\n",
    "all_rec_15 = skill_data_15[\"Rec\"]\n",
    "tq_meanrec_15 = top_q_scorers_15[\"Rec\"].mean()\n",
    "all_meanrec_15 = skill_data_15[\"Rec\"].mean()\n",
    "\n",
    "# 2016\n",
    "tq_rec_16 = top_q_scorers_16[\"Rec\"]\n",
    "all_rec_16 = skill_data_16[\"Rec\"]\n",
    "tq_meanrec_16 = top_q_scorers_16[\"Rec\"].mean()\n",
    "all_meanrec_16 = skill_data_16[\"Rec\"].mean()\n",
    "\n",
    "# 2017\n",
    "tq_rec_17 = top_q_scorers_17[\"Rec\"]\n",
    "all_rec_17 = skill_data_17[\"Rec\"]\n",
    "tq_meanrec_17 = top_q_scorers_17[\"Rec\"].mean()\n",
    "all_meanrec_17 = skill_data_17[\"Rec\"].mean()\n",
    "\n",
    "# 2018\n",
    "tq_rec_18 = top_q_scorers_18[\"Rec\"]\n",
    "all_rec_18 = skill_data_18[\"Rec\"]\n",
    "tq_meanrec_18 = top_q_scorers_18[\"Rec\"].mean()\n",
    "all_meanrec_18 = skill_data_18[\"Rec\"].mean()\n",
    "\n",
    "# 2019\n",
    "tq_rec_19 = top_q_scorers_19[\"Rec\"]\n",
    "all_rec_19 = skill_data_19[\"Rec\"]\n",
    "tq_meanrec_19 = top_q_scorers_19[\"Rec\"].mean()\n",
    "all_meanrec_19 = skill_data_19[\"Rec\"].mean()"
   ]
  },
  {
   "cell_type": "code",
   "execution_count": 52,
   "metadata": {},
   "outputs": [
    {
     "data": {
      "image/png": "[encoded data removed]",
      "text/plain": [
       "<Figure size 360x360 with 1 Axes>"
      ]
     },
     "metadata": {
      "needs_background": "light"
     },
     "output_type": "display_data"
    },
    {
     "data": {
      "image/png": "[encoded data removed]",
      "text/plain": [
       "<Figure size 360x360 with 1 Axes>"
      ]
     },
     "metadata": {
      "needs_background": "light"
     },
     "output_type": "display_data"
    },
    {
     "data": {
      "image/png": "[encoded data removed]",
      "text/plain": [
       "<Figure size 360x360 with 1 Axes>"
      ]
     },
     "metadata": {
      "needs_background": "light"
     },
     "output_type": "display_data"
    },
    {
     "data": {
      "image/png": "[encoded data removed]",
      "text/plain": [
       "<Figure size 360x360 with 1 Axes>"
      ]
     },
     "metadata": {
      "needs_background": "light"
     },
     "output_type": "display_data"
    },
    {
     "data": {
      "image/png": "[encoded data removed]",
      "text/plain": [
       "<Figure size 360x360 with 1 Axes>"
      ]
     },
     "metadata": {
      "needs_background": "light"
     },
     "output_type": "display_data"
    }
   ],
   "source": [
    "# Plot Histogram/Box of Fantasy Points \n",
    "\n",
    "# 2015\n",
    "\n",
    "plt.figure(figsize=(5,5))\n",
    "plt.title(\"'15 Reception Distribution - Top 25% RBs vs Population\")\n",
    "plt.hist(tq_rec_15, density=True, alpha=0.7, label = \"Top Quartile\")\n",
    "plt.hist(all_rec_15, density=True, alpha=0.7, label = \"All RBs\")\n",
    "plt.axvline(tq_meanrec_15, color='red', linewidth = 1,label=\"Sample Mean\")\n",
    "plt.axvline(all_meanrec_15, color='black',linewidth = 1, label=\"Population Mean\")\n",
    "plt.legend()\n",
    "\n",
    "#2016\n",
    "\n",
    "plt.figure(figsize=(5,5))\n",
    "plt.title(\"'16 Reception Distribution - Top 25% RBs vs Population\")\n",
    "plt.hist(tq_rec_16, density=True, alpha=0.7, label = \"Top Quartile\")\n",
    "plt.hist(all_rec_16, density=True, alpha=0.7, label = \"All RBs\")\n",
    "plt.axvline(tq_meanrec_16, color='red', linewidth = 1,label=\"Sample Mean\")\n",
    "plt.axvline(all_meanrec_16, color='black',linewidth = 1, label=\"Population Mean\")\n",
    "plt.legend()\n",
    "\n",
    "# 2017\n",
    "\n",
    "plt.figure(figsize=(5,5))\n",
    "plt.title(\"'17 Reception Distribution - Top 25% RBs vs Population\")\n",
    "plt.hist(tq_rec_17, density=True, alpha=0.7, label = \"Top Quartile\")\n",
    "plt.hist(all_rec_17, density=True, alpha=0.7, label = \"All RBs\")\n",
    "plt.axvline(tq_meanrec_17, color='red', linewidth = 1,label=\"Sample Mean\")\n",
    "plt.axvline(all_meanrec_17, color='black',linewidth = 1, label=\"Population Mean\")\n",
    "plt.legend()\n",
    "\n",
    "#2018\n",
    "\n",
    "plt.figure(figsize=(5,5))\n",
    "plt.title(\"'18 Reception Distribution - Top 25% RBs vs Population\")\n",
    "plt.hist(tq_rec_18, density=True, alpha=0.7, label = \"Top Quartile\")\n",
    "plt.hist(all_rec_18, density=True, alpha=0.7, label = \"All RBs\")\n",
    "plt.axvline(tq_meanrec_18, color='red', linewidth = 1,label=\"Sample Mean\")\n",
    "plt.axvline(all_meanrec_18, color='black',linewidth = 1, label=\"Population Mean\")\n",
    "plt.legend()\n",
    "\n",
    "# 2019\n",
    "\n",
    "plt.figure(figsize=(5,5))\n",
    "plt.title(\"'19 Reception Distribution - Top 25% RBs vs Population\")\n",
    "plt.hist(tq_rec_19, density=True, alpha=0.7, label = \"Top Quartile\")\n",
    "plt.hist(all_rec_19, density=True, alpha=0.7, label = \"All RBs\")\n",
    "plt.axvline(tq_meanrec_19, color='red', linewidth = 1,label=\"Sample Mean\")\n",
    "plt.axvline(all_meanrec_19, color='black',linewidth = 1, label=\"Population Mean\")\n",
    "plt.legend()\n",
    "\n",
    "\n",
    "plt.show()"
   ]
  }
 ],
 "metadata": {
  "kernelspec": {
   "display_name": "Python 3",
   "language": "python",
   "name": "python3"
  },
  "language_info": {
   "codemirror_mode": {
    "name": "ipython",
    "version": 3
   },
   "file_extension": ".py",
   "mimetype": "text/x-python",
   "name": "python",
   "nbconvert_exporter": "python",
   "pygments_lexer": "ipython3",
   "version": "3.8.5"
  }
 },
 "nbformat": 4,
 "nbformat_minor": 4
}
