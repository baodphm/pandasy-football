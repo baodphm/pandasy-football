{
 "cells": [
  {
   "cell_type": "markdown",
   "metadata": {},
   "source": [
    "## JR:\n",
    "### Does age impact total fantasy points?\n",
    "* Graph for each position (QB, RB, WR, TE - different color for each year on same graph)\n",
    "* Info from csv\n",
    "* One graph for each position (QB, RB, WR, TE)\n",
    "* Scatter plot with regression line\n",
    "\n",
    "### Does height affect total fantasy points?\n",
    "* Graph for each position (QB, RB, WR, TE - different color for each year on same graph)\n",
    "* Info from csv\n",
    "* One graph for each position (QB, RB, WR, TE)\n",
    "* Scatter plot with regression line\n",
    "\n",
    "* Age vs total points (scatter plot of all positions together plus each indiv pos)\n",
    "* repeated for weight, repeated for height\n",
    "\n",
    "## Bao\n",
    "### Has fantasy scoring gone up in the last 5 years?\n",
    "* Line chart (one chart with all 4 positions, going back X years)\n",
    "\n",
    "### Which NFL team scores the most fantasy points per year?\n",
    "* Bubble graph\n",
    "* 32 teams? \n",
    "* By division?\n",
    "\n",
    "## Tom\n",
    "### Does defense win championships? \n",
    "* God speed\n",
    "\n",
    "### Do RB with more receiving yards have more total fantasy points than RB that caught the ball more?\n",
    "* Histogram/box plot\n",
    "* Go TOM!\n",
    "\n",
    "## Tiffany\n",
    "### Does NFL experience affect total fantasy points?\n",
    "* Need to link in API data with csv (College draft year v total fantasy points)\n",
    "\n",
    "### Average experience for top 60 players for last 5 years?\n",
    "* Line chart\n",
    "* Breakdown by position"
   ]
  },
  {
   "cell_type": "code",
   "execution_count": null,
   "metadata": {},
   "outputs": [],
   "source": []
  }
 ],
 "metadata": {
  "kernelspec": {
   "display_name": "Python 3",
   "language": "python",
   "name": "python3"
  },
  "language_info": {
   "codemirror_mode": {
    "name": "ipython",
    "version": 3
   },
   "file_extension": ".py",
   "mimetype": "text/x-python",
   "name": "python",
   "nbconvert_exporter": "python",
   "pygments_lexer": "ipython3",
   "version": "3.8.3"
  }
 },
 "nbformat": 4,
 "nbformat_minor": 4
}
